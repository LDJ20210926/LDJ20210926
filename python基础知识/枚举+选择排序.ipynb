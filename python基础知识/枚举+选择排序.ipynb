{
 "cells": [
  {
   "cell_type": "code",
   "execution_count": 3,
   "metadata": {},
   "outputs": [
    {
     "name": "stdout",
     "output_type": "stream",
     "text": [
      "a\n",
      "abc\n",
      "jk\n",
      "opop\n"
     ]
    }
   ],
   "source": [
    "l1=[\"a\",\"abc\",\"jk\",\"opop\"]\n",
    "for l in l1:\n",
    "    print(l)"
   ]
  },
  {
   "cell_type": "raw",
   "metadata": {},
   "source": [
    "enumerate():函数用于将一个可遍历的数据对象(如列表，元组或字符串)组合为一个索引序列"
   ]
  },
  {
   "cell_type": "code",
   "execution_count": 4,
   "metadata": {},
   "outputs": [
    {
     "name": "stdout",
     "output_type": "stream",
     "text": [
      "0 a\n",
      "1 abc\n",
      "2 jk\n",
      "3 opop\n"
     ]
    }
   ],
   "source": [
    "for index,value in enumerate(l1):\n",
    "    print(index,value)"
   ]
  },
  {
   "cell_type": "code",
   "execution_count": 5,
   "metadata": {},
   "outputs": [
    {
     "name": "stdout",
     "output_type": "stream",
     "text": [
      "0 h\n",
      "1 a\n",
      "2 p\n",
      "3 p\n",
      "4 y\n"
     ]
    }
   ],
   "source": [
    "for index,value in enumerate(\"happy\"):\n",
    "    print(index,value)"
   ]
  },
  {
   "cell_type": "raw",
   "metadata": {},
   "source": [
    "冒泡排序：\n"
   ]
  },
  {
   "cell_type": "code",
   "execution_count": 9,
   "metadata": {},
   "outputs": [],
   "source": [
    "numbers=[1,9,2,5,6,3,3,8]"
   ]
  },
  {
   "cell_type": "code",
   "execution_count": 20,
   "metadata": {},
   "outputs": [
    {
     "name": "stdout",
     "output_type": "stream",
     "text": [
      "[9, 8, 6, 5, 3, 3, 2, 1]\n"
     ]
    }
   ],
   "source": [
    "numbers=[1,9,2,5,6,3,3,8]\n",
    "for i in range(len(numbers)):\n",
    "    for j in range(i+1,len(numbers)):\n",
    "        if numbers[i]<numbers[j]:\n",
    "            numbers[i],numbers[j]=numbers[j],numbers[i]\n",
    "            \n",
    "print(numbers)"
   ]
  },
  {
   "cell_type": "markdown",
   "metadata": {},
   "source": [
    "冒泡排序如上"
   ]
  },
  {
   "cell_type": "code",
   "execution_count": 22,
   "metadata": {},
   "outputs": [
    {
     "name": "stdout",
     "output_type": "stream",
     "text": [
      "[0, 1, 4, 7]\n"
     ]
    }
   ],
   "source": [
    "mylist=[4,1,7,0]\n",
    "for i in range(len(mylist)-1):\n",
    "    for j in range(0,len(mylist)-1-i):\n",
    "        if mylist[j]>mylist[j+1]:\n",
    "            mylist[j],mylist[j+1]=mylist[j+1],mylist[j]\n",
    "\n",
    "print(mylist)\n"
   ]
  },
  {
   "cell_type": "markdown",
   "metadata": {},
   "source": [
    "两个for 循环的奥秘"
   ]
  },
  {
   "cell_type": "raw",
   "metadata": {},
   "source": [
    "通讯录管理系统\n",
    "1.增加姓名和手机\n",
    "2.删除姓名\n",
    "3.修改手机\n",
    "4.查询所有用户\n",
    "5.根据姓名查找手机号\n",
    "6.退出"
   ]
  }
 ],
 "metadata": {
  "kernelspec": {
   "display_name": "Python 3",
   "language": "python",
   "name": "python3"
  },
  "language_info": {
   "codemirror_mode": {
    "name": "ipython",
    "version": 3
   },
   "file_extension": ".py",
   "mimetype": "text/x-python",
   "name": "python",
   "nbconvert_exporter": "python",
   "pygments_lexer": "ipython3",
   "version": "3.7.6"
  }
 },
 "nbformat": 4,
 "nbformat_minor": 4
}
