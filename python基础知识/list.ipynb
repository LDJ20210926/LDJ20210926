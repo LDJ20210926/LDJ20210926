{
 "cells": [
  {
   "cell_type": "raw",
   "metadata": {},
   "source": [
    "List表：\n",
    "作用:类似其他语言的数组。数组：数字的组合 字母的组合 字符串的组合\n",
    "[]元素获取，与字符串下标一致"
   ]
  },
  {
   "cell_type": "code",
   "execution_count": 1,
   "metadata": {},
   "outputs": [
    {
     "name": "stdout",
     "output_type": "stream",
     "text": [
      "1930831283912\n",
      "1930831283144\n"
     ]
    }
   ],
   "source": [
    "names=[\"jack\",\"tom\",\"superman\",\"iron man\"]\n",
    "computer=[]\n",
    "print(id(names))\n",
    "print(id(computer))"
   ]
  },
  {
   "cell_type": "code",
   "execution_count": 2,
   "metadata": {},
   "outputs": [
    {
     "data": {
      "text/plain": [
       "'jack'"
      ]
     },
     "execution_count": 2,
     "metadata": {},
     "output_type": "execute_result"
    }
   ],
   "source": [
    "names[0]"
   ]
  },
  {
   "cell_type": "code",
   "execution_count": 3,
   "metadata": {},
   "outputs": [
    {
     "data": {
      "text/plain": [
       "'iron man'"
      ]
     },
     "execution_count": 3,
     "metadata": {},
     "output_type": "execute_result"
    }
   ],
   "source": [
    "names[-1]"
   ]
  },
  {
   "cell_type": "code",
   "execution_count": 4,
   "metadata": {},
   "outputs": [
    {
     "data": {
      "text/plain": [
       "4"
      ]
     },
     "execution_count": 4,
     "metadata": {},
     "output_type": "execute_result"
    }
   ],
   "source": [
    "len(names)"
   ]
  },
  {
   "cell_type": "code",
   "execution_count": 5,
   "metadata": {},
   "outputs": [
    {
     "name": "stdout",
     "output_type": "stream",
     "text": [
      "jack\n",
      "tom\n",
      "superman\n",
      "iron man\n"
     ]
    }
   ],
   "source": [
    "for name in names:\n",
    "    print(name)"
   ]
  },
  {
   "cell_type": "markdown",
   "metadata": {},
   "source": [
    "查询name里面有没有超人"
   ]
  },
  {
   "cell_type": "code",
   "execution_count": 6,
   "metadata": {},
   "outputs": [
    {
     "name": "stdout",
     "output_type": "stream",
     "text": [
      "有超人在里面！\n"
     ]
    }
   ],
   "source": [
    "for name in names:\n",
    "    if name==\"superman\":\n",
    "        print(\"有超人在里面！\")\n",
    "        break\n",
    "else:\n",
    "    print(\"没有超人在里面！\")"
   ]
  },
  {
   "cell_type": "raw",
   "metadata": {},
   "source": [
    "简便方法：\"t\" in \"they\".....>True or False"
   ]
  },
  {
   "cell_type": "code",
   "execution_count": 7,
   "metadata": {},
   "outputs": [
    {
     "name": "stdout",
     "output_type": "stream",
     "text": [
      "有超人在里面！\n"
     ]
    }
   ],
   "source": [
    "if \"superman\" in names:\n",
    "    print(\"有超人在里面！\")\n",
    "else:\n",
    "    print(\"没有超人在里面\")"
   ]
  },
  {
   "cell_type": "markdown",
   "metadata": {},
   "source": [
    "增删改"
   ]
  },
  {
   "cell_type": "code",
   "execution_count": 8,
   "metadata": {},
   "outputs": [
    {
     "name": "stdout",
     "output_type": "stream",
     "text": [
      "['hp', 'dell', 'thinkpad', '支持华为', 'lenovo', 'mac', 'huawei']\n"
     ]
    }
   ],
   "source": [
    "brands=[\"hp\",\"dell\",\"thinkpad\",\"支持华为\",\"lenovo\",\"mac\",\"神州\"]\n",
    "brands[-1]=\"huawei\"\n",
    "print(brands)"
   ]
  },
  {
   "cell_type": "markdown",
   "metadata": {},
   "source": [
    "brands[]=\"  \"表示找到这个值进行替换"
   ]
  },
  {
   "cell_type": "code",
   "execution_count": 9,
   "metadata": {},
   "outputs": [
    {
     "name": "stdout",
     "output_type": "stream",
     "text": [
      "['hp', 'dell', 'thinkpad', 'huawei', 'lenovo', 'mac', 'huawei']\n"
     ]
    }
   ],
   "source": [
    "for i in range(len(brands)):\n",
    "    if \"华为\" in brands[i]:\n",
    "        brands[i]=\"huawei\"\n",
    "        break\n",
    "print(brands)"
   ]
  },
  {
   "cell_type": "markdown",
   "metadata": {},
   "source": [
    "内部替换用上面的循环"
   ]
  },
  {
   "cell_type": "code",
   "execution_count": 10,
   "metadata": {},
   "outputs": [
    {
     "data": {
      "text/plain": [
       "['hp', 'dell', 'huawei', 'lenovo', 'mac', 'huawei']"
      ]
     },
     "execution_count": 10,
     "metadata": {},
     "output_type": "execute_result"
    }
   ],
   "source": [
    "del brands[2]\n",
    "brands"
   ]
  },
  {
   "cell_type": "markdown",
   "metadata": {},
   "source": [
    "删除多个"
   ]
  },
  {
   "cell_type": "code",
   "execution_count": 11,
   "metadata": {},
   "outputs": [
    {
     "name": "stdout",
     "output_type": "stream",
     "text": [
      "['dell', 'huawei', 'lenovo', 'huawei']\n"
     ]
    }
   ],
   "source": [
    "l=len(brands)\n",
    "i=0\n",
    "while i<l:\n",
    "    if \"hp\" in brands[i] or \"mac\" in brands[i]:\n",
    "        del brands[i]\n",
    "        l-=1\n",
    "    i+=1\n",
    "print(brands)"
   ]
  },
  {
   "cell_type": "raw",
   "metadata": {},
   "source": [
    "[\"hello\",\"good\",\"apple\",\"world\",\"digit\",\"alpha\"]\n",
    "hello 在上面移除"
   ]
  },
  {
   "cell_type": "code",
   "execution_count": 12,
   "metadata": {},
   "outputs": [
    {
     "name": "stdout",
     "output_type": "stream",
     "text": [
      "请输入一个单词:go\n",
      "['hello', 'world', 'alpha']\n"
     ]
    }
   ],
   "source": [
    "worlds=[\"hello\",\"good\",\"gooo\",\"world\",\"digot\",\"alpha\"]\n",
    "w=input(\"请输入一个单词:\")\n",
    "l=len(worlds)\n",
    "i=0\n",
    "while i<l:\n",
    "    if w in worlds[i]:\n",
    "        del worlds[i]\n",
    "        l-=1\n",
    "        continue\n",
    "    i+=1\n",
    "    \n",
    "print(worlds)\n",
    "        \n",
    "        "
   ]
  },
  {
   "cell_type": "markdown",
   "metadata": {},
   "source": [
    "出现漏删\n",
    "可用continue 或者i-=1"
   ]
  },
  {
   "cell_type": "raw",
   "metadata": {},
   "source": [
    "for word in words: 判断内容有没有在列表中存在\n",
    "if w in word: 判断字符串w有没有出现在word\n",
    "\n",
    "in 可以用于字符串判断中，也可以用在[]中\n",
    "\n",
    "if 让in 判断作为一个条件表达式\n",
    "但是for ... in... 循环条件的判断\n",
    "for 变量 in 字符串|列表："
   ]
  },
  {
   "cell_type": "raw",
   "metadata": {},
   "source": [
    "列表的切片操作\n",
    "列表切片与字符串一致"
   ]
  },
  {
   "cell_type": "code",
   "execution_count": 13,
   "metadata": {},
   "outputs": [],
   "source": [
    "list1=[\"杨超越\",\"热巴\",\"佟丽娅\",\"杨幂\",\"赵丽颖\",\"刘亦菲\"]"
   ]
  },
  {
   "cell_type": "code",
   "execution_count": 14,
   "metadata": {},
   "outputs": [
    {
     "data": {
      "text/plain": [
       "'刘亦菲'"
      ]
     },
     "execution_count": 14,
     "metadata": {},
     "output_type": "execute_result"
    }
   ],
   "source": [
    "list1[-1]"
   ]
  },
  {
   "cell_type": "code",
   "execution_count": 15,
   "metadata": {},
   "outputs": [
    {
     "data": {
      "text/plain": [
       "['刘亦菲', '杨幂', '热巴']"
      ]
     },
     "execution_count": 15,
     "metadata": {},
     "output_type": "execute_result"
    }
   ],
   "source": [
    "list1[::-2]"
   ]
  },
  {
   "cell_type": "code",
   "execution_count": 16,
   "metadata": {},
   "outputs": [
    {
     "data": {
      "text/plain": [
       "['刘亦菲', '赵丽颖', '杨幂', '佟丽娅']"
      ]
     },
     "execution_count": 16,
     "metadata": {},
     "output_type": "execute_result"
    }
   ],
   "source": [
    "list1[-1:-5:-1]"
   ]
  },
  {
   "cell_type": "raw",
   "metadata": {},
   "source": [
    "列表添加：\n",
    "临时小数据库:list\n",
    "创建一个空列表\n",
    "\n",
    "列表的函数使用： append  extend   insert\n",
    "\n",
    "append() 末尾表示追加\n",
    "extend() 类似于列表的合并(相当于+号)\n",
    "insert() 指定位置添加"
   ]
  },
  {
   "cell_type": "code",
   "execution_count": 17,
   "metadata": {},
   "outputs": [
    {
     "name": "stdout",
     "output_type": "stream",
     "text": [
      "请输入你心目中的美女名字:刘晓庆\n",
      "请输入你心目中的美女名字:quit\n",
      "['杨幂', '刘晓庆']\n"
     ]
    }
   ],
   "source": [
    "girls=[\"杨幂\"]\n",
    "while True:\n",
    "    \n",
    "    name=input(\"请输入你心目中的美女名字:\")\n",
    "    if name==\"quit\":\n",
    "        break\n",
    "    girls.append(name)\n",
    "print(girls)"
   ]
  },
  {
   "cell_type": "code",
   "execution_count": 18,
   "metadata": {},
   "outputs": [
    {
     "name": "stdout",
     "output_type": "stream",
     "text": [
      "['杨幂', '刘晓庆', '黑嘉嘉', '孙俪', '巩俐', '王丽坤']\n"
     ]
    }
   ],
   "source": [
    "names=[\"黑嘉嘉\",\"孙俪\",\"巩俐\",\"王丽坤\"]\n",
    "girls.extend(names)\n",
    "print(girls)"
   ]
  },
  {
   "cell_type": "code",
   "execution_count": 19,
   "metadata": {},
   "outputs": [
    {
     "data": {
      "text/plain": [
       "['杨幂', '刘晓庆', '黑嘉嘉', '孙俪', '巩俐', '王丽坤', '黑嘉嘉', '孙俪', '巩俐', '王丽坤']"
      ]
     },
     "execution_count": 19,
     "metadata": {},
     "output_type": "execute_result"
    }
   ],
   "source": [
    "girls+names\n"
   ]
  },
  {
   "cell_type": "code",
   "execution_count": 20,
   "metadata": {},
   "outputs": [
    {
     "name": "stdout",
     "output_type": "stream",
     "text": [
      "['黑嘉嘉', '刘涛', '孙俪', '巩俐', '王丽坤']\n"
     ]
    }
   ],
   "source": [
    "names.insert(1,\"刘涛\")\n",
    "print(names)"
   ]
  },
  {
   "cell_type": "raw",
   "metadata": {},
   "source": [
    "产生10个随机数，将其保存到列表中\n",
    "步骤：\n",
    "1.如何产生随机数\n",
    "2.如何产生10个随机数\n",
    "3.将产生的随机数放到列表中\n",
    "4.打印列表"
   ]
  },
  {
   "cell_type": "code",
   "execution_count": 21,
   "metadata": {},
   "outputs": [
    {
     "name": "stdout",
     "output_type": "stream",
     "text": [
      "[44, 50, 46, 10, 24, 38, 7, 41, 15, 17]\n"
     ]
    }
   ],
   "source": [
    "import random\n",
    "\n",
    "random_list=[]\n",
    "for i in range(10):\n",
    "    \n",
    "    ran= random.randint(1,50)\n",
    "    random_list.append(ran)\n",
    "print(random_list)"
   ]
  },
  {
   "cell_type": "raw",
   "metadata": {},
   "source": [
    "产生10个不同的随机数，将其保存在列表中"
   ]
  },
  {
   "cell_type": "code",
   "execution_count": 22,
   "metadata": {},
   "outputs": [
    {
     "name": "stdout",
     "output_type": "stream",
     "text": [
      "[13, 14, 8, 19, 11, 17, 5, 10, 12]\n"
     ]
    }
   ],
   "source": [
    "import random\n",
    "\n",
    "random_list1=[]\n",
    "for i in range(10):\n",
    "    ran= random.randint(1,20)\n",
    "    if ran not in random_list1:\n",
    "        random_list1.append(ran)\n",
    "print(random_list1)"
   ]
  },
  {
   "cell_type": "markdown",
   "metadata": {},
   "source": [
    "个数不一定大于10个"
   ]
  },
  {
   "cell_type": "code",
   "execution_count": 23,
   "metadata": {},
   "outputs": [
    {
     "name": "stdout",
     "output_type": "stream",
     "text": [
      "[19, 16, 20, 3, 9, 5, 17, 7, 10, 1]\n"
     ]
    }
   ],
   "source": [
    "ranlist=[]\n",
    "i=0\n",
    "while i<10:\n",
    "    ran=random.randint(1,20)\n",
    "    if ran not in ranlist:\n",
    "        ranlist.append(ran)\n",
    "        i+=1\n",
    "print(ranlist)\n",
    "    "
   ]
  },
  {
   "cell_type": "markdown",
   "metadata": {},
   "source": [
    "下一步找出列表中的最大值"
   ]
  },
  {
   "cell_type": "code",
   "execution_count": 24,
   "metadata": {},
   "outputs": [
    {
     "data": {
      "text/plain": [
       "20"
      ]
     },
     "execution_count": 24,
     "metadata": {},
     "output_type": "execute_result"
    }
   ],
   "source": [
    "max(ranlist)"
   ]
  },
  {
   "cell_type": "code",
   "execution_count": 25,
   "metadata": {},
   "outputs": [
    {
     "name": "stdout",
     "output_type": "stream",
     "text": [
      "20\n"
     ]
    }
   ],
   "source": [
    "mvalue=ranlist[0]\n",
    "for value in ranlist:\n",
    "    if value>mvalue:\n",
    "        mvalue=value\n",
    "print(mvalue)"
   ]
  },
  {
   "cell_type": "code",
   "execution_count": 26,
   "metadata": {},
   "outputs": [
    {
     "data": {
      "text/plain": [
       "1"
      ]
     },
     "execution_count": 26,
     "metadata": {},
     "output_type": "execute_result"
    }
   ],
   "source": [
    "min(ranlist)"
   ]
  },
  {
   "cell_type": "code",
   "execution_count": 27,
   "metadata": {},
   "outputs": [
    {
     "name": "stdout",
     "output_type": "stream",
     "text": [
      "107\n"
     ]
    }
   ],
   "source": [
    "sum1=0\n",
    "for value in ranlist:\n",
    "    sum1+=value\n",
    "print(sum1)"
   ]
  },
  {
   "cell_type": "code",
   "execution_count": 28,
   "metadata": {},
   "outputs": [
    {
     "data": {
      "text/plain": [
       "107"
      ]
     },
     "execution_count": 28,
     "metadata": {},
     "output_type": "execute_result"
    }
   ],
   "source": [
    "sum(ranlist)"
   ]
  },
  {
   "cell_type": "raw",
   "metadata": {},
   "source": [
    "sorted()排序"
   ]
  },
  {
   "cell_type": "code",
   "execution_count": 30,
   "metadata": {},
   "outputs": [
    {
     "data": {
      "text/plain": [
       "[20, 19, 17, 16, 10, 9, 7, 5, 3, 1]"
      ]
     },
     "execution_count": 30,
     "metadata": {},
     "output_type": "execute_result"
    }
   ],
   "source": [
    "sorted(ranlist,reverse=True)"
   ]
  },
  {
   "cell_type": "code",
   "execution_count": 31,
   "metadata": {},
   "outputs": [
    {
     "data": {
      "text/plain": [
       "[1, 3, 5, 7, 9, 10, 16, 17, 19, 20]"
      ]
     },
     "execution_count": 31,
     "metadata": {},
     "output_type": "execute_result"
    }
   ],
   "source": [
    "sorted(ranlist,reverse=False)"
   ]
  },
  {
   "cell_type": "raw",
   "metadata": {},
   "source": [
    "自己搞冒泡排序"
   ]
  },
  {
   "cell_type": "raw",
   "metadata": {},
   "source": [
    "列表中可以使用的符号：\n",
    "+ 表示列表拼接\n",
    "* [5,8]*3=[5,8,5,8,5,8]\n",
    "in \n",
    "列表中的元素：\n",
    "整型\n",
    "字符串\n",
    "浮点\n",
    "列表\n",
    "元组\n",
    "字典\n",
    "对象"
   ]
  },
  {
   "cell_type": "code",
   "execution_count": 2,
   "metadata": {},
   "outputs": [
    {
     "data": {
      "text/plain": [
       "True"
      ]
     },
     "execution_count": 2,
     "metadata": {},
     "output_type": "execute_result"
    }
   ],
   "source": [
    "3 in [1,2,3,4]"
   ]
  },
  {
   "cell_type": "code",
   "execution_count": 3,
   "metadata": {},
   "outputs": [
    {
     "data": {
      "text/plain": [
       "False"
      ]
     },
     "execution_count": 3,
     "metadata": {},
     "output_type": "execute_result"
    }
   ],
   "source": [
    "[3] in [1,2,3,4]"
   ]
  },
  {
   "cell_type": "code",
   "execution_count": 4,
   "metadata": {},
   "outputs": [
    {
     "data": {
      "text/plain": [
       "True"
      ]
     },
     "execution_count": 4,
     "metadata": {},
     "output_type": "execute_result"
    }
   ],
   "source": [
    "[3] in [1,[3],2,5]"
   ]
  },
  {
   "cell_type": "code",
   "execution_count": 5,
   "metadata": {},
   "outputs": [
    {
     "data": {
      "text/plain": [
       "False"
      ]
     },
     "execution_count": 5,
     "metadata": {},
     "output_type": "execute_result"
    }
   ],
   "source": [
    "[3] in [1,[3,2],2,5]"
   ]
  },
  {
   "cell_type": "code",
   "execution_count": 6,
   "metadata": {},
   "outputs": [],
   "source": [
    "l5=[[1,2],[2,3],[3,5]]"
   ]
  },
  {
   "cell_type": "code",
   "execution_count": 7,
   "metadata": {},
   "outputs": [
    {
     "data": {
      "text/plain": [
       "3"
      ]
     },
     "execution_count": 7,
     "metadata": {},
     "output_type": "execute_result"
    }
   ],
   "source": [
    "len(l5)"
   ]
  },
  {
   "cell_type": "code",
   "execution_count": 8,
   "metadata": {},
   "outputs": [
    {
     "data": {
      "text/plain": [
       "[3, 5]"
      ]
     },
     "execution_count": 8,
     "metadata": {},
     "output_type": "execute_result"
    }
   ],
   "source": [
    "l5[2]"
   ]
  },
  {
   "cell_type": "code",
   "execution_count": 9,
   "metadata": {},
   "outputs": [
    {
     "data": {
      "text/plain": [
       "5"
      ]
     },
     "execution_count": 9,
     "metadata": {},
     "output_type": "execute_result"
    }
   ],
   "source": [
    "e=l5[2]\n",
    "e[1]"
   ]
  },
  {
   "cell_type": "code",
   "execution_count": 10,
   "metadata": {},
   "outputs": [
    {
     "data": {
      "text/plain": [
       "5"
      ]
     },
     "execution_count": 10,
     "metadata": {},
     "output_type": "execute_result"
    }
   ],
   "source": [
    "l5[2][1]"
   ]
  },
  {
   "cell_type": "code",
   "execution_count": 11,
   "metadata": {},
   "outputs": [
    {
     "data": {
      "text/plain": [
       "range(1, 10, 3)"
      ]
     },
     "execution_count": 11,
     "metadata": {},
     "output_type": "execute_result"
    }
   ],
   "source": [
    "range(1,10,3)"
   ]
  },
  {
   "cell_type": "raw",
   "metadata": {},
   "source": [
    "类型转换：\n",
    "str()\n",
    "int()\n",
    "list() 将指定的内容转成列表\n",
    "iterable 迭代 不能放整型\n",
    "只要在for i in ....里面循环的就是可迭代的"
   ]
  },
  {
   "cell_type": "code",
   "execution_count": 12,
   "metadata": {},
   "outputs": [
    {
     "data": {
      "text/plain": [
       "[1, 4, 7]"
      ]
     },
     "execution_count": 12,
     "metadata": {},
     "output_type": "execute_result"
    }
   ],
   "source": [
    "list(range(1,10,3))"
   ]
  },
  {
   "cell_type": "code",
   "execution_count": 13,
   "metadata": {},
   "outputs": [
    {
     "data": {
      "text/plain": [
       "['a', 'b', 'c']"
      ]
     },
     "execution_count": 13,
     "metadata": {},
     "output_type": "execute_result"
    }
   ],
   "source": [
    "s=\"abc\"\n",
    "list(s)"
   ]
  },
  {
   "cell_type": "markdown",
   "metadata": {},
   "source": [
    "拆字符串"
   ]
  },
  {
   "cell_type": "code",
   "execution_count": 14,
   "metadata": {},
   "outputs": [
    {
     "data": {
      "text/plain": [
       "[10, 7, 4]"
      ]
     },
     "execution_count": 14,
     "metadata": {},
     "output_type": "execute_result"
    }
   ],
   "source": [
    "list(range(10,1,-3))"
   ]
  },
  {
   "cell_type": "code",
   "execution_count": 17,
   "metadata": {},
   "outputs": [
    {
     "data": {
      "text/plain": [
       "45"
      ]
     },
     "execution_count": 17,
     "metadata": {},
     "output_type": "execute_result"
    }
   ],
   "source": [
    "int(\"45\")"
   ]
  },
  {
   "cell_type": "code",
   "execution_count": 18,
   "metadata": {},
   "outputs": [],
   "source": [
    "s1=\"this is a test of python\""
   ]
  },
  {
   "cell_type": "code",
   "execution_count": 20,
   "metadata": {},
   "outputs": [
    {
     "data": {
      "text/plain": [
       "'test'"
      ]
     },
     "execution_count": 20,
     "metadata": {},
     "output_type": "execute_result"
    }
   ],
   "source": [
    "s1[10:14]"
   ]
  },
  {
   "cell_type": "code",
   "execution_count": 21,
   "metadata": {},
   "outputs": [
    {
     "data": {
      "text/plain": [
       "'test'"
      ]
     },
     "execution_count": 21,
     "metadata": {},
     "output_type": "execute_result"
    }
   ],
   "source": [
    "s1[s1.find(\"test\"):s1.find(\"test\")+4]"
   ]
  },
  {
   "cell_type": "code",
   "execution_count": 22,
   "metadata": {},
   "outputs": [
    {
     "data": {
      "text/plain": [
       "'nohtyp fo tset a si siht'"
      ]
     },
     "execution_count": 22,
     "metadata": {},
     "output_type": "execute_result"
    }
   ],
   "source": [
    "s1[::-1]"
   ]
  },
  {
   "cell_type": "code",
   "execution_count": 23,
   "metadata": {},
   "outputs": [
    {
     "data": {
      "text/plain": [
       "'this is a exam of python'"
      ]
     },
     "execution_count": 23,
     "metadata": {},
     "output_type": "execute_result"
    }
   ],
   "source": [
    "s1.replace(\"test\",\"exam\")"
   ]
  },
  {
   "cell_type": "code",
   "execution_count": 29,
   "metadata": {},
   "outputs": [],
   "source": [
    "str1=\"aAsmr3idd4bgs7Dlsf9eAF\"\n",
    "S=\"\"\n",
    "for i in str1:\n",
    "    if i.isupper():\n",
    "        S+=i.lower()\n",
    "    elif i.islower():\n",
    "        S+=i.upper()\n",
    "    else:\n",
    "        S+=i\n",
    "        \n",
    "        \n",
    "        "
   ]
  },
  {
   "cell_type": "code",
   "execution_count": 30,
   "metadata": {},
   "outputs": [
    {
     "data": {
      "text/plain": [
       "'AaSMR3IDD4BGS7dLSF9Eaf'"
      ]
     },
     "execution_count": 30,
     "metadata": {},
     "output_type": "execute_result"
    }
   ],
   "source": [
    "S"
   ]
  },
  {
   "cell_type": "markdown",
   "metadata": {},
   "source": [
    "以上是将a字符串的大写转化为小写，小写转化为大写"
   ]
  },
  {
   "cell_type": "code",
   "execution_count": 31,
   "metadata": {},
   "outputs": [],
   "source": [
    "x=\"abc\"\n",
    "y=\"def\"\n",
    "z=[\"d\",\"e\",\"f\"]"
   ]
  },
  {
   "cell_type": "code",
   "execution_count": 32,
   "metadata": {},
   "outputs": [
    {
     "data": {
      "text/plain": [
       "'dabceabcf'"
      ]
     },
     "execution_count": 32,
     "metadata": {},
     "output_type": "execute_result"
    }
   ],
   "source": [
    "x.join(y)"
   ]
  },
  {
   "cell_type": "code",
   "execution_count": 33,
   "metadata": {},
   "outputs": [
    {
     "data": {
      "text/plain": [
       "'dabceabcf'"
      ]
     },
     "execution_count": 33,
     "metadata": {},
     "output_type": "execute_result"
    }
   ],
   "source": [
    "x.join(z)"
   ]
  },
  {
   "cell_type": "code",
   "execution_count": 34,
   "metadata": {},
   "outputs": [],
   "source": [
    "s1=\"你好\""
   ]
  },
  {
   "cell_type": "code",
   "execution_count": 35,
   "metadata": {},
   "outputs": [
    {
     "data": {
      "text/plain": [
       "b'\\xe4\\xbd\\xa0\\xe5\\xa5\\xbd'"
      ]
     },
     "execution_count": 35,
     "metadata": {},
     "output_type": "execute_result"
    }
   ],
   "source": [
    "s1.encode(\"utf-8\")"
   ]
  },
  {
   "cell_type": "code",
   "execution_count": 36,
   "metadata": {},
   "outputs": [],
   "source": [
    "s2=\"   bj1902   \""
   ]
  },
  {
   "cell_type": "code",
   "execution_count": 38,
   "metadata": {},
   "outputs": [
    {
     "data": {
      "text/plain": [
       "'bj1902   '"
      ]
     },
     "execution_count": 38,
     "metadata": {},
     "output_type": "execute_result"
    }
   ],
   "source": [
    "s2.lstrip()"
   ]
  },
  {
   "cell_type": "code",
   "execution_count": 39,
   "metadata": {},
   "outputs": [
    {
     "data": {
      "text/plain": [
       "'   bj1902'"
      ]
     },
     "execution_count": 39,
     "metadata": {},
     "output_type": "execute_result"
    }
   ],
   "source": [
    "s2.rstrip()"
   ]
  },
  {
   "cell_type": "code",
   "execution_count": 40,
   "metadata": {},
   "outputs": [
    {
     "data": {
      "text/plain": [
       "'bj1902'"
      ]
     },
     "execution_count": 40,
     "metadata": {},
     "output_type": "execute_result"
    }
   ],
   "source": [
    "s2.strip()"
   ]
  },
  {
   "cell_type": "code",
   "execution_count": null,
   "metadata": {},
   "outputs": [],
   "source": []
  }
 ],
 "metadata": {
  "kernelspec": {
   "display_name": "Python 3",
   "language": "python",
   "name": "python3"
  },
  "language_info": {
   "codemirror_mode": {
    "name": "ipython",
    "version": 3
   },
   "file_extension": ".py",
   "mimetype": "text/x-python",
   "name": "python",
   "nbconvert_exporter": "python",
   "pygments_lexer": "ipython3",
   "version": "3.7.6"
  }
 },
 "nbformat": 4,
 "nbformat_minor": 4
}
