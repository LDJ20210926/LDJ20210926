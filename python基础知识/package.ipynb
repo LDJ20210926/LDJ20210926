{
 "cells": [
  {
   "cell_type": "raw",
   "metadata": {},
   "source": [
    "一个包中可以放多个模块，一个模块里面可以放多个类，函数，变量\n",
    "\n",
    "使用包中模块中的User类\n",
    "1.from 包 import 模块\n",
    "2.from 包.模块 import 类（变量）（函数）\n",
    "调用直接用类这些\n",
    "__all__[]只对 from 包.模块 import *\n",
    "\n",
    "\n",
    "from.models import User 当前目录下的models里面的User类\n",
    "\n",
    "\n",
    "\n",
    "__init__.py文件 导入包，默认执行该文件\n",
    "包.XX进行调用\n",
    "\n",
    "1.当导入包的时候，把一些初始化的函数，变量，类定义在__init__.py文件中\n",
    "2.此文件中函数，变量等的访问，只需要通过包名.函数即可调用\n",
    "3.from 包 import * 表示该包中内容（模块）是不能访问的，就需要在__init__.py文件中定义__all__=[可以通过*访问的模块]"
   ]
  },
  {
   "cell_type": "raw",
   "metadata": {},
   "source": [
    "循环导入：大型的Python项目中，需要很多Python文件，由于架构不当，可能会出现模块之间的死循环\n",
    "A：模块\n",
    "  def test():\n",
    "        f()\n",
    "B: 模块\n",
    "    def f():\n",
    "        test()\n",
    "        \n",
    "避免产生循环导入：\n",
    "1.重新架构\n",
    "2.将导入的语句放在函数里面\n",
    "3.把导入语句放在最后"
   ]
  },
  {
   "cell_type": "raw",
   "metadata": {},
   "source": [
    "sys "
   ]
  },
  {
   "cell_type": "code",
   "execution_count": 1,
   "metadata": {},
   "outputs": [
    {
     "name": "stdout",
     "output_type": "stream",
     "text": [
      "['C:\\\\Users\\\\HUAWEI\\\\desktop\\\\a', 'C:\\\\ProgramData\\\\Anaconda3\\\\python37.zip', 'C:\\\\ProgramData\\\\Anaconda3\\\\DLLs', 'C:\\\\ProgramData\\\\Anaconda3\\\\lib', 'C:\\\\ProgramData\\\\Anaconda3', '', 'C:\\\\ProgramData\\\\Anaconda3\\\\lib\\\\site-packages', 'C:\\\\ProgramData\\\\Anaconda3\\\\lib\\\\site-packages\\\\win32', 'C:\\\\ProgramData\\\\Anaconda3\\\\lib\\\\site-packages\\\\win32\\\\lib', 'C:\\\\ProgramData\\\\Anaconda3\\\\lib\\\\site-packages\\\\Pythonwin', 'C:\\\\ProgramData\\\\Anaconda3\\\\lib\\\\site-packages\\\\IPython\\\\extensions', 'C:\\\\Users\\\\HUAWEI\\\\.ipython']\n"
     ]
    }
   ],
   "source": [
    "import sys\n",
    "print(sys.path)"
   ]
  },
  {
   "cell_type": "code",
   "execution_count": 2,
   "metadata": {},
   "outputs": [
    {
     "data": {
      "text/plain": [
       "'3.7.6 (default, Jan  8 2020, 20:23:39) [MSC v.1916 64 bit (AMD64)]'"
      ]
     },
     "execution_count": 2,
     "metadata": {},
     "output_type": "execute_result"
    }
   ],
   "source": [
    "sys.version"
   ]
  },
  {
   "cell_type": "code",
   "execution_count": 3,
   "metadata": {},
   "outputs": [
    {
     "data": {
      "text/plain": [
       "['C:\\\\ProgramData\\\\Anaconda3\\\\lib\\\\site-packages\\\\ipykernel_launcher.py',\n",
       " '-f',\n",
       " 'C:\\\\Users\\\\HUAWEI\\\\AppData\\\\Roaming\\\\jupyter\\\\runtime\\\\kernel-976457ff-f28f-4e3a-bc46-99cb20a870fb.json']"
      ]
     },
     "execution_count": 3,
     "metadata": {},
     "output_type": "execute_result"
    }
   ],
   "source": [
    "sys.argv"
   ]
  },
  {
   "cell_type": "raw",
   "metadata": {},
   "source": [
    "单例：__new__\n",
    "扩展练习\n",
    "\n",
    "__name__ ......>自己：__main__ 别的使用：模块名\n",
    "包相当于文件夹：但是里面都是.py文件\n",
    "\n",
    "\n",
    "\n",
    "系统：\n",
    "\n",
    "sys:   sys.path   sys.version   sys.argv\n",
    "\n",
    "time与datatime:\n",
    "\n",
    "random:\n",
    "\n",
    "第三方的包"
   ]
  },
  {
   "cell_type": "markdown",
   "metadata": {},
   "source": [
    "# time"
   ]
  },
  {
   "cell_type": "raw",
   "metadata": {},
   "source": [
    "1.时间戳 time.time()\n",
    "2.将时间戳转换成字符串 time.ctime(t) 形式为：某年某月某日几点几分Mon Jun 29 08:30:49 2020\n",
    "3.延迟执行time.sleep(seconds)\n",
    "4.time.localtime 转化为元组形式 ：tm_year=2020, tm_mon=6, tm_mday=29, tm_hour=8, tm_min=30, tm_sec=49, tm_wday=0, tm_yday=181, tm_isdst=0\n",
    "5.将元组转化成时间戳，time.mktime(t)\n",
    "6.将元组形式转换成字符串 time.strftime(\"%Y-%m-%d %H:%M:%S\")   形式：2020-06-29 08:43:52\n",
    "7.将字符串转成元组的方式 time.strptime(\"2020/06/29\",\"%Y/%m/%d\") 形式：tm_year=2020, tm_mon=6, tm_mday=29, tm_hour=0, tm_min=0, tm_sec=0, tm_wday=0, tm_yday=181, tm_isdst=-1\n",
    "8.datetime.time.hour 出现的只是对象：attribute 'hour' of 'datetime.time' objects\n",
    "9.调小时数time.localtime().tm_hour\n",
    "10.输出时间的方法：d=datetime.date(2020,6,29)\n",
    "             datetime.date.ctime(d)\n",
    "             \n",
    "11.得到当前的时间：datetime.datetime.now()  \n",
    "\n",
    "12.d=datetime.timedelta(weeks,days,hours=2)\n",
    "           print(d)..................>获取时间差\n",
    "\n",
    "\n",
    "\n",
    "\n",
    "\n",
    "缓存：数据redis 作为缓存  redis.set(key,value,时间差)\n",
    "会话：session\n"
   ]
  },
  {
   "cell_type": "code",
   "execution_count": 3,
   "metadata": {},
   "outputs": [
    {
     "data": {
      "text/plain": [
       "1593390515.2090087"
      ]
     },
     "execution_count": 3,
     "metadata": {},
     "output_type": "execute_result"
    }
   ],
   "source": [
    "import time\n",
    "time.time()"
   ]
  },
  {
   "cell_type": "code",
   "execution_count": 5,
   "metadata": {},
   "outputs": [],
   "source": [
    "time.sleep(3)\n",
    "t=time.time()"
   ]
  },
  {
   "cell_type": "code",
   "execution_count": 6,
   "metadata": {},
   "outputs": [
    {
     "data": {
      "text/plain": [
       "'Mon Jun 29 08:30:49 2020'"
      ]
     },
     "execution_count": 6,
     "metadata": {},
     "output_type": "execute_result"
    }
   ],
   "source": [
    "time.ctime(t)"
   ]
  },
  {
   "cell_type": "code",
   "execution_count": 10,
   "metadata": {},
   "outputs": [
    {
     "data": {
      "text/plain": [
       "181"
      ]
     },
     "execution_count": 10,
     "metadata": {},
     "output_type": "execute_result"
    }
   ],
   "source": [
    "t1=time.localtime(t)\n",
    "t1.tm_yday"
   ]
  },
  {
   "cell_type": "code",
   "execution_count": 9,
   "metadata": {},
   "outputs": [
    {
     "data": {
      "text/plain": [
       "1593390649.0"
      ]
     },
     "execution_count": 9,
     "metadata": {},
     "output_type": "execute_result"
    }
   ],
   "source": [
    "time.mktime(t1)"
   ]
  },
  {
   "cell_type": "code",
   "execution_count": 11,
   "metadata": {},
   "outputs": [
    {
     "data": {
      "text/plain": [
       "'2020-06-29 08:43:52'"
      ]
     },
     "execution_count": 11,
     "metadata": {},
     "output_type": "execute_result"
    }
   ],
   "source": [
    "time.strftime(\"%Y-%m-%d %H:%M:%S\")"
   ]
  },
  {
   "cell_type": "code",
   "execution_count": 17,
   "metadata": {},
   "outputs": [
    {
     "data": {
      "text/plain": [
       "time.struct_time(tm_year=2020, tm_mon=6, tm_mday=29, tm_hour=0, tm_min=0, tm_sec=0, tm_wday=0, tm_yday=181, tm_isdst=-1)"
      ]
     },
     "execution_count": 17,
     "metadata": {},
     "output_type": "execute_result"
    }
   ],
   "source": [
    "time.strptime(\"2020/06/29\",\"%Y/%m/%d\")"
   ]
  },
  {
   "cell_type": "code",
   "execution_count": 19,
   "metadata": {},
   "outputs": [
    {
     "name": "stdout",
     "output_type": "stream",
     "text": [
      "<attribute 'hour' of 'datetime.time' objects>\n"
     ]
    }
   ],
   "source": [
    "import datetime\n",
    "\n",
    "print(datetime.time.hour)"
   ]
  },
  {
   "cell_type": "code",
   "execution_count": 20,
   "metadata": {},
   "outputs": [
    {
     "data": {
      "text/plain": [
       "9"
      ]
     },
     "execution_count": 20,
     "metadata": {},
     "output_type": "execute_result"
    }
   ],
   "source": [
    "time.localtime().tm_hour"
   ]
  },
  {
   "cell_type": "code",
   "execution_count": 22,
   "metadata": {},
   "outputs": [
    {
     "name": "stdout",
     "output_type": "stream",
     "text": [
      "<attribute 'day' of 'datetime.date' objects>\n"
     ]
    }
   ],
   "source": [
    "print(datetime.date.day)"
   ]
  },
  {
   "cell_type": "code",
   "execution_count": 24,
   "metadata": {},
   "outputs": [
    {
     "data": {
      "text/plain": [
       "29"
      ]
     },
     "execution_count": 24,
     "metadata": {},
     "output_type": "execute_result"
    }
   ],
   "source": [
    "d=datetime.date(2020,6,29)\n",
    "datetime.date.ctime(d)\n",
    "d.day"
   ]
  },
  {
   "cell_type": "code",
   "execution_count": 25,
   "metadata": {},
   "outputs": [
    {
     "data": {
      "text/plain": [
       "datetime.date(2020, 6, 29)"
      ]
     },
     "execution_count": 25,
     "metadata": {},
     "output_type": "execute_result"
    }
   ],
   "source": [
    "datetime.date.today()"
   ]
  },
  {
   "cell_type": "code",
   "execution_count": 30,
   "metadata": {},
   "outputs": [
    {
     "name": "stdout",
     "output_type": "stream",
     "text": [
      "2:00:00\n"
     ]
    }
   ],
   "source": [
    "d=datetime.timedelta(hours=2)\n",
    "print(d)"
   ]
  },
  {
   "cell_type": "code",
   "execution_count": 29,
   "metadata": {},
   "outputs": [
    {
     "name": "stdout",
     "output_type": "stream",
     "text": [
      "2020-06-29 09:22:53.040828\n"
     ]
    }
   ],
   "source": [
    "now=datetime.datetime.now()\n",
    "print(now)\n"
   ]
  },
  {
   "cell_type": "code",
   "execution_count": 32,
   "metadata": {},
   "outputs": [
    {
     "name": "stdout",
     "output_type": "stream",
     "text": [
      "2020-06-29 07:22:53.040828\n"
     ]
    }
   ],
   "source": [
    "print(now-d)"
   ]
  },
  {
   "cell_type": "markdown",
   "metadata": {},
   "source": [
    "# random"
   ]
  },
  {
   "cell_type": "raw",
   "metadata": {},
   "source": [
    "random.random() 0到1之间的随机小数\n",
    "\n",
    "random.randrange(1,10,2) 包前不包后\n",
    "\n",
    "\n",
    "list1=[\"李荣浩\",\"薛之谦\",\"周杰伦\",\"王力宏\",\"韩雪\"]\n",
    "random.choice(list1)................................>随机抽\n",
    "\n",
    "\n",
    "random.shuffle(list1)\n",
    "print(list1).............................>重新洗牌，打乱顺序\n",
    "\n",
    "\n",
    "chr是将数字转化成字母\n",
    "ord 与上面相反"
   ]
  },
  {
   "cell_type": "code",
   "execution_count": 37,
   "metadata": {},
   "outputs": [
    {
     "data": {
      "text/plain": [
       "0.5433749992576029"
      ]
     },
     "execution_count": 37,
     "metadata": {},
     "output_type": "execute_result"
    }
   ],
   "source": [
    "import random\n",
    "\n",
    "random.random()"
   ]
  },
  {
   "cell_type": "code",
   "execution_count": 48,
   "metadata": {},
   "outputs": [
    {
     "data": {
      "text/plain": [
       "5"
      ]
     },
     "execution_count": 48,
     "metadata": {},
     "output_type": "execute_result"
    }
   ],
   "source": [
    "random.randrange(1,10,2)"
   ]
  },
  {
   "cell_type": "code",
   "execution_count": 57,
   "metadata": {},
   "outputs": [
    {
     "data": {
      "text/plain": [
       "'李荣浩'"
      ]
     },
     "execution_count": 57,
     "metadata": {},
     "output_type": "execute_result"
    }
   ],
   "source": [
    "list1=[\"李荣浩\",\"薛之谦\",\"周杰伦\",\"王力宏\",\"韩雪\"]\n",
    "random.choice(list1)"
   ]
  },
  {
   "cell_type": "code",
   "execution_count": 61,
   "metadata": {},
   "outputs": [
    {
     "name": "stdout",
     "output_type": "stream",
     "text": [
      "['李荣浩', '薛之谦', '周杰伦', '韩雪', '王力宏']\n"
     ]
    }
   ],
   "source": [
    "random.shuffle(list1)\n",
    "print(list1)"
   ]
  },
  {
   "cell_type": "code",
   "execution_count": 62,
   "metadata": {},
   "outputs": [],
   "source": [
    "def func():\n",
    "    code=\"\"\n",
    "    for i in range(4):\n",
    "        ran1=str(random.randint(0,9))\n",
    "        ran2=chr(random.randint(65,90))\n",
    "        ran3=chr(random.randint(97,122))\n",
    "        \n",
    "        r=random.choice([ran1,ran2,ran3])\n",
    "        \n",
    "        code+=r\n",
    "        \n",
    "    return code\n",
    "\n",
    "        "
   ]
  },
  {
   "cell_type": "code",
   "execution_count": 64,
   "metadata": {},
   "outputs": [
    {
     "name": "stdout",
     "output_type": "stream",
     "text": [
      "054g\n"
     ]
    }
   ],
   "source": [
    "code=func()\n",
    "print(code)"
   ]
  },
  {
   "cell_type": "code",
   "execution_count": 65,
   "metadata": {},
   "outputs": [
    {
     "data": {
      "text/plain": [
       "97"
      ]
     },
     "execution_count": 65,
     "metadata": {},
     "output_type": "execute_result"
    }
   ],
   "source": [
    "ord(\"a\")"
   ]
  },
  {
   "cell_type": "code",
   "execution_count": 66,
   "metadata": {},
   "outputs": [
    {
     "data": {
      "text/plain": [
       "29579"
      ]
     },
     "execution_count": 66,
     "metadata": {},
     "output_type": "execute_result"
    }
   ],
   "source": [
    "ord(\"王\")"
   ]
  },
  {
   "cell_type": "markdown",
   "metadata": {},
   "source": [
    "# harhlib"
   ]
  },
  {
   "cell_type": "raw",
   "metadata": {},
   "source": [
    "加密算法\n",
    "md5 sha1 sha256\n",
    "\n",
    "msg=\"王五在偷鸡吃！\"\n",
    "\n",
    "md5=hashlib.md5或者sha或者sha256(msg.encode(\"utf-8\"))\n",
    "print(md5.hexdigest())\n",
    "\n",
    "\n",
    "\n",
    "base64"
   ]
  },
  {
   "cell_type": "code",
   "execution_count": 69,
   "metadata": {},
   "outputs": [
    {
     "name": "stdout",
     "output_type": "stream",
     "text": [
      "948db5970f638497d777515d33126b6d\n"
     ]
    }
   ],
   "source": [
    "import hashlib\n",
    "\n",
    "msg=\"王五在偷鸡吃！\"\n",
    "\n",
    "md5=hashlib.md5(msg.encode(\"utf-8\"))\n",
    "print(md5.hexdigest())"
   ]
  },
  {
   "cell_type": "code",
   "execution_count": 76,
   "metadata": {},
   "outputs": [
    {
     "name": "stdout",
     "output_type": "stream",
     "text": [
      "请输入密码:11111\n",
      "登入失败！\n"
     ]
    }
   ],
   "source": [
    "password=\"123456\"\n",
    "list1=[]\n",
    "pwd=hashlib.sha256(password.encode(\"utf-8\"))\n",
    "\n",
    "list1.append(pwd.hexdigest())\n",
    "\n",
    "pwd1=input(\"请输入密码:\")\n",
    "sha256=hashlib.sha256(pwd1.encode(\"utf-8\"))\n",
    "pwd2=sha256.hexdigest()\n",
    "\n",
    "for i in list1:\n",
    "    if pwd2==i:\n",
    "        print(\"登入成功！\")\n",
    "    else:\n",
    "        print(\"登入失败！\")\n",
    "    \n",
    "    \n",
    "    \n",
    "    "
   ]
  },
  {
   "cell_type": "markdown",
   "metadata": {},
   "source": [
    "# 第三方的简单应用"
   ]
  },
  {
   "cell_type": "raw",
   "metadata": {},
   "source": [
    "pillow\n",
    "\n",
    " 在终端中进行 pip install pillow\n",
    " \n",
    " 此里面要调用则用 import PIL\n",
    " \n",
    " \n",
    " \n",
    "import requests\n",
    "\n",
    "response=requests.get(\"https://www.baidu.com/\")\n",
    "response.text\n",
    "获取第三方网站的讯息"
   ]
  },
  {
   "cell_type": "code",
   "execution_count": 81,
   "metadata": {},
   "outputs": [
    {
     "data": {
      "text/plain": [
       "'<!DOCTYPE html>\\r\\n<!--STATUS OK--><html> <head><meta http-equiv=content-type content=text/html;charset=utf-8><meta http-equiv=X-UA-Compatible content=IE=Edge><meta content=always name=referrer><link rel=stylesheet type=text/css href=https://ss1.bdstatic.com/5eN1bjq8AAUYm2zgoY3K/r/www/cache/bdorz/baidu.min.css><title>ç\\x99¾åº¦ä¸\\x80ä¸\\x8bï¼\\x8cä½\\xa0å°±ç\\x9f¥é\\x81\\x93</title></head> <body link=#0000cc> <div id=wrapper> <div id=head> <div class=head_wrapper> <div class=s_form> <div class=s_form_wrapper> <div id=lg> <img hidefocus=true src=//www.baidu.com/img/bd_logo1.png width=270 height=129> </div> <form id=form name=f action=//www.baidu.com/s class=fm> <input type=hidden name=bdorz_come value=1> <input type=hidden name=ie value=utf-8> <input type=hidden name=f value=8> <input type=hidden name=rsv_bp value=1> <input type=hidden name=rsv_idx value=1> <input type=hidden name=tn value=baidu><span class=\"bg s_ipt_wr\"><input id=kw name=wd class=s_ipt value maxlength=255 autocomplete=off autofocus=autofocus></span><span class=\"bg s_btn_wr\"><input type=submit id=su value=ç\\x99¾åº¦ä¸\\x80ä¸\\x8b class=\"bg s_btn\" autofocus></span> </form> </div> </div> <div id=u1> <a href=http://news.baidu.com name=tj_trnews class=mnav>æ\\x96°é\\x97»</a> <a href=https://www.hao123.com name=tj_trhao123 class=mnav>hao123</a> <a href=http://map.baidu.com name=tj_trmap class=mnav>å\\x9c°å\\x9b¾</a> <a href=http://v.baidu.com name=tj_trvideo class=mnav>è§\\x86é¢\\x91</a> <a href=http://tieba.baidu.com name=tj_trtieba class=mnav>è´´å\\x90§</a> <noscript> <a href=http://www.baidu.com/bdorz/login.gif?login&amp;tpl=mn&amp;u=http%3A%2F%2Fwww.baidu.com%2f%3fbdorz_come%3d1 name=tj_login class=lb>ç\\x99»å½\\x95</a> </noscript> <script>document.write(\\'<a href=\"http://www.baidu.com/bdorz/login.gif?login&tpl=mn&u=\\'+ encodeURIComponent(window.location.href+ (window.location.search === \"\" ? \"?\" : \"&\")+ \"bdorz_come=1\")+ \\'\" name=\"tj_login\" class=\"lb\">ç\\x99»å½\\x95</a>\\');\\r\\n                </script> <a href=//www.baidu.com/more/ name=tj_briicon class=bri style=\"display: block;\">æ\\x9b´å¤\\x9aäº§å\\x93\\x81</a> </div> </div> </div> <div id=ftCon> <div id=ftConw> <p id=lh> <a href=http://home.baidu.com>å\\x85³äº\\x8eç\\x99¾åº¦</a> <a href=http://ir.baidu.com>About Baidu</a> </p> <p id=cp>&copy;2017&nbsp;Baidu&nbsp;<a href=http://www.baidu.com/duty/>ä½¿ç\\x94¨ç\\x99¾åº¦å\\x89\\x8då¿\\x85è¯»</a>&nbsp; <a href=http://jianyi.baidu.com/ class=cp-feedback>æ\\x84\\x8fè§\\x81å\\x8f\\x8dé¦\\x88</a>&nbsp;äº¬ICPè¯\\x81030173å\\x8f·&nbsp; <img src=//www.baidu.com/img/gs.gif> </p> </div> </div> </div> </body> </html>\\r\\n'"
      ]
     },
     "execution_count": 81,
     "metadata": {},
     "output_type": "execute_result"
    }
   ],
   "source": [
    "import requests\n",
    "\n",
    "response=requests.get(\"https://www.baidu.com/\")\n",
    "response.text"
   ]
  },
  {
   "cell_type": "markdown",
   "metadata": {},
   "source": [
    "# 正则表达式"
   ]
  },
  {
   "cell_type": "raw",
   "metadata": {},
   "source": [
    "对输入的讯息进行合法性判断\n",
    "需要使用re模块\n",
    "\n",
    "\n",
    "\n",
    "import re\n",
    "msg=\"娜扎热巴黛西佟丽娅\"\n",
    "\n",
    "pattern=re.compile(\"佟丽娅\")\n",
    "\n",
    "print(pattern.match(msg))\n",
    "\n",
    "match 只进行头部匹配判断，一经判断就结束,返回结果为None\n",
    "\n",
    "\n",
    "\n",
    "\n",
    "\n",
    "search\n",
    "r=re.search(\"佟丽娅\",xx)\n",
    "print(r).........................>整个字符串中寻找，找到其位置：\n",
    "\n",
    "<re.Match object; span=(6, 9), match='佟丽娅'>\n",
    "\n",
    "print(r.span())...............>此为返回的位置\n",
    "print(r.group())..............>提取到匹配的内容\n",
    "\n",
    "search 也只能找一次结束了，找一次就停\n",
    "\n",
    "\n",
    "findall\n",
    "msg=\"abcd7v ijkfd8hdf00\"\n",
    "r=re.findall(\"[a-z][0-9][a-z]\",msg)\n",
    "r........................................>找到全部才会甘心\n",
    "\n",
    "正则里面\n",
    "[]表示一个范围[0-9]表示0至9\n",
    "\"[0-9][a-z]\" 表示前面是数字，后面是字母\n",
    "\n",
    "\n",
    "\n",
    "[0-9a-zA-Z]................>表示既可以是数字，小写字母，又可以是大写字母\n",
    "\n",
    "\n",
    "表示次数的方法：\n",
    "+号：\n",
    "m=\"a7adjpdsfrhoyrypw88jasfhoejsliah;;ddh9988888yjskhldfeb\"\n",
    "r=re.findall(\"[a-z][0-9]+[a-z]\",m)\n",
    "r....................................>表示大于等于1次，\n",
    "*....................................>表示大于等于0\n",
    "？...................................>表示0或者1次\n",
    "\n",
    "{m,n}............>大于等于m次，小于等于n次\n",
    "^..............>表示从头开始\n",
    "$..............>表示锁定结尾\n",
    "\n",
    "\n",
    "\n",
    "\\d==[0-9]\n",
    "\\D............>表示非数字\n",
    "\\s............>匹配任意空白字符 ==[\\t\\n\\r\\f]\n",
    "\\S............>匹配任意非空白字符\n",
    "\\w............>匹配任意字母数字及下划线\n",
    "\\W............>上面加个非\n",
    ".表示任意字符\n",
    "\n",
    "\n",
    "\n",
    "\\b............>单词伴有空格的提取，\n",
    "g=\"aa.py ab.py ab.txt bb.py kk.png uu.py apyb.jpg\"\n",
    "r=re.findall(r\"py\\b\",g)\n",
    "r\n",
    "\n",
    "(163|126|qq)...........>表示或者是163或者是126或者是qq\n",
    "\n",
    "\n",
    "\n",
    "\n",
    "tphone=input(\"请输入电话号码:\")\n",
    "r=re.match(r\"(^\\d{3}|\\d{4})-(\\d{8})$\",tphone)\n",
    "print(r)\n",
    "print(r.group())\n",
    "print(r.group(1))\n",
    "print(r.group(2)).................................>提取中（）（）一个算一组，用1，2，3表示第几组.....>r.group(1)\n",
    "\n",
    "\n",
    "\n",
    "c=re.match(r\"^<([0-9a-zA-Z]+)>(.+)</\\1>$\",msg1)....................\\1表示引用\n",
    "\n",
    "\n",
    "起名的方式：(?P<名字>正则)     调用(?P=名字)\n",
    "\n",
    "\n",
    "\n",
    "\n",
    "\n",
    "\n",
    "函数：\n",
    "match\n",
    "search\n",
    "findall\n",
    "sub................................替换功能，sub(正则表达式，\"新内容\"，string)\n",
    "\n",
    "split .................w=re.split(r\"[,:]\",mag) 在字符串中搜索如果遇到：或者,就分割 分割的结果是保存在列表中的\n"
   ]
  },
  {
   "cell_type": "code",
   "execution_count": 85,
   "metadata": {},
   "outputs": [
    {
     "name": "stdout",
     "output_type": "stream",
     "text": [
      "None\n"
     ]
    }
   ],
   "source": [
    "import re\n",
    "msg=\"娜扎热巴黛西佟丽娅\"\n",
    "\n",
    "pattern=re.compile(\"佟丽娅\")\n",
    "\n",
    "print(pattern.match(msg))"
   ]
  },
  {
   "cell_type": "code",
   "execution_count": 88,
   "metadata": {},
   "outputs": [
    {
     "name": "stdout",
     "output_type": "stream",
     "text": [
      "None\n"
     ]
    }
   ],
   "source": [
    "xx=\"娜扎热巴黛西佟丽娅\"\n",
    "a=re.match(\"佟丽娅\",xx)\n",
    "print(a)"
   ]
  },
  {
   "cell_type": "code",
   "execution_count": 91,
   "metadata": {},
   "outputs": [
    {
     "name": "stdout",
     "output_type": "stream",
     "text": [
      "<re.Match object; span=(6, 9), match='佟丽娅'>\n",
      "(6, 9)\n",
      "佟丽娅\n"
     ]
    }
   ],
   "source": [
    "r=re.search(\"佟丽娅\",xx)\n",
    "print(r)\n",
    "print(r.span())\n",
    "print(r.group())"
   ]
  },
  {
   "cell_type": "code",
   "execution_count": 100,
   "metadata": {},
   "outputs": [
    {
     "name": "stdout",
     "output_type": "stream",
     "text": [
      "d7v\n"
     ]
    }
   ],
   "source": [
    "msg=\"abcd7v ijkfd8hdf00\"\n",
    "r=re.search(\"[a-z][0-9][a-z]\",msg)\n",
    "print(r.group())"
   ]
  },
  {
   "cell_type": "code",
   "execution_count": 104,
   "metadata": {},
   "outputs": [
    {
     "data": {
      "text/plain": [
       "['d7v', 'd8h']"
      ]
     },
     "execution_count": 104,
     "metadata": {},
     "output_type": "execute_result"
    }
   ],
   "source": [
    "msg=\"abcd7v ijkfd8hdf00\"\n",
    "r=re.findall(\"[a-z][0-9][a-z]\",msg)\n",
    "r"
   ]
  },
  {
   "cell_type": "code",
   "execution_count": 106,
   "metadata": {},
   "outputs": [
    {
     "data": {
      "text/plain": [
       "['a7a', 'w88j', 'h9988888y']"
      ]
     },
     "execution_count": 106,
     "metadata": {},
     "output_type": "execute_result"
    }
   ],
   "source": [
    "m=\"a7adjpdsfrhoyrypw88jasfhoejsliah;;ddh9988888yjskhldfeb\"\n",
    "r=re.findall(\"[a-z][0-9]+[a-z]\",m)\n",
    "r"
   ]
  },
  {
   "cell_type": "code",
   "execution_count": 112,
   "metadata": {},
   "outputs": [
    {
     "name": "stdout",
     "output_type": "stream",
     "text": [
      "<re.Match object; span=(0, 11), match='16389623061'>\n"
     ]
    }
   ],
   "source": [
    "qq=\"16389623061\"\n",
    "r=re.match(\"^[1-9][0-9]{4,10}$\",qq)\n",
    "print(r)"
   ]
  },
  {
   "cell_type": "markdown",
   "metadata": {},
   "source": [
    "用户名可以是字母或者数字，不能是数字开头，用户名长度必须6位以上"
   ]
  },
  {
   "cell_type": "code",
   "execution_count": 116,
   "metadata": {},
   "outputs": [
    {
     "name": "stdout",
     "output_type": "stream",
     "text": [
      "请输入用户名:asdff\n",
      "None\n"
     ]
    }
   ],
   "source": [
    "username=input(\"请输入用户名:\")\n",
    "r=re.match(\"^[a-zA-Z][0-9a-zA-Z]{5,}$\",username)\n",
    "print(r)"
   ]
  },
  {
   "cell_type": "code",
   "execution_count": 120,
   "metadata": {},
   "outputs": [
    {
     "data": {
      "text/plain": [
       "['py', 'py', 'py', 'py']"
      ]
     },
     "execution_count": 120,
     "metadata": {},
     "output_type": "execute_result"
    }
   ],
   "source": [
    "g=\"aa.py ab.py ab.txt bb.py kk.png uu.py apyb.jpg\"\n",
    "r=re.findall(r\"py\\b\",g)\n",
    "r"
   ]
  },
  {
   "cell_type": "code",
   "execution_count": 123,
   "metadata": {},
   "outputs": [
    {
     "data": {
      "text/plain": [
       "['ab.py', 'bb.py', 'uu.py']"
      ]
     },
     "execution_count": 123,
     "metadata": {},
     "output_type": "execute_result"
    }
   ],
   "source": [
    "g=\"aa*py ab.py ab.txt bb.py kk.png uu.py apyb.jpg\"\n",
    "r=re.findall(r\"\\w+\\.py\\b\",g)\n",
    "r"
   ]
  },
  {
   "cell_type": "markdown",
   "metadata": {},
   "source": [
    "分组"
   ]
  },
  {
   "cell_type": "code",
   "execution_count": 128,
   "metadata": {},
   "outputs": [
    {
     "name": "stdout",
     "output_type": "stream",
     "text": [
      "请输入0-100的数:1\n",
      "<re.Match object; span=(0, 1), match='1'>\n"
     ]
    }
   ],
   "source": [
    "n=input(\"请输入0-100的数:\")\n",
    "\n",
    "r=re.match(r\"^[1-9]?\\d?$|100$\",n)\n",
    "print(r)"
   ]
  },
  {
   "cell_type": "code",
   "execution_count": 127,
   "metadata": {},
   "outputs": [
    {
     "name": "stdout",
     "output_type": "stream",
     "text": [
      "请输入邮箱:792318480@qq.com\n",
      "<re.Match object; span=(0, 16), match='792318480@qq.com'>\n"
     ]
    }
   ],
   "source": [
    "email=input(\"请输入邮箱:\")\n",
    "r=re.match(r\"^\\w{5,15}@(163|126|qq)\\.(com|cn)$\",email)\n",
    "print(r)"
   ]
  },
  {
   "cell_type": "markdown",
   "metadata": {},
   "source": [
    "不是以4，7结尾的手机号码(11位）"
   ]
  },
  {
   "cell_type": "code",
   "execution_count": 132,
   "metadata": {},
   "outputs": [
    {
     "name": "stdout",
     "output_type": "stream",
     "text": [
      "请输入手机号:15868539886\n",
      "<re.Match object; span=(0, 11), match='15868539886'>\n"
     ]
    }
   ],
   "source": [
    "phone=input(\"请输入手机号:\")\n",
    "r=re.match(r\"^1\\d{9}[0-35-689]$\",phone)\n",
    "print(r)"
   ]
  },
  {
   "cell_type": "code",
   "execution_count": 136,
   "metadata": {},
   "outputs": [
    {
     "name": "stdout",
     "output_type": "stream",
     "text": [
      "请输入电话号码:0574-67839886\n",
      "<re.Match object; span=(0, 13), match='0574-67839886'>\n",
      "0574-67839886\n",
      "0574\n",
      "67839886\n"
     ]
    }
   ],
   "source": [
    "tphone=input(\"请输入电话号码:\")\n",
    "r=re.match(r\"^(\\d{3}|\\d{4})-(\\d{8})$\",tphone)\n",
    "print(r)\n",
    "print(r.group())\n",
    "print(r.group(1))\n",
    "print(r.group(2))"
   ]
  },
  {
   "cell_type": "code",
   "execution_count": 4,
   "metadata": {},
   "outputs": [
    {
     "name": "stdout",
     "output_type": "stream",
     "text": [
      "<re.Match object; span=(0, 20), match='<html>catchup</html>'>\n",
      "catchup\n",
      "<re.Match object; span=(0, 18), match='<html>hello</html>'>\n"
     ]
    }
   ],
   "source": [
    "import re\n",
    "msg=\"<html>catchup</html>\"\n",
    "msg1=\"<html>hello</html>\"\n",
    "r=re.match(r\"^<[0-9a-zA-Z]+>(.+)</[0-9a-zA-Z]+>$\",msg)\n",
    "print(r)\n",
    "print(r.group(1))\n",
    "c=re.match(r\"^<([0-9a-zA-Z]+)>(.+)</\\1>$\",msg1)\n",
    "print(c)"
   ]
  },
  {
   "cell_type": "code",
   "execution_count": 10,
   "metadata": {},
   "outputs": [
    {
     "name": "stdout",
     "output_type": "stream",
     "text": [
      "<re.Match object; span=(0, 31), match='</h1></html>catchup</html></h1>'>\n",
      "h1\n",
      "html\n",
      "catchup\n"
     ]
    }
   ],
   "source": [
    "msg2=\"</h1></html>catchup</html></h1>\"\n",
    "r=re.match(r\"^</([0-9a-zA-Z]+)></([0-9a-zA-Z]+)>(.+)</\\2></\\1>$\",msg2)\n",
    "print(r)\n",
    "\n",
    "print(r.group(1))\n",
    "print(r.group(2))\n",
    "print(r.group(3))"
   ]
  },
  {
   "cell_type": "code",
   "execution_count": 17,
   "metadata": {},
   "outputs": [
    {
     "name": "stdout",
     "output_type": "stream",
     "text": [
      "<re.Match object; span=(0, 31), match='</h1></html>catchup</html></h1>'>\n",
      "/h1\n",
      "/html\n",
      "catchup\n"
     ]
    }
   ],
   "source": [
    "msg3=\"</h1></html>catchup</html></h1>\"\n",
    "r=re.match(r\"^<(?P<name1>/\\w+)><(?P<name2>/\\w+)>(.+)<(?P=name2)><(?P=name1)>$\",msg3)\n",
    "print(r)\n",
    "print(r.group(1))\n",
    "print(r.group(2))\n",
    "print(r.group(3))"
   ]
  },
  {
   "cell_type": "code",
   "execution_count": 18,
   "metadata": {},
   "outputs": [
    {
     "name": "stdout",
     "output_type": "stream",
     "text": [
      "张三数学考了97，王五考了97，阿斯考了97\n"
     ]
    }
   ],
   "source": [
    "mag=\"张三数学考了70，王五考了30，阿斯考了100\"\n",
    "t=re.sub(r\"\\d+\",\"97\",mag)\n",
    "print(t)"
   ]
  },
  {
   "cell_type": "code",
   "execution_count": 20,
   "metadata": {},
   "outputs": [
    {
     "name": "stdout",
     "output_type": "stream",
     "text": [
      "张三数学考了71，王五考了31，阿斯考了101\n"
     ]
    }
   ],
   "source": [
    "def func(temp):\n",
    "    num=temp.group()\n",
    "    num1=int(num)+1\n",
    "    return str(num1)\n",
    "\n",
    "p=re.sub(r\"\\d+\",func,mag)\n",
    "print(p)"
   ]
  },
  {
   "cell_type": "code",
   "execution_count": 21,
   "metadata": {},
   "outputs": [
    {
     "name": "stdout",
     "output_type": "stream",
     "text": [
      "['张三数学考了70，王五考了30，阿斯考了100']\n"
     ]
    }
   ],
   "source": [
    "w=re.split(r\"[,:]\",mag)\n",
    "print(w)"
   ]
  },
  {
   "cell_type": "markdown",
   "metadata": {},
   "source": [
    "# 贪婪与非贪婪"
   ]
  },
  {
   "cell_type": "raw",
   "metadata": {},
   "source": [
    "Python里面数量词默认是贪婪的(在少数语言中也可能是默认非贪婪)，总是尝试匹配尽可能多的字符：\n",
    "非贪婪则相反，总是尝试匹配尽可能少的字符\n",
    "在 \"*\",\"?\",\"+\",\"{m,n}\"后面加上？，使贪婪变成非贪婪。\n"
   ]
  },
  {
   "cell_type": "code",
   "execution_count": 23,
   "metadata": {},
   "outputs": [
    {
     "name": "stdout",
     "output_type": "stream",
     "text": [
      "None\n"
     ]
    }
   ],
   "source": [
    "msg=\"abc123abc\"\n",
    "j=re.match(r\"^abc(\\d+?)$\",msg)\n",
    "print(j)"
   ]
  },
  {
   "cell_type": "code",
   "execution_count": null,
   "metadata": {},
   "outputs": [],
   "source": []
  },
  {
   "cell_type": "code",
   "execution_count": null,
   "metadata": {},
   "outputs": [],
   "source": []
  }
 ],
 "metadata": {
  "kernelspec": {
   "display_name": "Python 3",
   "language": "python",
   "name": "python3"
  },
  "language_info": {
   "codemirror_mode": {
    "name": "ipython",
    "version": 3
   },
   "file_extension": ".py",
   "mimetype": "text/x-python",
   "name": "python",
   "nbconvert_exporter": "python",
   "pygments_lexer": "ipython3",
   "version": "3.7.6"
  }
 },
 "nbformat": 4,
 "nbformat_minor": 4
}
