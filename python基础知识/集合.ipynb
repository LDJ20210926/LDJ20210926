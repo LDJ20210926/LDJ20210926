{
 "cells": [
  {
   "cell_type": "raw",
   "metadata": {},
   "source": [
    "集合:\n",
    "关键字 set 无序的，不重复的元素\n",
    "声明集合：set s1=set()或者s2={元素1，元素2，元素3，元素4}\n",
    "作用："
   ]
  },
  {
   "cell_type": "code",
   "execution_count": 1,
   "metadata": {},
   "outputs": [],
   "source": [
    "s1=set()"
   ]
  },
  {
   "cell_type": "code",
   "execution_count": 3,
   "metadata": {},
   "outputs": [
    {
     "data": {
      "text/plain": [
       "set"
      ]
     },
     "execution_count": 3,
     "metadata": {},
     "output_type": "execute_result"
    }
   ],
   "source": [
    "type(s1)"
   ]
  },
  {
   "cell_type": "code",
   "execution_count": 4,
   "metadata": {},
   "outputs": [],
   "source": [
    "s2={1,2,3,4,5,6}"
   ]
  },
  {
   "cell_type": "code",
   "execution_count": 5,
   "metadata": {},
   "outputs": [
    {
     "data": {
      "text/plain": [
       "set"
      ]
     },
     "execution_count": 5,
     "metadata": {},
     "output_type": "execute_result"
    }
   ],
   "source": [
    "type(s2)"
   ]
  },
  {
   "cell_type": "code",
   "execution_count": 6,
   "metadata": {},
   "outputs": [
    {
     "data": {
      "text/plain": [
       "{1, 2, 3, 5, 6, 7, 9, 10, 88}"
      ]
     },
     "execution_count": 6,
     "metadata": {},
     "output_type": "execute_result"
    }
   ],
   "source": [
    "list1=[1,1,1,1,2,3,5,5,6,7,88,9,9,9,10]\n",
    "set(list1)"
   ]
  },
  {
   "cell_type": "markdown",
   "metadata": {},
   "source": [
    "应用：如果将一个列表快速去重 set()"
   ]
  },
  {
   "cell_type": "raw",
   "metadata": {},
   "source": [
    "集合里面的增：\n",
    "s1.add() 只能添加一个元素\n",
    "s1.update() 可以添加多个元素"
   ]
  },
  {
   "cell_type": "code",
   "execution_count": 9,
   "metadata": {},
   "outputs": [],
   "source": [
    "s1=set()\n",
    "s1.add(\"hello\")"
   ]
  },
  {
   "cell_type": "code",
   "execution_count": 10,
   "metadata": {},
   "outputs": [
    {
     "data": {
      "text/plain": [
       "{'hello'}"
      ]
     },
     "execution_count": 10,
     "metadata": {},
     "output_type": "execute_result"
    }
   ],
   "source": [
    "s1"
   ]
  },
  {
   "cell_type": "code",
   "execution_count": 11,
   "metadata": {},
   "outputs": [],
   "source": [
    "t1=(\"林志玲\",\"言承旭\")\n",
    "s1.update(t1)"
   ]
  },
  {
   "cell_type": "code",
   "execution_count": 12,
   "metadata": {},
   "outputs": [
    {
     "data": {
      "text/plain": [
       "{'hello', '林志玲', '言承旭'}"
      ]
     },
     "execution_count": 12,
     "metadata": {},
     "output_type": "execute_result"
    }
   ],
   "source": [
    "s1"
   ]
  },
  {
   "cell_type": "code",
   "execution_count": 13,
   "metadata": {},
   "outputs": [],
   "source": [
    "s1.add(t1)"
   ]
  },
  {
   "cell_type": "code",
   "execution_count": 14,
   "metadata": {},
   "outputs": [
    {
     "data": {
      "text/plain": [
       "{('林志玲', '言承旭'), 'hello', '林志玲', '言承旭'}"
      ]
     },
     "execution_count": 14,
     "metadata": {},
     "output_type": "execute_result"
    }
   ],
   "source": [
    "s1"
   ]
  },
  {
   "cell_type": "markdown",
   "metadata": {},
   "source": [
    "以上为add以及update的区别"
   ]
  },
  {
   "cell_type": "code",
   "execution_count": 15,
   "metadata": {},
   "outputs": [],
   "source": [
    "s1.remove(\"言承旭\")"
   ]
  },
  {
   "cell_type": "code",
   "execution_count": 16,
   "metadata": {},
   "outputs": [
    {
     "data": {
      "text/plain": [
       "{('林志玲', '言承旭'), 'hello', '林志玲'}"
      ]
     },
     "execution_count": 16,
     "metadata": {},
     "output_type": "execute_result"
    }
   ],
   "source": [
    "s1"
   ]
  },
  {
   "cell_type": "raw",
   "metadata": {},
   "source": [
    "集合里面的删除：\n",
    "s1.remove 如果元素存在就删除，不存在则报错keyerror\n",
    "s1.pop() 随机删除(一般删除第一个元素)\n",
    "s1.clear()清空\n",
    "s1.discard() 类似remove，但是如果没有，不会报错"
   ]
  },
  {
   "cell_type": "code",
   "execution_count": 17,
   "metadata": {},
   "outputs": [
    {
     "data": {
      "text/plain": [
       "('林志玲', '言承旭')"
      ]
     },
     "execution_count": 17,
     "metadata": {},
     "output_type": "execute_result"
    }
   ],
   "source": [
    "s1.pop()"
   ]
  },
  {
   "cell_type": "code",
   "execution_count": 18,
   "metadata": {},
   "outputs": [
    {
     "data": {
      "text/plain": [
       "'hello'"
      ]
     },
     "execution_count": 18,
     "metadata": {},
     "output_type": "execute_result"
    }
   ],
   "source": [
    "s1.pop()"
   ]
  },
  {
   "cell_type": "code",
   "execution_count": 19,
   "metadata": {},
   "outputs": [
    {
     "data": {
      "text/plain": [
       "{'林志玲'}"
      ]
     },
     "execution_count": 19,
     "metadata": {},
     "output_type": "execute_result"
    }
   ],
   "source": [
    "s1"
   ]
  },
  {
   "cell_type": "code",
   "execution_count": 20,
   "metadata": {},
   "outputs": [],
   "source": [
    "s1.discard(\"言承旭\")"
   ]
  },
  {
   "cell_type": "code",
   "execution_count": 21,
   "metadata": {},
   "outputs": [
    {
     "data": {
      "text/plain": [
       "{'林志玲'}"
      ]
     },
     "execution_count": 21,
     "metadata": {},
     "output_type": "execute_result"
    }
   ],
   "source": [
    "s1"
   ]
  },
  {
   "cell_type": "markdown",
   "metadata": {},
   "source": [
    "产生10个1~20的随机数，去除里面的重复项"
   ]
  },
  {
   "cell_type": "code",
   "execution_count": 23,
   "metadata": {},
   "outputs": [
    {
     "name": "stdout",
     "output_type": "stream",
     "text": [
      "[13, 10, 10, 13, 12, 12, 1, 8, 12, 9]\n",
      "{1, 8, 9, 10, 12, 13}\n"
     ]
    }
   ],
   "source": [
    "import random\n",
    "list1=[]\n",
    "\n",
    "for i in range(10):\n",
    "    ran=random.randint(1,20)\n",
    "    list1.append(ran)\n",
    "\n",
    "s1=set(list1)\n",
    "\n",
    "print(list1)\n",
    "print(s1)\n"
   ]
  },
  {
   "cell_type": "code",
   "execution_count": 25,
   "metadata": {},
   "outputs": [
    {
     "name": "stdout",
     "output_type": "stream",
     "text": [
      "{2, 3, 9, 11, 13, 15, 18}\n"
     ]
    }
   ],
   "source": [
    "s2=set()\n",
    "for i in range(10):\n",
    "    ran=random.randint(1,20)\n",
    "    s2.add(ran)\n",
    "print(s2)"
   ]
  },
  {
   "cell_type": "markdown",
   "metadata": {},
   "source": [
    "键盘键入一个元素，将此元素从不重复的集合中删除"
   ]
  },
  {
   "cell_type": "code",
   "execution_count": 24,
   "metadata": {},
   "outputs": [
    {
     "name": "stdout",
     "output_type": "stream",
     "text": [
      "输入一个数字:1\n",
      "删除后的结果是:{8, 9, 10, 12, 13}\n"
     ]
    }
   ],
   "source": [
    "num = int(input(\"输入一个数字:\"))\n",
    "\n",
    "s1.discard(num)\n",
    "\n",
    "print(\"删除后的结果是:{}\".format(s1))\n"
   ]
  },
  {
   "cell_type": "raw",
   "metadata": {},
   "source": [
    "其他：符号操作\n",
    "6 in set1 \n",
    "set1==set2 判断两个集合中的内容是否相等\n",
    "set1!=set2\n",
    "+，* 不支持\n",
    "set2-set1 差集 difference() set1.difference(set2)\n",
    "\n",
    "& 交集  intersection() set1.intersection(set2)\n",
    "| 并集  union()   set1.union(set2)\n",
    "s1^s2 ；两个列表中不一样的元素 对称差集 s1.symmetric_difference(s2)\n",
    "\n",
    "update 相当于赋值\n"
   ]
  },
  {
   "cell_type": "code",
   "execution_count": 26,
   "metadata": {},
   "outputs": [],
   "source": [
    "s1={1,2,3,7,4,0}\n",
    "s2={9,2,5,3,7,4}"
   ]
  },
  {
   "cell_type": "code",
   "execution_count": 27,
   "metadata": {},
   "outputs": [],
   "source": [
    "s1.difference_update(s2)"
   ]
  },
  {
   "cell_type": "code",
   "execution_count": 28,
   "metadata": {},
   "outputs": [
    {
     "data": {
      "text/plain": [
       "{0, 1}"
      ]
     },
     "execution_count": 28,
     "metadata": {},
     "output_type": "execute_result"
    }
   ],
   "source": [
    "s1"
   ]
  },
  {
   "cell_type": "raw",
   "metadata": {},
   "source": [
    "可变与不可变：\n",
    "\n",
    "不可变：对象所指向的内存中的值是不可改变的\n",
    "\n",
    "不可变的类型：int str float 元组tuple\n",
    "\n",
    "可变的：对象所指向的内存中的值是可改变的\n",
    "可变类型： 字典dict 列表list 集合set"
   ]
  },
  {
   "cell_type": "code",
   "execution_count": 30,
   "metadata": {},
   "outputs": [
    {
     "name": "stdout",
     "output_type": "stream",
     "text": [
      "[1, 2, 3, 4, 5] 2193597420936\n",
      "[1, 2, 3, 4] 2193597420936\n"
     ]
    }
   ],
   "source": [
    "list1=[1,2,3,4,5]\n",
    "print(list1,id(list1))\n",
    "\n",
    "list1.pop()\n",
    "print(list1,id(list1))"
   ]
  },
  {
   "cell_type": "code",
   "execution_count": 31,
   "metadata": {},
   "outputs": [
    {
     "name": "stdout",
     "output_type": "stream",
     "text": [
      "{1: 'aa', 2: 'bb'} 2193596846392\n",
      "{2: 'bb'} 2193596846392\n"
     ]
    }
   ],
   "source": [
    "dict1={1:\"aa\",2:\"bb\"}\n",
    "print(dict1,id(dict1))\n",
    "\n",
    "dict1.pop(1)\n",
    "print(dict1,id(dict1))"
   ]
  },
  {
   "cell_type": "code",
   "execution_count": 32,
   "metadata": {},
   "outputs": [
    {
     "name": "stdout",
     "output_type": "stream",
     "text": [
      "{1, 2, 3, 4, 5} 2193596602408\n",
      "{2, 3, 4, 5} 2193596602408\n"
     ]
    }
   ],
   "source": [
    "s1={1,2,3,4,5}\n",
    "print(s1,id(s1))\n",
    "\n",
    "s1.pop()\n",
    "print(s1,id(s1))"
   ]
  },
  {
   "cell_type": "code",
   "execution_count": null,
   "metadata": {},
   "outputs": [],
   "source": []
  }
 ],
 "metadata": {
  "kernelspec": {
   "display_name": "Python 3",
   "language": "python",
   "name": "python3"
  },
  "language_info": {
   "codemirror_mode": {
    "name": "ipython",
    "version": 3
   },
   "file_extension": ".py",
   "mimetype": "text/x-python",
   "name": "python",
   "nbconvert_exporter": "python",
   "pygments_lexer": "ipython3",
   "version": "3.7.6"
  }
 },
 "nbformat": 4,
 "nbformat_minor": 4
}
