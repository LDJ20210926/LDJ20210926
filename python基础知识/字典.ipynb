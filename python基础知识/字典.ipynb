{
 "cells": [
  {
   "cell_type": "raw",
   "metadata": {},
   "source": [
    "dictionary 字典\n",
    "应用：\n",
    "貂蝉---[\"屠龙刀\"，\"手榴弹\"] 800\n",
    "诸葛亮---[\"鹅毛扇\"，\"98K\"] 300\n",
    "\n",
    "字典：\n",
    "特点：\n",
    "1.符号{}\n",
    "2.关键字：dict\n",
    "3.保存的元素是: key:value 对\n",
    "\n",
    "\n",
    "列表   元组    字典\n",
    "list   tuple   dict\n",
    "ele    ele    key:value\n"
   ]
  },
  {
   "cell_type": "code",
   "execution_count": 2,
   "metadata": {},
   "outputs": [],
   "source": [
    "dict1={}\n",
    "dict2=dict()\n",
    "dict3={\"ID\":\"123456789\",\"name\":\"lucky\"}"
   ]
  },
  {
   "cell_type": "code",
   "execution_count": 3,
   "metadata": {},
   "outputs": [
    {
     "data": {
      "text/plain": [
       "{'ID': '123456789', 'name': 'lucky'}"
      ]
     },
     "execution_count": 3,
     "metadata": {},
     "output_type": "execute_result"
    }
   ],
   "source": [
    "dict3"
   ]
  },
  {
   "cell_type": "code",
   "execution_count": 4,
   "metadata": {},
   "outputs": [
    {
     "name": "stdout",
     "output_type": "stream",
     "text": [
      "{'name': 'lucky', 'age': 18}\n"
     ]
    }
   ],
   "source": [
    "dict4=dict([(\"name\",\"lucky\"),(\"age\",18)])\n",
    "print(dict4)"
   ]
  },
  {
   "cell_type": "markdown",
   "metadata": {},
   "source": [
    "注意：list可以转换成字典，但是前提是：列表中元素都要成对出现"
   ]
  },
  {
   "cell_type": "raw",
   "metadata": {},
   "source": [
    "字典的增删改查：\n",
    "\n",
    "增加：\n",
    "dictx[key]=value;如果有同名的key 则发生值的覆盖(后面的值覆盖前面的值)；如果没有同名，则是添加到字典中\n",
    "\n",
    "查询：\n",
    "dict1[key]\n",
    "dict1.get(key,default)\n",
    "\n",
    "删除：\n",
    "del dict1[key]\n",
    "\n",
    "dict1.pop(key，default).....>根据key删除字典中的键值对，返回值是，只要删除成功，则返回键值对的值value\n",
    "\n",
    "dict.popitem():随机删除字典中键值对(一般是从末尾删除元素)\n",
    "\n",
    "dict.clear() 清空"
   ]
  },
  {
   "cell_type": "code",
   "execution_count": 5,
   "metadata": {},
   "outputs": [],
   "source": [
    "dict6={}\n",
    "dict6[\"brand\"]=\"huawei\""
   ]
  },
  {
   "cell_type": "code",
   "execution_count": 6,
   "metadata": {},
   "outputs": [
    {
     "data": {
      "text/plain": [
       "{'brand': 'huawei'}"
      ]
     },
     "execution_count": 6,
     "metadata": {},
     "output_type": "execute_result"
    }
   ],
   "source": [
    "dict6"
   ]
  },
  {
   "cell_type": "code",
   "execution_count": 7,
   "metadata": {},
   "outputs": [],
   "source": [
    "dict6[\"type\"]=\"P30 pro\"\n",
    "dict6[\"price\"]=8999\n",
    "dict6[\"color\"]=\"黑色\""
   ]
  },
  {
   "cell_type": "code",
   "execution_count": 8,
   "metadata": {},
   "outputs": [
    {
     "data": {
      "text/plain": [
       "{'brand': 'huawei', 'type': 'P30 pro', 'price': 8999, 'color': '黑色'}"
      ]
     },
     "execution_count": 8,
     "metadata": {},
     "output_type": "execute_result"
    }
   ],
   "source": [
    "dict6"
   ]
  },
  {
   "cell_type": "markdown",
   "metadata": {},
   "source": [
    "用户注册功能"
   ]
  },
  {
   "cell_type": "code",
   "execution_count": 10,
   "metadata": {},
   "outputs": [
    {
     "name": "stdout",
     "output_type": "stream",
     "text": [
      "-------------------- 欢迎来到智联招聘用户注册 --------------------\n",
      "输入用户名:townnosio\n",
      "输入密码:123456\n",
      "输入确认密码:1222222\n",
      "输入邮箱:79909400@qq.com\n",
      "输入手机号:135678999901\n",
      "两次密码不一致!重新输入.....\n",
      "输入用户名:1\n",
      "输入密码:1\n",
      "输入确认密码:1\n",
      "输入邮箱:1\n",
      "输入手机号:1\n",
      "是否继续注册？(y/n)n\n",
      "[{'username': '1', 'password': '1', 'email': '1', 'phone': '1'}]\n"
     ]
    }
   ],
   "source": [
    "\n",
    "\n",
    "print(\"-\"*20,\"欢迎来到智联招聘用户注册\",\"-\"*20)\n",
    "\n",
    "database=[]\n",
    "\n",
    "while True:\n",
    "    username= input(\"输入用户名:\")\n",
    "    password= input(\"输入密码:\")\n",
    "    repassword=input(\"输入确认密码:\")\n",
    "    email=input(\"输入邮箱:\")\n",
    "    phone=input(\"输入手机号:\")\n",
    "    \n",
    "    user={}\n",
    "    \n",
    "    user[\"username\"]=username\n",
    "    if password==repassword:\n",
    "        user[\"password\"]=password\n",
    "    else:\n",
    "        print(\"两次密码不一致!重新输入.....\")\n",
    "        continue\n",
    "        \n",
    "    user[\"email\"]=email\n",
    "    user[\"phone\"]=phone\n",
    "    \n",
    "    database.append(user)\n",
    "    \n",
    "    answer=input(\"是否继续注册？(y/n)\")\n",
    "    \n",
    "    if answer!=\"y\":\n",
    "        break\n",
    "\n",
    "print(database)\n"
   ]
  },
  {
   "cell_type": "code",
   "execution_count": 11,
   "metadata": {},
   "outputs": [],
   "source": [
    "dict9={\"1\":\"张三\",\"2\":\"李四\",\"3\":\"王五\"}"
   ]
  },
  {
   "cell_type": "code",
   "execution_count": 13,
   "metadata": {},
   "outputs": [
    {
     "data": {
      "text/plain": [
       "'王五'"
      ]
     },
     "execution_count": 13,
     "metadata": {},
     "output_type": "execute_result"
    }
   ],
   "source": [
    "dict9[\"3\"]"
   ]
  },
  {
   "cell_type": "code",
   "execution_count": 15,
   "metadata": {},
   "outputs": [
    {
     "name": "stdout",
     "output_type": "stream",
     "text": [
      "1\n",
      "2\n",
      "3\n"
     ]
    }
   ],
   "source": [
    "dict9={\"1\":\"张三\",\"2\":\"李四\",\"3\":\"王五\"}\n",
    "for i in dict9:\n",
    "    print(i)"
   ]
  },
  {
   "cell_type": "markdown",
   "metadata": {},
   "source": [
    "遍历的结果是：就是字典的key"
   ]
  },
  {
   "cell_type": "raw",
   "metadata": {},
   "source": [
    "字典里面的函数：\n",
    "items() 将字典的键值对转成列表保存形式[(key,value),(key,value)]\n",
    "\n",
    "values()取出字典的所有值来，保存到了列表中\n",
    "\n",
    "keys()取出字典的所有key来\n",
    "in 也可以用于字典的操作，用于判断元素有没有在字典的key中出现\n",
    "\n",
    "其他内置函数：\n",
    "update() []+[]\n",
    "fromkeys(seq,default)......>将seq转化成字典的形式 如果没有指定默认的value，则用none\n",
    "                            如果给定default，则用default替代none\n"
   ]
  },
  {
   "cell_type": "code",
   "execution_count": 16,
   "metadata": {},
   "outputs": [
    {
     "data": {
      "text/plain": [
       "dict_items([('1', '张三'), ('2', '李四'), ('3', '王五')])"
      ]
     },
     "execution_count": 16,
     "metadata": {},
     "output_type": "execute_result"
    }
   ],
   "source": [
    "dict9.items()"
   ]
  },
  {
   "cell_type": "code",
   "execution_count": 18,
   "metadata": {},
   "outputs": [
    {
     "name": "stdout",
     "output_type": "stream",
     "text": [
      "1 张三\n",
      "2 李四\n",
      "3 王五\n"
     ]
    }
   ],
   "source": [
    "for key,value in dict9.items():\n",
    "    print(key,value)"
   ]
  },
  {
   "cell_type": "code",
   "execution_count": 23,
   "metadata": {},
   "outputs": [
    {
     "name": "stdout",
     "output_type": "stream",
     "text": [
      "王五\n",
      "张三\n"
     ]
    }
   ],
   "source": [
    "dict8={\"王五\":100,\"张三\":90,\"李四\":80,\"狗儿\":75}\n",
    "for key,value in dict8.items():\n",
    "    if value>80:\n",
    "        print(key)"
   ]
  },
  {
   "cell_type": "markdown",
   "metadata": {},
   "source": [
    "以上为查找方法"
   ]
  },
  {
   "cell_type": "code",
   "execution_count": 24,
   "metadata": {},
   "outputs": [
    {
     "data": {
      "text/plain": [
       "dict_values([100, 90, 80, 75])"
      ]
     },
     "execution_count": 24,
     "metadata": {},
     "output_type": "execute_result"
    }
   ],
   "source": [
    "dict8.values()"
   ]
  },
  {
   "cell_type": "code",
   "execution_count": 28,
   "metadata": {},
   "outputs": [],
   "source": [
    "s=dict8.values()\n",
    "t=sum(s)\n",
    "v=len(s)\n",
    "avg=t/v"
   ]
  },
  {
   "cell_type": "code",
   "execution_count": 29,
   "metadata": {},
   "outputs": [
    {
     "data": {
      "text/plain": [
       "86.25"
      ]
     },
     "execution_count": 29,
     "metadata": {},
     "output_type": "execute_result"
    }
   ],
   "source": [
    "avg"
   ]
  },
  {
   "cell_type": "code",
   "execution_count": 30,
   "metadata": {},
   "outputs": [
    {
     "data": {
      "text/plain": [
       "dict_keys(['王五', '张三', '李四', '狗儿'])"
      ]
     },
     "execution_count": 30,
     "metadata": {},
     "output_type": "execute_result"
    }
   ],
   "source": [
    "dict8.keys()"
   ]
  },
  {
   "cell_type": "raw",
   "metadata": {},
   "source": [
    "1.根据key获取值\n",
    "  dict[key]=value,如果key在字典中没有存在则报出keyError\n",
    "2.字典的内置函数：\n",
    "get(key)......> value 如果取不到值则不会报错，则返回none\n",
    "get(key,default).......>value 如果能够取到值则返回字典中的值，如果取不到则返回default的值\n",
    "\n",
    "  "
   ]
  },
  {
   "cell_type": "code",
   "execution_count": 33,
   "metadata": {},
   "outputs": [
    {
     "data": {
      "text/plain": [
       "99"
      ]
     },
     "execution_count": 33,
     "metadata": {},
     "output_type": "execute_result"
    }
   ],
   "source": [
    "dict8={\"王五\":100,\"张三\":90,\"李四\":80,\"狗儿\":75}\n",
    "dict8.get(\"赵飞\",99)"
   ]
  },
  {
   "cell_type": "code",
   "execution_count": 34,
   "metadata": {},
   "outputs": [],
   "source": [
    "del dict8[\"王五\"]"
   ]
  },
  {
   "cell_type": "code",
   "execution_count": 35,
   "metadata": {},
   "outputs": [
    {
     "data": {
      "text/plain": [
       "{'张三': 90, '李四': 80, '狗儿': 75}"
      ]
     },
     "execution_count": 35,
     "metadata": {},
     "output_type": "execute_result"
    }
   ],
   "source": [
    "dict8"
   ]
  },
  {
   "cell_type": "code",
   "execution_count": 37,
   "metadata": {},
   "outputs": [
    {
     "data": {
      "text/plain": [
       "'字典中没有此键'"
      ]
     },
     "execution_count": 37,
     "metadata": {},
     "output_type": "execute_result"
    }
   ],
   "source": [
    "dict8.pop(\"张小三\",\"字典中没有此键\")"
   ]
  },
  {
   "cell_type": "markdown",
   "metadata": {},
   "source": [
    "当输入的key1不在keys中，则后面若有default，则输出default"
   ]
  },
  {
   "cell_type": "code",
   "execution_count": 38,
   "metadata": {},
   "outputs": [
    {
     "data": {
      "text/plain": [
       "('狗儿', 75)"
      ]
     },
     "execution_count": 38,
     "metadata": {},
     "output_type": "execute_result"
    }
   ],
   "source": [
    "dict8.popitem()"
   ]
  },
  {
   "cell_type": "code",
   "execution_count": 39,
   "metadata": {},
   "outputs": [
    {
     "data": {
      "text/plain": [
       "{'张三': 90, '李四': 80}"
      ]
     },
     "execution_count": 39,
     "metadata": {},
     "output_type": "execute_result"
    }
   ],
   "source": [
    "dict8"
   ]
  },
  {
   "cell_type": "code",
   "execution_count": 40,
   "metadata": {},
   "outputs": [],
   "source": [
    "dict4={0:\"tom\",1:\"jack\",2:\"lucy\"}\n",
    "dict5={0:\"lily\",4:\"ruby\"}\n",
    "dict4.update(dict5)"
   ]
  },
  {
   "cell_type": "code",
   "execution_count": 41,
   "metadata": {},
   "outputs": [
    {
     "data": {
      "text/plain": [
       "{0: 'lily', 1: 'jack', 2: 'lucy', 4: 'ruby'}"
      ]
     },
     "execution_count": 41,
     "metadata": {},
     "output_type": "execute_result"
    }
   ],
   "source": [
    "dict4"
   ]
  },
  {
   "cell_type": "markdown",
   "metadata": {},
   "source": [
    "dict4.update(dict5) 指将dict4进行更新，同key的进行覆盖，无key的进行末尾添加"
   ]
  },
  {
   "cell_type": "code",
   "execution_count": 42,
   "metadata": {},
   "outputs": [
    {
     "data": {
      "text/plain": [
       "{'aa': 10, 'bb': 10, 'cc': 10}"
      ]
     },
     "execution_count": 42,
     "metadata": {},
     "output_type": "execute_result"
    }
   ],
   "source": [
    "dict4={0:\"tom\",1:\"jack\",2:\"lucy\"}\n",
    "dict5={0:\"lily\",4:\"ruby\"}\n",
    "list1=[\"aa\",\"bb\",\"cc\"]\n",
    "dict.fromkeys(list1,10)"
   ]
  },
  {
   "cell_type": "code",
   "execution_count": null,
   "metadata": {},
   "outputs": [],
   "source": []
  }
 ],
 "metadata": {
  "kernelspec": {
   "display_name": "Python 3",
   "language": "python",
   "name": "python3"
  },
  "language_info": {
   "codemirror_mode": {
    "name": "ipython",
    "version": 3
   },
   "file_extension": ".py",
   "mimetype": "text/x-python",
   "name": "python",
   "nbconvert_exporter": "python",
   "pygments_lexer": "ipython3",
   "version": "3.7.6"
  }
 },
 "nbformat": 4,
 "nbformat_minor": 4
}
