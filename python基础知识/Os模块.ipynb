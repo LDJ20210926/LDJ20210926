{
 "cells": [
  {
   "cell_type": "raw",
   "metadata": {},
   "source": [
    "模块：os.py\n",
    "找文件路径\n",
    "os.path.dirname(_file_) 获取当前文件所在的文件目录(以绝对路径的形式告知)\n",
    "os.path.join(path,\"要保存的文件名\") 返回的是一个拼接后的新路径\n",
    "\n",
    "\n",
    "\n",
    "\n",
    "\n",
    "abs 绝对路径  c:\\p1\\girl.jpg\n",
    "..\\images\\girls.jpg 点点表示当前文件的上一级code,并找同级别的images\n",
    "\n",
    "\n",
    "\n",
    "os.getcwd()获得当前文件夹的位置\n",
    "\n",
    "\n",
    "os.path.split(path) 将地址截成两段，放入元组中，后面一段是文件名\n",
    "\n",
    "os.path.splitext(path2)这是获取文件的扩展名\n",
    "\n",
    "os.path.getsize(path2)获取文件大小，单位是字节\n",
    "\n",
    "\n",
    "isabs()  是绝对路径吗\n",
    "isfile() 是文件吗\n",
    "isdir()  是文件夹吗"
   ]
  },
  {
   "cell_type": "code",
   "execution_count": 13,
   "metadata": {},
   "outputs": [
    {
     "name": "stdout",
     "output_type": "stream",
     "text": [
      "文件复制完成！\n"
     ]
    }
   ],
   "source": [
    "import os\n",
    "with open(r\"C:\\Users\\HUAWEI\\Desktop\\芦栋杰+上传附件\\cd.jpg\",\"rb\") as stream5:\n",
    "    contianer=stream5.read()\n",
    "    \n",
    "    path1=os.path.dirname(r\"C:\\Users\\HUAWEI\\Desktop\\芦栋杰+上传附件\\cd.jpg\")\n",
    "    \n",
    "    path2=os.path.join(path1,\"aaaaa.jpg\")\n",
    "    \n",
    "    with open(path2,\"wb\") as wstream:\n",
    "        wstream.write(contianer)\n",
    "\n",
    "print(\"文件复制完成！\")"
   ]
  },
  {
   "cell_type": "code",
   "execution_count": 20,
   "metadata": {},
   "outputs": [
    {
     "data": {
      "text/plain": [
       "'C:\\\\Users\\\\HUAWEI\\\\desktop\\\\a'"
      ]
     },
     "execution_count": 20,
     "metadata": {},
     "output_type": "execute_result"
    }
   ],
   "source": [
    "os.getcwd()"
   ]
  },
  {
   "cell_type": "code",
   "execution_count": 25,
   "metadata": {},
   "outputs": [
    {
     "data": {
      "text/plain": [
       "('C:\\\\Users\\\\HUAWEI\\\\Desktop\\\\芦栋杰+上传附件', 'cd.jpg')"
      ]
     },
     "execution_count": 25,
     "metadata": {},
     "output_type": "execute_result"
    }
   ],
   "source": [
    "path2=r\"C:\\Users\\HUAWEI\\Desktop\\芦栋杰+上传附件\\cd.jpg\"\n",
    "os.path.split(path2)"
   ]
  },
  {
   "cell_type": "code",
   "execution_count": 26,
   "metadata": {},
   "outputs": [
    {
     "data": {
      "text/plain": [
       "('C:\\\\Users\\\\HUAWEI\\\\Desktop\\\\芦栋杰+上传附件\\\\cd', '.jpg')"
      ]
     },
     "execution_count": 26,
     "metadata": {},
     "output_type": "execute_result"
    }
   ],
   "source": [
    "os.path.splitext(path2)"
   ]
  },
  {
   "cell_type": "code",
   "execution_count": 27,
   "metadata": {},
   "outputs": [
    {
     "data": {
      "text/plain": [
       "57170"
      ]
     },
     "execution_count": 27,
     "metadata": {},
     "output_type": "execute_result"
    }
   ],
   "source": [
    "os.path.getsize(path2)"
   ]
  },
  {
   "cell_type": "markdown",
   "metadata": {},
   "source": [
    "# os中的函数"
   ]
  },
  {
   "cell_type": "raw",
   "metadata": {},
   "source": [
    "os.listdir(r\"c:\\p1\")    返回指定目录下的所有 文件和文件夹,保存到列表中\n",
    "\n",
    "os.mkdir(r\"c:\\p3\")     返回是创建一个文件夹\n",
    "\n",
    "os.rmdir(r\"c:\\p3\")     只能删除空的文件夹\n",
    "\n",
    "os.remove(r\"c:\\p3\\qw.text\")  删除文件夹里面的文件\n",
    "\n",
    "os.chdir(r\"c:\\p3\")       切换目录"
   ]
  },
  {
   "cell_type": "code",
   "execution_count": 28,
   "metadata": {},
   "outputs": [
    {
     "data": {
      "text/plain": [
       "['.ipynb_checkpoints',\n",
       " 'aa.txt',\n",
       " 'b.jpg',\n",
       " 'demo01.ipynb',\n",
       " 'game.ipynb',\n",
       " 'list.ipynb',\n",
       " 'Os模块.ipynb',\n",
       " 'python的内置字符串函数.ipynb',\n",
       " 'str.1.ipynb',\n",
       " '元组.ipynb',\n",
       " '函数.ipynb',\n",
       " '列表函数.ipynb',\n",
       " '字典.ipynb',\n",
       " '枚举+选择排序.ipynb',\n",
       " '王者荣耀游戏.ipynb',\n",
       " '类型转换.ipynb',\n",
       " '集合.ipynb']"
      ]
     },
     "execution_count": 28,
     "metadata": {},
     "output_type": "execute_result"
    }
   ],
   "source": [
    "os.listdir(r\"C:\\\\Users\\\\HUAWEI\\\\desktop\\\\a\")"
   ]
  },
  {
   "cell_type": "code",
   "execution_count": 29,
   "metadata": {},
   "outputs": [],
   "source": [
    "os.mkdir(r\"C:\\\\Users\\\\HUAWEI\\\\desktop\\\\a\\\\aaaaa\")"
   ]
  },
  {
   "cell_type": "code",
   "execution_count": 30,
   "metadata": {},
   "outputs": [],
   "source": [
    "os.rmdir(r\"C:\\\\Users\\\\HUAWEI\\\\desktop\\\\a\\\\aaaaa\")"
   ]
  },
  {
   "cell_type": "code",
   "execution_count": 37,
   "metadata": {},
   "outputs": [],
   "source": [
    "os.remove(r\"C:\\\\Users\\\\HUAWEI\\\\Desktop\\\\芦栋杰+上传附件\\\\aaaaa\\aaaaa.jpg\")"
   ]
  },
  {
   "cell_type": "code",
   "execution_count": 38,
   "metadata": {},
   "outputs": [
    {
     "name": "stdout",
     "output_type": "stream",
     "text": [
      "删除成功！\n"
     ]
    }
   ],
   "source": [
    "path=r\"C:\\\\Users\\\\HUAWEI\\\\Desktop\\\\芦栋杰+上传附件\\\\aaaaa\"\n",
    "\n",
    "filelist=os.listdir(path)\n",
    "\n",
    "for file in filelist:\n",
    "    path1=os.path.join(path,file)\n",
    "    os.remove(path1)\n",
    "    \n",
    "else:\n",
    "    os.rmdir(path)\n",
    "    \n",
    "print(\"删除成功！\")"
   ]
  },
  {
   "cell_type": "markdown",
   "metadata": {},
   "source": [
    "以上为删除文件，再加删除文件夹"
   ]
  },
  {
   "cell_type": "markdown",
   "metadata": {},
   "source": [
    "将其中一个文件夹中的文件复制到另一个文件夹中"
   ]
  },
  {
   "cell_type": "code",
   "execution_count": 39,
   "metadata": {},
   "outputs": [],
   "source": [
    "def copy(src,target):\n",
    "    if os.path.isdir(src) and os.path.isdir(target):\n",
    "        filelist=os.listdir(src)\n",
    "        \n",
    "        for file in filelist:\n",
    "            \n",
    "            path=os.path.join(src,file)\n",
    "            \n",
    "            with open(path,\"rb\") as stream:\n",
    "                container=stream.read()\n",
    "                \n",
    "                path1=os.path.join(target,file)\n",
    "                \n",
    "                with open(path1,\"wb\") as wstream:\n",
    "                    wstream.write(container)\n",
    "        else:\n",
    "            print(\"复制完毕！\")"
   ]
  },
  {
   "cell_type": "code",
   "execution_count": 40,
   "metadata": {},
   "outputs": [
    {
     "name": "stdout",
     "output_type": "stream",
     "text": [
      "复制完毕！\n"
     ]
    }
   ],
   "source": [
    "scr=r\"C:\\Users\\HUAWEI\\Desktop\\芦栋杰+上传附件\\aa\"\n",
    "target=r\"C:\\Users\\HUAWEI\\Desktop\\芦栋杰+上传附件\\bb\"\n",
    "copy(scr,target)"
   ]
  },
  {
   "cell_type": "code",
   "execution_count": 45,
   "metadata": {},
   "outputs": [],
   "source": [
    "def copy(src,target):\n",
    "\n",
    "    filelist=os.listdir(src)\n",
    "    for file in filelist:\n",
    "        path=os.path.join(src,file)\n",
    "        if os.path.isdir(path):\n",
    "            \n",
    "            copy(path,target)\n",
    "            \n",
    "        else:\n",
    "              with open(path,\"rb\") as stream:\n",
    "                    container=stream.read()\n",
    "\n",
    "                    path1=os.path.join(target,file)\n",
    "\n",
    "                    with open(path1,\"wb\") as wstream:\n",
    "                        wstream.write(container)\n",
    "    print(\"复制完毕！\")"
   ]
  },
  {
   "cell_type": "code",
   "execution_count": 43,
   "metadata": {},
   "outputs": [
    {
     "name": "stdout",
     "output_type": "stream",
     "text": [
      "复制完毕！\n",
      "复制完毕！\n"
     ]
    }
   ],
   "source": [
    "src=r\"C:\\Users\\HUAWEI\\Desktop\\芦栋杰+上传附件\\aa\"\n",
    "target=r\"C:\\Users\\HUAWEI\\Desktop\\芦栋杰+上传附件\\cc\"\n",
    "\n",
    "copy(src,target)"
   ]
  },
  {
   "cell_type": "markdown",
   "metadata": {},
   "source": [
    "上述是有文件夹中有文件夹的例子"
   ]
  },
  {
   "cell_type": "raw",
   "metadata": {},
   "source": [
    "文件：\n",
    "文件操作：\n",
    "open()\n",
    "path,filename:\n",
    "\n",
    "path:\n",
    "   绝对路径\n",
    "   相对路径\n",
    "   \n",
    "mode\n",
    "\n",
    "读：rb\n",
    "写：wb\n",
    "\n",
    "\n",
    "with open(file,mode) as stream:\n",
    "    代码\n",
    "    \n",
    "    \n",
    "os常用函数"
   ]
  },
  {
   "cell_type": "markdown",
   "metadata": {},
   "source": [
    "持久化保存"
   ]
  },
  {
   "cell_type": "code",
   "execution_count": 3,
   "metadata": {},
   "outputs": [],
   "source": [
    "def register():\n",
    "    username=input(\"输入用户名：\")\n",
    "    password=input(\"输入密码：\")\n",
    "    repassword=input(\"确认密码：\")\n",
    "    \n",
    "    \n",
    "    \n",
    "    if password==repassword:\n",
    "        with open(r\"C:\\Users\\HUAWEI\\Desktop\\芦栋杰+上传附件\\book\\users\",\"a\") as wstream:\n",
    "            wstream.write(\"{} {}\\n\".format(username,password))\n"
   ]
  },
  {
   "cell_type": "code",
   "execution_count": 4,
   "metadata": {},
   "outputs": [
    {
     "name": "stdout",
     "output_type": "stream",
     "text": [
      "输入用户名：wangwu\n",
      "输入密码：123456\n",
      "确认密码：123456\n"
     ]
    }
   ],
   "source": [
    "register()"
   ]
  },
  {
   "cell_type": "code",
   "execution_count": 5,
   "metadata": {},
   "outputs": [
    {
     "name": "stdout",
     "output_type": "stream",
     "text": [
      "输入用户名：zhangsan\n",
      "输入密码：111111\n",
      "确认密码：111111\n"
     ]
    }
   ],
   "source": [
    "register()"
   ]
  },
  {
   "cell_type": "code",
   "execution_count": 6,
   "metadata": {},
   "outputs": [
    {
     "name": "stdout",
     "output_type": "stream",
     "text": [
      "输入用户名：feifei\n",
      "输入密码：888888\n",
      "确认密码：888888\n"
     ]
    }
   ],
   "source": [
    "register()"
   ]
  },
  {
   "cell_type": "code",
   "execution_count": 9,
   "metadata": {},
   "outputs": [],
   "source": [
    "def login():\n",
    "    username=input(\"输入用户名：\")\n",
    "    password=input(\"输入密码：\")\n",
    "    \n",
    "    if username and password:\n",
    "        with open(r\"C:\\Users\\HUAWEI\\Desktop\\芦栋杰+上传附件\\book\\users\") as restream:\n",
    "            while True:\n",
    "                user=restream.readline()\n",
    "                \n",
    "                if not user:\n",
    "                    print(\"用户名或者密码有误！\")\n",
    "                    break\n",
    "                    \n",
    "                user_input=\"{} {}\\n\".format(username,password)\n",
    "                \n",
    "                if user_input==user:\n",
    "                    print(\"用户登入成功！\")\n",
    "                    break\n",
    "                "
   ]
  },
  {
   "cell_type": "code",
   "execution_count": 10,
   "metadata": {},
   "outputs": [
    {
     "name": "stdout",
     "output_type": "stream",
     "text": [
      "输入用户名：wangwu\n",
      "输入密码：123456\n",
      "用户登入成功！\n"
     ]
    }
   ],
   "source": [
    "login()"
   ]
  },
  {
   "cell_type": "code",
   "execution_count": 11,
   "metadata": {},
   "outputs": [
    {
     "name": "stdout",
     "output_type": "stream",
     "text": [
      "输入用户名：zhangfei\n",
      "输入密码：123456\n",
      "用户名或者密码有误！\n"
     ]
    }
   ],
   "source": [
    "login()"
   ]
  },
  {
   "cell_type": "code",
   "execution_count": 28,
   "metadata": {},
   "outputs": [],
   "source": [
    "def show():\n",
    "    print(\".........图书浏览.........\")\n",
    "    \n",
    "    with open(r\"C:\\Users\\HUAWEI\\Desktop\\芦栋杰+上传附件\\book\\books\",\"rb\") as restream:\n",
    "        books=restream.readlines()\n",
    "        for book in books:\n",
    "            print(book,end=\"\")\n",
    "        "
   ]
  },
  {
   "cell_type": "code",
   "execution_count": 29,
   "metadata": {},
   "outputs": [
    {
     "name": "stdout",
     "output_type": "stream",
     "text": [
      ".........图书浏览.........\n",
      "b'\\xe9\\x94\\x99\\xe8\\xaf\\xaf\\xe7\\x9a\\x84\\xe8\\xa1\\x8c\\xe4\\xb8\\xba\\r\\n'b'\\xe7\\x97\\x85\\xe8\\x8f\\x8c\\xef\\xbc\\x8c\\xe6\\x9e\\xaa\\xe7\\x82\\xae\\xe4\\xb8\\x8e\\xe7\\x83\\x9f\\xe7\\x81\\xab\\r\\n'b'\\xe5\\xa6\\x82\\xe4\\xbd\\x95\\xe9\\x98\\x85\\xe8\\xaf\\xbb\\xe4\\xb8\\x80\\xe6\\x9c\\xac\\xe4\\xb9\\xa6\\r\\n'b'\\xe4\\xb8\\x89\\xe5\\x9b\\xbd\\xe6\\xbc\\x94\\xe4\\xb9\\x89\\r\\n'b'\\xe6\\xb0\\xb4\\xe6\\xb5\\x92\\xe4\\xbc\\xa0\\r\\n'b'\\xe4\\xbb\\x8e0\\xe5\\x88\\xb01\\r\\n'b'\\xe5\\xad\\x94\\xe9\\x9b\\x80\\r\\n'b'\\xe4\\xb8\\x89\\xe4\\xbd\\x93\\r\\n'b'\\xe4\\xb8\\x9c\\xe6\\x96\\xb9\\xe5\\xbf\\xab\\xe8\\xbd\\xa6\\xe7\\x9a\\x84\\xe8\\xb0\\x8b\\xe6\\x9d\\x80\\xe6\\xa1\\x88\\r\\n'b'\\xe6\\x9f\\xaf\\xe5\\x8d\\x97\\r\\n'"
     ]
    }
   ],
   "source": [
    "show()"
   ]
  },
  {
   "cell_type": "code",
   "execution_count": 30,
   "metadata": {},
   "outputs": [],
   "source": [
    "def input1():\n",
    "    for i in range(4):\n",
    "        book=input(\"输入书名：\")\n",
    "        \n",
    "        if book:\n",
    "            with open(r\"C:\\Users\\HUAWEI\\Desktop\\芦栋杰+上传附件\\book\\books\",\"a\") as wstream:\n",
    "                wstream.write(\"{}\\n\".format(book))\n",
    "                \n",
    "    \n",
    "    "
   ]
  },
  {
   "cell_type": "code",
   "execution_count": 31,
   "metadata": {},
   "outputs": [
    {
     "name": "stdout",
     "output_type": "stream",
     "text": [
      "输入书名：从0到1\n",
      "输入书名：如何阅读一本书\n",
      "输入书名：三国演义\n",
      "输入书名：kongque\n"
     ]
    }
   ],
   "source": [
    "input1()"
   ]
  },
  {
   "cell_type": "code",
   "execution_count": 32,
   "metadata": {},
   "outputs": [
    {
     "name": "stdout",
     "output_type": "stream",
     "text": [
      "输入书名：错误的行为\n",
      "输入书名：向死而生\n",
      "输入书名：挪威的森林\n",
      "输入书名：悉尼\n"
     ]
    }
   ],
   "source": [
    "input1()"
   ]
  },
  {
   "cell_type": "code",
   "execution_count": 33,
   "metadata": {},
   "outputs": [],
   "source": [
    "def book_show():\n",
    "    print(\".........图书浏览.........\")\n",
    "    \n",
    "    with open(r\"C:\\Users\\HUAWEI\\Desktop\\芦栋杰+上传附件\\book\\books\",\"r\") as restream:\n",
    "        books=restream.readlines()\n",
    "        for book in books:\n",
    "            print(book,end=\"\")  "
   ]
  },
  {
   "cell_type": "code",
   "execution_count": 34,
   "metadata": {},
   "outputs": [
    {
     "name": "stdout",
     "output_type": "stream",
     "text": [
      ".........图书浏览.........\n",
      "\n",
      "从0到1\n",
      "如何阅读一本书\n",
      "三国演义\n",
      "kongque\n",
      "错误的行为\n",
      "向死而生\n",
      "挪威的森林\n",
      "悉尼\n"
     ]
    }
   ],
   "source": [
    "book_show()"
   ]
  },
  {
   "cell_type": "markdown",
   "metadata": {},
   "source": [
    "# 语法错误与异常"
   ]
  },
  {
   "cell_type": "raw",
   "metadata": {},
   "source": [
    "异常：\n",
    "程序运行的时候报出来：xxxError\n",
    "\n",
    "异常处理：\n",
    "把可能出现异常的代码放在try里面：\n",
    "try:\n",
    "  可能出现异常的代码\n",
    "  \n",
    "except:\n",
    "    如果有异常执行的代码\n",
    "    except ZerodivisionError\n",
    "    except ValueError\n",
    "    \n",
    "    可以多个except\n",
    "finally：\n",
    "    无论是否存在异常都会被执行的代码\n",
    "    \n",
    " 情况1：\n",
    " try:\n",
    "  有可能会产生多种异常\n",
    "  \n",
    " except 异常类型1：\n",
    "     print()\n",
    " except 异常类型2：\n",
    "    pass\n",
    " except Exception:\n",
    "     pass ..................>放于最后，因为其范围比较大\n",
    " \n",
    " \n",
    " \n",
    " except Exception as err:\n",
    "   print(\"出错啦！\",\"err\")\n",
    "..........................................>表明错误\n",
    "\n",
    "\n",
    "\n",
    "\n",
    "\n",
    "情况2：获取Exception的错误原因\n",
    "\n",
    "try:\n",
    "  有可能会产生多种异常\n",
    "  except 异常类型1：\n",
    "      print(......)\n",
    "  except 异常类型2：\n",
    "    pass\n",
    "  except Exception as err:\n",
    "  print(\"出错啦！\",\"err\")\n",
    "\n",
    " "
   ]
  },
  {
   "cell_type": "code",
   "execution_count": 36,
   "metadata": {},
   "outputs": [],
   "source": [
    "def func():\n",
    "    try:\n",
    "        n1=int(input(\"输入第一个数字：\"))\n",
    "        n2=int(input(\"输入第二个数字：\"))\n",
    "        \n",
    "        sum1=n1+n2\n",
    "        \n",
    "        print(\"和是：\",sum1)\n",
    "    \n",
    "    except:\n",
    "        print(\"请输入数字！！！\")\n",
    "        "
   ]
  },
  {
   "cell_type": "code",
   "execution_count": 37,
   "metadata": {},
   "outputs": [
    {
     "name": "stdout",
     "output_type": "stream",
     "text": [
      "输入第一个数字：a\n",
      "请输入数字！！！\n"
     ]
    }
   ],
   "source": [
    "func()"
   ]
  },
  {
   "cell_type": "code",
   "execution_count": 42,
   "metadata": {},
   "outputs": [],
   "source": [
    "def func():\n",
    "    stream=None\n",
    "    try:\n",
    "        stream=open(r\"C:\\Users\\HUAWEI\\Desktop\\芦栋杰+上传附件\\book\\books\")\n",
    "        container=stream.read()\n",
    "        print(container)\n",
    "        return 1\n",
    "    except Exception as err:\n",
    "        print(err)\n",
    "        return 2\n",
    "    finally:\n",
    "        print(\".......finally........\")\n",
    "        if stream:\n",
    "            stream.close()\n",
    "        return 3"
   ]
  },
  {
   "cell_type": "code",
   "execution_count": 43,
   "metadata": {},
   "outputs": [
    {
     "name": "stdout",
     "output_type": "stream",
     "text": [
      "\n",
      "从0到1\n",
      "如何阅读一本书\n",
      "三国演义\n",
      "kongque\n",
      "错误的行为\n",
      "向死而生\n",
      "挪威的森林\n",
      "悉尼\n",
      "\n",
      ".......finally........\n"
     ]
    },
    {
     "data": {
      "text/plain": [
       "3"
      ]
     },
     "execution_count": 43,
     "metadata": {},
     "output_type": "execute_result"
    }
   ],
   "source": [
    "func()"
   ]
  },
  {
   "cell_type": "markdown",
   "metadata": {},
   "source": [
    "以上注意finally的用法"
   ]
  },
  {
   "cell_type": "markdown",
   "metadata": {},
   "source": [
    "# 异常抛出"
   ]
  },
  {
   "cell_type": "raw",
   "metadata": {},
   "source": [
    "raise Exception(\".......\")..........>自定义抛出的异常内容\n",
    "\n",
    "用try:\n",
    "   函数\n",
    "   \n",
    "  except Exception as err:\n",
    "     print(err)\n",
    "     print(\"想要的结果\")\n",
    "  else:\n",
    "     print(\"不出错下需要的结果\")\n",
    "     \n",
    "     "
   ]
  },
  {
   "cell_type": "code",
   "execution_count": 2,
   "metadata": {},
   "outputs": [
    {
     "name": "stdout",
     "output_type": "stream",
     "text": [
      "输入用户名：1234567\n",
      "输入的用户名是:1234567\n",
      "注册成功！\n"
     ]
    }
   ],
   "source": [
    "def register():\n",
    "    username=input(\"输入用户名：\")\n",
    "    if len(username)<6:\n",
    "        raise Exception(\"用户长度必须6位以上\")\n",
    "    else:\n",
    "        print(\"输入的用户名是:{}\".format(username))\n",
    "        \n",
    "\n",
    "try:\n",
    "    register()\n",
    "    \n",
    "except Exception as err:\n",
    "    print(err)\n",
    "    print(\"注册失败！\")\n",
    "    \n",
    "else:\n",
    "    print(\"注册成功！\")\n",
    "    "
   ]
  },
  {
   "cell_type": "markdown",
   "metadata": {},
   "source": [
    "# 列表推导式"
   ]
  },
  {
   "cell_type": "raw",
   "metadata": {},
   "source": [
    "列表，字典，集合推导式\n",
    "旧的列表.......>新的列表\n",
    "1.列表推导式： 格式：[表达式 for 变量 in 旧列表] 或者[表达式 for 变量 in 旧列表 if 条件]\n",
    "\n",
    "out=[name.capitalize() for name in names if len(name)>3]........>名字首字母大写的用法\n",
    "\n",
    "\n",
    "\n",
    "\n",
    "\n",
    "2.集合推导式：{}类似列表推导式，在列表推导式的基础上添加了一个去除重复项\n",
    "\n",
    "\n",
    "\n",
    "3.字典推导式\n",
    "\n"
   ]
  },
  {
   "cell_type": "markdown",
   "metadata": {},
   "source": [
    "过滤掉以下长度小于以及等于3人名"
   ]
  },
  {
   "cell_type": "code",
   "execution_count": 6,
   "metadata": {},
   "outputs": [],
   "source": [
    "names=[\"adye\",\"wang\",\"que\",\"ad\",\"ludy\",\"mike\",\"lily\"]\n",
    "out=[name.capitalize() for name in names if len(name)>3]"
   ]
  },
  {
   "cell_type": "code",
   "execution_count": 7,
   "metadata": {},
   "outputs": [
    {
     "name": "stdout",
     "output_type": "stream",
     "text": [
      "['Adye', 'Wang', 'Ludy', 'Mike', 'Lily']\n"
     ]
    }
   ],
   "source": [
    "print(out)"
   ]
  },
  {
   "cell_type": "markdown",
   "metadata": {},
   "source": [
    "将1-100之间能被3整除的整数组成一个新的列表"
   ]
  },
  {
   "cell_type": "code",
   "execution_count": 9,
   "metadata": {},
   "outputs": [
    {
     "name": "stdout",
     "output_type": "stream",
     "text": [
      "[15, 30, 45, 60, 75, 90]\n"
     ]
    }
   ],
   "source": [
    "newlist=[i for i in range(1,101) if i%3==0 and i%5==0]\n",
    "print(newlist)"
   ]
  },
  {
   "cell_type": "markdown",
   "metadata": {},
   "source": [
    "[(偶数，奇数)] 0-5 偶数 0-10 奇数"
   ]
  },
  {
   "cell_type": "code",
   "execution_count": 10,
   "metadata": {},
   "outputs": [
    {
     "name": "stdout",
     "output_type": "stream",
     "text": [
      "[(0, 1), (0, 3), (0, 5), (0, 7), (0, 9), (2, 1), (2, 3), (2, 5), (2, 7), (2, 9), (4, 1), (4, 3), (4, 5), (4, 7), (4, 9)]\n"
     ]
    }
   ],
   "source": [
    "nlist=[(x,y) for x in range(5) if x %2==0 for y in range(10) if y %2 !=0]\n",
    "print(nlist)"
   ]
  },
  {
   "cell_type": "code",
   "execution_count": 12,
   "metadata": {},
   "outputs": [
    {
     "name": "stdout",
     "output_type": "stream",
     "text": [
      "[5200, 8200, 5000, 3500]\n"
     ]
    }
   ],
   "source": [
    "dict1={\"name\":\"tom\",\"salary\":5000}\n",
    "dict2={\"name\":\"lucy\",\"salary\":8000}\n",
    "dict3={\"name\":\"lily\",\"salary\":4500}\n",
    "dict4={\"name\":\"jack\",\"salary\":3000}\n",
    "\n",
    "list1=[dict1,dict2,dict3,dict4]\n",
    "\n",
    "newlist=[person[\"salary\"]+200 if person[\"salary\"]>=5000 else person[\"salary\"]+500 for person in list1]\n",
    "\n",
    "print(newlist)"
   ]
  },
  {
   "cell_type": "code",
   "execution_count": 13,
   "metadata": {},
   "outputs": [],
   "source": [
    "list2=[1,2,1,3,5,2,1,8,9,8,9,7]\n",
    "set1={x-1 for x in list2 if x>5}"
   ]
  },
  {
   "cell_type": "code",
   "execution_count": 14,
   "metadata": {},
   "outputs": [
    {
     "data": {
      "text/plain": [
       "{6, 7, 8}"
      ]
     },
     "execution_count": 14,
     "metadata": {},
     "output_type": "execute_result"
    }
   ],
   "source": [
    "set1"
   ]
  },
  {
   "cell_type": "code",
   "execution_count": 15,
   "metadata": {},
   "outputs": [
    {
     "name": "stdout",
     "output_type": "stream",
     "text": [
      "{'A': 'a', 'B': 'b', 'C': 'c', 'D': 'd'}\n"
     ]
    }
   ],
   "source": [
    "dict1={\"a\":\"A\",\"b\":\"B\",\"c\":\"C\",\"d\":\"D\"}\n",
    "newdict={value:key for key, value in dict1.items()}\n",
    "print(newdict)"
   ]
  },
  {
   "cell_type": "code",
   "execution_count": null,
   "metadata": {},
   "outputs": [],
   "source": []
  }
 ],
 "metadata": {
  "kernelspec": {
   "display_name": "Python 3",
   "language": "python",
   "name": "python3"
  },
  "language_info": {
   "codemirror_mode": {
    "name": "ipython",
    "version": 3
   },
   "file_extension": ".py",
   "mimetype": "text/x-python",
   "name": "python",
   "nbconvert_exporter": "python",
   "pygments_lexer": "ipython3",
   "version": "3.7.6"
  }
 },
 "nbformat": 4,
 "nbformat_minor": 4
}
