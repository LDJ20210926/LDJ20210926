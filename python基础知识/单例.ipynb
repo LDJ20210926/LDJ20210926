{
 "cells": [
  {
   "cell_type": "raw",
   "metadata": {},
   "source": [
    "开发模式：单例模式"
   ]
  },
  {
   "cell_type": "code",
   "execution_count": 2,
   "metadata": {},
   "outputs": [
    {
     "name": "stdout",
     "output_type": "stream",
     "text": [
      "['_Singleton__instance', '__class__', '__delattr__', '__dict__', '__dir__', '__doc__', '__eq__', '__format__', '__ge__', '__getattribute__', '__gt__', '__hash__', '__init__', '__init_subclass__', '__le__', '__lt__', '__module__', '__ne__', '__new__', '__reduce__', '__reduce_ex__', '__repr__', '__setattr__', '__sizeof__', '__str__', '__subclasshook__', '__weakref__', 'name', 'show']\n",
      "<__main__.Singleton object at 0x000002CD370DD548>\n",
      "<__main__.Singleton object at 0x000002CD370DD548>\n"
     ]
    }
   ],
   "source": [
    "class Singleton:\n",
    "    __instance=None\n",
    "    name=\"jack\"\n",
    "    def __new__(cls):\n",
    "        if cls.__instance is None:\n",
    "            cls.__instance=object.__new__(cls)\n",
    "            return cls.__instance\n",
    "        else:\n",
    "            return cls.__instance\n",
    "        \n",
    "    \n",
    "    def show(self,n):\n",
    "        print(\"..............>show\",Singleton.name,n)\n",
    "s=Singleton()\n",
    "s1=Singleton()\n",
    "\n",
    "print(dir(Singleton))\n",
    "\n",
    "print(s)\n",
    "\n",
    "print(s1)"
   ]
  },
  {
   "cell_type": "code",
   "execution_count": 3,
   "metadata": {},
   "outputs": [
    {
     "name": "stdout",
     "output_type": "stream",
     "text": [
      "..............>show jack 5\n",
      "..............>show jack 9\n"
     ]
    }
   ],
   "source": [
    "s.show(5)\n",
    "s1.show(9)"
   ]
  },
  {
   "cell_type": "markdown",
   "metadata": {},
   "source": []
  }
 ],
 "metadata": {
  "kernelspec": {
   "display_name": "Python 3",
   "language": "python",
   "name": "python3"
  },
  "language_info": {
   "codemirror_mode": {
    "name": "ipython",
    "version": 3
   },
   "file_extension": ".py",
   "mimetype": "text/x-python",
   "name": "python",
   "nbconvert_exporter": "python",
   "pygments_lexer": "ipython3",
   "version": "3.7.6"
  }
 },
 "nbformat": 4,
 "nbformat_minor": 4
}
