{
 "cells": [
  {
   "cell_type": "raw",
   "metadata": {},
   "source": [
    "三引号占用的内存空间与单双引号的不同(前提有换行)\n",
    "=比较的是内容 is比较的是地址(常量赋值is是true；input输入做了底层处理所以地址不一样)\n",
    "字符串的运算符：+\n",
    "相当于拼接符\n",
    "*\n",
    "相当于倍数关系\n",
    "in 在...里面 返回的是布尔类型：true or false\n",
    "not in 没有在....里面\n",
    "%字符串的格式化\n",
    "r 保留原格式,有r则不发生转义（\\'）\n",
    "[]通过[]可以结合位置 获取字母 特点：只能获取一个字母\n",
    "[1:10]包前不包后；可以结合位置 获取连续字母 \n",
    "[1: ]只要省略的是后面的，表示一直取到最后，即末尾\n",
    "[::-1]倒叙表达\n",
    "[::step]表示步长"
   ]
  },
  {
   "cell_type": "code",
   "execution_count": 1,
   "metadata": {},
   "outputs": [
    {
     "name": "stdout",
     "output_type": "stream",
     "text": [
      "请输入:abc\n",
      "请输入:abc\n",
      "True\n",
      "False\n"
     ]
    }
   ],
   "source": [
    "s1=input(\"请输入:\")\n",
    "s2=input(\"请输入:\")\n",
    "print(s1==s2)\n",
    "print(s1 is s2)"
   ]
  },
  {
   "cell_type": "code",
   "execution_count": 3,
   "metadata": {},
   "outputs": [
    {
     "name": "stdout",
     "output_type": "stream",
     "text": [
      "True\n"
     ]
    }
   ],
   "source": [
    "name=\"steven\"\n",
    "result=\"eve\" in name\n",
    "print(result)"
   ]
  },
  {
   "cell_type": "code",
   "execution_count": 5,
   "metadata": {},
   "outputs": [
    {
     "name": "stdout",
     "output_type": "stream",
     "text": [
      "steven说：\\'hahaha\\'\n"
     ]
    }
   ],
   "source": [
    "print(r\"%s说：\\'hahaha\\'\"% name)"
   ]
  },
  {
   "cell_type": "code",
   "execution_count": 12,
   "metadata": {},
   "outputs": [
    {
     "name": "stdout",
     "output_type": "stream",
     "text": [
      "e.png\n"
     ]
    }
   ],
   "source": [
    "filename=\"picture.png\"\n",
    "print(filename[-5:])"
   ]
  },
  {
   "cell_type": "raw",
   "metadata": {},
   "source": [
    "0 1 2 3 4 5 6 \n",
    "p i c t u r e\n",
    " p  i  c  t  u  r  e\n",
    "-7 -6 -5 -4 -3 -2 -1"
   ]
  },
  {
   "cell_type": "code",
   "execution_count": 17,
   "metadata": {},
   "outputs": [
    {
     "name": "stdout",
     "output_type": "stream",
     "text": [
      "gfed\n"
     ]
    }
   ],
   "source": [
    "str1=\"abcdefg\"\n",
    "print(str1[-1:-5:-1])"
   ]
  },
  {
   "cell_type": "code",
   "execution_count": 18,
   "metadata": {},
   "outputs": [
    {
     "name": "stdout",
     "output_type": "stream",
     "text": [
      "fedcb\n"
     ]
    }
   ],
   "source": [
    "print(str1[5:0:-1])"
   ]
  },
  {
   "cell_type": "code",
   "execution_count": 19,
   "metadata": {},
   "outputs": [
    {
     "name": "stdout",
     "output_type": "stream",
     "text": [
      "abcde\n"
     ]
    }
   ],
   "source": [
    "print(str1[0:5:1])"
   ]
  },
  {
   "cell_type": "markdown",
   "metadata": {},
   "source": [
    "注意点：方向要一致"
   ]
  },
  {
   "cell_type": "raw",
   "metadata": {},
   "source": [
    "练习：hello world\n",
    "逆序输出world:\n",
    "正向输出hello\n",
    "逆序输出整个\n",
    "打印获取oll\n",
    "打印llo wo"
   ]
  },
  {
   "cell_type": "code",
   "execution_count": 1,
   "metadata": {},
   "outputs": [
    {
     "name": "stdout",
     "output_type": "stream",
     "text": [
      "dlrow\n"
     ]
    }
   ],
   "source": [
    "str1=\"hello world\"\n",
    "print(str1[-1:-6:-1])"
   ]
  },
  {
   "cell_type": "code",
   "execution_count": 2,
   "metadata": {},
   "outputs": [
    {
     "data": {
      "text/plain": [
       "'hello '"
      ]
     },
     "execution_count": 2,
     "metadata": {},
     "output_type": "execute_result"
    }
   ],
   "source": [
    "str1[0:6]"
   ]
  },
  {
   "cell_type": "code",
   "execution_count": 3,
   "metadata": {},
   "outputs": [
    {
     "data": {
      "text/plain": [
       "'dlrow olleh'"
      ]
     },
     "execution_count": 3,
     "metadata": {},
     "output_type": "execute_result"
    }
   ],
   "source": [
    "str1[::-1]"
   ]
  },
  {
   "cell_type": "code",
   "execution_count": 5,
   "metadata": {},
   "outputs": [
    {
     "data": {
      "text/plain": [
       "' oll'"
      ]
     },
     "execution_count": 5,
     "metadata": {},
     "output_type": "execute_result"
    }
   ],
   "source": [
    "str1[5:1:-1]"
   ]
  },
  {
   "cell_type": "code",
   "execution_count": 7,
   "metadata": {},
   "outputs": [
    {
     "data": {
      "text/plain": [
       "'llo wo'"
      ]
     },
     "execution_count": 7,
     "metadata": {},
     "output_type": "execute_result"
    }
   ],
   "source": [
    "str1[2:-3]"
   ]
  },
  {
   "cell_type": "code",
   "execution_count": null,
   "metadata": {},
   "outputs": [],
   "source": []
  }
 ],
 "metadata": {
  "kernelspec": {
   "display_name": "Python 3",
   "language": "python",
   "name": "python3"
  },
  "language_info": {
   "codemirror_mode": {
    "name": "ipython",
    "version": 3
   },
   "file_extension": ".py",
   "mimetype": "text/x-python",
   "name": "python",
   "nbconvert_exporter": "python",
   "pygments_lexer": "ipython3",
   "version": "3.7.6"
  }
 },
 "nbformat": 4,
 "nbformat_minor": 4
}
