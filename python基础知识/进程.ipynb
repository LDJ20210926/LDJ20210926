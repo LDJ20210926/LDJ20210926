{
 "cells": [
  {
   "cell_type": "raw",
   "metadata": {},
   "source": [
    "进程>线程>协程\n",
    "\n",
    "\n",
    "进程：\n",
    "稳定性高，各自独立\n",
    "\n",
    "引入：\n",
    "from multiprocessing import Process\n",
    "process=Process(target=函数,name=进程的名字,args=(给函数传递的参数))\n",
    "process 对象\n",
    "对象的调用方法\n",
    "process.start().........>启动进程并执行内容\n",
    "process.run()..........>只是执行了任务但是没有启动进程\n",
    "p.terminate()............>终止\n",
    "\n",
    "\n",
    "\n",
    "多进程对于全局变量访问，在每一个全局变量里面都放一个m变量，保证每个进程访问变量互不干扰。\n",
    "列表为可变类型：\n",
    "\n",
    "\n",
    "\n",
    "\n",
    "自定义进程：\n",
    "\n",
    "from multiprocessing import Process\n",
    "\n",
    "class MyProcess(Process):\n",
    "    \n",
    "    \n",
    "    def __init__(self,name):\n",
    "        super(MyProcess,self).__init__()\n",
    "        self.name=name\n",
    "    \n",
    "    def run(self):\n",
    "        n=1\n",
    "        while True:\n",
    "            \n",
    "        \n",
    "            print(\"{}.............>自定义进程,n:{}\".format(n,self.name))\n",
    "        \n",
    "        n+=1\n",
    "if __name__==\"__main__\":\n",
    "    p=MyProcess(\"小明\")\n",
    "    p.start()..............................>开新的进程，执行run\n",
    "    p1=MyProcess(\"小红\")\n",
    "    p1.start()"
   ]
  },
  {
   "cell_type": "code",
   "execution_count": 8,
   "metadata": {},
   "outputs": [
    {
     "name": "stdout",
     "output_type": "stream",
     "text": [
      "16188\n",
      "任务1\n",
      "任务2\n"
     ]
    }
   ],
   "source": [
    "import os\n",
    "from multiprocessing import Process\n",
    "from time import sleep\n",
    "\n",
    "def task1():\n",
    "    while True:\n",
    "        sleep(1)\n",
    "        print(\"这是任务1...........\",os.getpid(),\"-------\",os.getppid())\n",
    "        \n",
    "        \n",
    "def task2():\n",
    "    while True:\n",
    "        sleep(2)\n",
    "        print(\"这是任务2...........\",os.getpid(),\"--------\",os.getppid())\n",
    "        \n",
    "if __name__==\"__main__\":\n",
    "    print(os.getpid())\n",
    "    p=Process(target=task1,name=\"任务1\")\n",
    "    p.start()\n",
    "    print(p.name)\n",
    "    p1=Process(target=task2,name=\"任务2\")\n",
    "    p1.start()\n",
    "    print(p1.name)"
   ]
  },
  {
   "cell_type": "code",
   "execution_count": 4,
   "metadata": {},
   "outputs": [],
   "source": [
    "\n",
    "from multiprocessing import Process\n",
    "\n",
    "class MyProcess(Process):\n",
    "    \n",
    "    \n",
    "    def __init__(self,name):\n",
    "        super(MyProcess,self).__init__()\n",
    "        self.name=name\n",
    "    \n",
    "    def run(self):\n",
    "        n=1\n",
    "        while True:\n",
    "            \n",
    "        \n",
    "            print(\"{}.............>自定义进程,n:{}\".format(n,self.name))\n",
    "        \n",
    "        n+=1\n",
    "if __name__==\"__main__\":\n",
    "    p=MyProcess(\"小明\")\n",
    "    p.start()\n",
    "    p1=MyProcess(\"小红\")\n",
    "    p1.start()"
   ]
  },
  {
   "cell_type": "markdown",
   "metadata": {},
   "source": [
    "# 进程池之非阻塞式"
   ]
  },
  {
   "cell_type": "raw",
   "metadata": {},
   "source": [
    "当需要创建的子进程数量不多时，可以直接利用multiprocessing中的Process动态生成多个进程，\n",
    "但是如果是上百甚至上千个目标，手动去创建进程的工作量巨大，此时就可以用到multiprocessing模块中的Pool方法\n",
    "初始化Pool时，可以指定一个最大进程数，当有新的请求提交到Pool中时，如果池还没有满，\n",
    "那么就会创建一个新的进程用来执行该请求，但如果池中的进程数已经达到指定的最大值，那么该请求就会等待，直到\n",
    "池中有进程结束，才会创建新的进程来执行。"
   ]
  },
  {
   "cell_type": "code",
   "execution_count": null,
   "metadata": {},
   "outputs": [],
   "source": [
    "from multiprocessing import Pool\n",
    "from random import random\n",
    "import time\n",
    "import os\n",
    "def task(task_name):\n",
    "    print(\"开始做任务了！\",task_name)\n",
    "    start=time.time()\n",
    "    \n",
    "    time.sleep(random()*2)\n",
    "    \n",
    "    end=time.time()\n",
    "    print(\"完成任务了！用时:\",(end-start))\n",
    "    \n",
    "if __name__==\"__main__\":\n",
    "    pool=Pool(5)\n",
    "    \n",
    "    tasks=[\"听音乐\",\"吃饭\",\"打游戏\",\"散步\",\"做饭\",\"拉毛孩子\"]\n",
    "    for task1 in tasks:\n",
    "        pool.apply_async(task,args=(task1,))\n",
    "        \n",
    "    pool.close()\n",
    "    pool.join()\n",
    "    print(\"over!!!!!\")"
   ]
  },
  {
   "cell_type": "code",
   "execution_count": null,
   "metadata": {},
   "outputs": [],
   "source": []
  },
  {
   "cell_type": "code",
   "execution_count": null,
   "metadata": {},
   "outputs": [],
   "source": []
  }
 ],
 "metadata": {
  "kernelspec": {
   "display_name": "Python 3",
   "language": "python",
   "name": "python3"
  },
  "language_info": {
   "codemirror_mode": {
    "name": "ipython",
    "version": 3
   },
   "file_extension": ".py",
   "mimetype": "text/x-python",
   "name": "python",
   "nbconvert_exporter": "python",
   "pygments_lexer": "ipython3",
   "version": "3.7.6"
  }
 },
 "nbformat": 4,
 "nbformat_minor": 4
}
