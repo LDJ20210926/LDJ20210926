{
 "cells": [
  {
   "cell_type": "code",
   "execution_count": 1,
   "metadata": {},
   "outputs": [
    {
     "name": "stdout",
     "output_type": "stream",
     "text": [
      "******************** 欢迎进入澳门赌场 ********************\n",
      "请输入姓名:zhangsan \n",
      "确定进入游戏吗(y/n)?y\n",
      "金币余额不足，请充值(100块30币，充值必须是100的倍数):100\n",
      "当前剩余金币是:30,玩一局游戏扣除5个币\n",
      "进入游戏........\n",
      "系统洗牌完毕，请猜大小:\n",
      "输入大或者输入小:小\n",
      "恭喜zhangsan ！本局游戏获得奖励1个游戏币\n",
      "是否继续再来玩一局游戏，要扣除5枚游戏币？(y/n):y\n",
      "剩余金币26\n",
      "系统洗牌完毕，请猜大小:\n",
      "输入大或者输入小:大\n",
      "很遗憾！本局游戏输了！\n",
      "是否继续再来玩一局游戏，要扣除5枚游戏币？(y/n):y\n",
      "剩余金币21\n",
      "系统洗牌完毕，请猜大小:\n",
      "输入大或者输入小:小\n",
      "很遗憾！本局游戏输了！\n",
      "是否继续再来玩一局游戏，要扣除5枚游戏币？(y/n):y\n",
      "剩余金币16\n",
      "系统洗牌完毕，请猜大小:\n",
      "输入大或者输入小:大\n",
      "恭喜zhangsan ！本局游戏获得奖励1个游戏币\n",
      "是否继续再来玩一局游戏，要扣除5枚游戏币？(y/n):y\n",
      "剩余金币12\n",
      "系统洗牌完毕，请猜大小:\n",
      "输入大或者输入小:小\n",
      "很遗憾！本局游戏输了！\n",
      "是否继续再来玩一局游戏，要扣除5枚游戏币？(y/n):y\n",
      "剩余金币7\n",
      "系统洗牌完毕，请猜大小:\n",
      "输入大或者输入小:大\n",
      "恭喜zhangsan ！本局游戏获得奖励1个游戏币\n",
      "是否继续再来玩一局游戏，要扣除5枚游戏币？(y/n):y\n",
      "剩余金币3\n",
      "游戏结束，谢谢下次光临!!!\n"
     ]
    }
   ],
   "source": [
    "print(\"*\"*20,\"欢迎进入澳门赌场\",\"*\"*20)\n",
    "username=input(\"请输入姓名:\")\n",
    "money=0\n",
    "answer=input(\"确定进入游戏吗(y/n)?\")\n",
    "if answer==\"y\":\n",
    "    while money<=2:\n",
    "        n=int(input(\"金币余额不足，请充值(100块30币，充值必须是100的倍数):\"))\n",
    "\n",
    "        if n%100==0 and n>0:\n",
    "            money=(n//100)*30\n",
    "            \n",
    "    print(\"当前剩余金币是:{},玩一局游戏扣除5个币\".format(money))\n",
    "    print(\"进入游戏........\")\n",
    "    \n",
    "    while True:\n",
    "        import random\n",
    "        t1=random.randint(1,6)\n",
    "        t2=random.randint(1,6)\n",
    "        money-=5\n",
    "    \n",
    "        print(\"系统洗牌完毕，请猜大小:\")\n",
    "        guess=input(\"输入大或者输入小:\")\n",
    "        if((t1+t2)>6 and guess==\"大\") or ((t1+t2)<=6 and guess==\"小\"):\n",
    "            print(\"恭喜{}！本局游戏获得奖励1个游戏币\".format(username))\n",
    "            money+=1\n",
    "        else:\n",
    "            print(\"很遗憾！本局游戏输了！\")\n",
    "            \n",
    "        answer=input(\"是否继续再来玩一局游戏，要扣除5枚游戏币？(y/n):\")\n",
    "        print(\"剩余金币{}\".format(money))\n",
    "        if money<=5 or answer!=\"y\" :\n",
    "            print(\"游戏结束，谢谢下次光临!!!\")\n",
    "            break\n",
    "            "
   ]
  },
  {
   "cell_type": "code",
   "execution_count": 2,
   "metadata": {},
   "outputs": [
    {
     "name": "stdout",
     "output_type": "stream",
     "text": [
      "False\n"
     ]
    }
   ],
   "source": [
    "a,b=2,4\n",
    "b=c=5\n",
    "print(c-a>b-a)"
   ]
  },
  {
   "cell_type": "code",
   "execution_count": 3,
   "metadata": {},
   "outputs": [
    {
     "name": "stdout",
     "output_type": "stream",
     "text": [
      "10\n"
     ]
    }
   ],
   "source": [
    "a+=3\n",
    "result=a+b\n",
    "print(result)"
   ]
  },
  {
   "cell_type": "raw",
   "metadata": {},
   "source": [
    "使用if完成，输入天气温度，如果高于30度，打印太热了，否则打印还行"
   ]
  },
  {
   "cell_type": "code",
   "execution_count": 5,
   "metadata": {},
   "outputs": [
    {
     "name": "stdout",
     "output_type": "stream",
     "text": [
      "请输入天气温度:33\n",
      "太热了\n"
     ]
    }
   ],
   "source": [
    "t=int(input(\"请输入天气温度:\"))\n",
    "if t>30:\n",
    "    print(\"太热了\")\n",
    "else:\n",
    "    print(\"还行\")"
   ]
  },
  {
   "cell_type": "raw",
   "metadata": {},
   "source": [
    "当P为true，q为false时，布尔表达式not(p and not q)的结果是什么"
   ]
  },
  {
   "cell_type": "code",
   "execution_count": 7,
   "metadata": {},
   "outputs": [
    {
     "data": {
      "text/plain": [
       "False"
      ]
     },
     "execution_count": 7,
     "metadata": {},
     "output_type": "execute_result"
    }
   ],
   "source": [
    "p=True\n",
    "q=False\n",
    "not(p and not q)"
   ]
  },
  {
   "cell_type": "raw",
   "metadata": {},
   "source": [
    "使用while循环实现输出1-50之间偶数的和"
   ]
  },
  {
   "cell_type": "code",
   "execution_count": 9,
   "metadata": {},
   "outputs": [
    {
     "name": "stdout",
     "output_type": "stream",
     "text": [
      "1-50之间偶数和650\n"
     ]
    }
   ],
   "source": [
    "n=1\n",
    "s=0\n",
    "while n<=50:\n",
    "    if n%2==0:\n",
    "        s=s+n\n",
    "       \n",
    "    n+=1\n",
    "print(\"1-50之间偶数和{}\".format(s))"
   ]
  },
  {
   "cell_type": "raw",
   "metadata": {},
   "source": [
    "补充：\n",
    "s=0\n",
    "for i in range(51):0-50之间\n",
    "    b=0\n",
    "    b+=i\n",
    "    if i%2==0:\n",
    "    s+=1\n",
    " print(\"1-50之间偶数和{}\".format(s))\n",
    " python里面没有定义域范围之说，放在里面也可以读取\n",
    " 目的：\n",
    " 1.声明变量的位置：声明在for,while的外层，sum+=i 相当于累加，如果在里面，都是从0开始\n",
    " 2. python里面没有定义域范围之说，放在里面也可以读取"
   ]
  },
  {
   "cell_type": "raw",
   "metadata": {},
   "source": [
    "break,continue 跳转语句\n",
    "continue 跳过下方的语句不执行，继续执行下一次的循环"
   ]
  },
  {
   "cell_type": "code",
   "execution_count": 11,
   "metadata": {},
   "outputs": [
    {
     "name": "stdout",
     "output_type": "stream",
     "text": [
      "求和=27\n"
     ]
    }
   ],
   "source": [
    "s=0\n",
    "for i in range(10):\n",
    "    if i%3!=0:\n",
    "        s+=i\n",
    "print(\"求和={}\".format(s))"
   ]
  },
  {
   "cell_type": "code",
   "execution_count": 14,
   "metadata": {},
   "outputs": [
    {
     "name": "stdout",
     "output_type": "stream",
     "text": [
      "求和=27\n"
     ]
    }
   ],
   "source": [
    "s=0\n",
    "for i in range(10):\n",
    "    if i%3==0:\n",
    "        continue\n",
    "    s+=i\n",
    "print(\"求和={}\".format(s))"
   ]
  },
  {
   "cell_type": "code",
   "execution_count": null,
   "metadata": {},
   "outputs": [],
   "source": []
  }
 ],
 "metadata": {
  "kernelspec": {
   "display_name": "Python 3",
   "language": "python",
   "name": "python3"
  },
  "language_info": {
   "codemirror_mode": {
    "name": "ipython",
    "version": 3
   },
   "file_extension": ".py",
   "mimetype": "text/x-python",
   "name": "python",
   "nbconvert_exporter": "python",
   "pygments_lexer": "ipython3",
   "version": "3.7.6"
  }
 },
 "nbformat": 4,
 "nbformat_minor": 4
}
