{
 "cells": [
  {
   "cell_type": "raw",
   "metadata": {},
   "source": [
    "python 中出现了函数：\n",
    "将重复的代码，封装到函数，只要使用直接找函数。\n",
    "\n",
    "函数可以提高代码的模块化和代码的重复利用率\n",
    "\n",
    "定义函数：\n",
    "\n",
    "格式：\n",
    "\n",
    "def 函数名[参数，参数....]\n",
    "   函数体（重复代码）\n",
    "\n",
    "注意：1.必须使用关键字def 2.函数体注意缩进 3.函数名()绑定\n",
    "\n",
    "\n",
    "\n",
    "\n",
    "调用：函数名()\n",
    "\n",
    "generate_random() 找到函数并执行函数体的命令\n",
    "\n",
    "\n",
    "\n",
    "带参数的函数：\n",
    "\n",
    "def 函数名(参数，参数.....)......>形式上的参数\n",
    "   函数体\n",
    "\n",
    "调用：\n",
    "   pass"
   ]
  },
  {
   "cell_type": "markdown",
   "metadata": {},
   "source": [
    "定义函数：随机数的产生"
   ]
  },
  {
   "cell_type": "code",
   "execution_count": 3,
   "metadata": {},
   "outputs": [],
   "source": [
    "import random\n",
    "\n",
    "\n",
    "def generate_random():\n",
    "    for i in range(10):\n",
    "        ran= random.randint(1,20)\n",
    "        print(ran)\n"
   ]
  },
  {
   "cell_type": "code",
   "execution_count": 5,
   "metadata": {},
   "outputs": [
    {
     "name": "stdout",
     "output_type": "stream",
     "text": [
      "3\n",
      "19\n",
      "3\n",
      "20\n",
      "1\n",
      "17\n",
      "4\n",
      "5\n",
      "4\n",
      "7\n"
     ]
    }
   ],
   "source": [
    "generate_random()"
   ]
  },
  {
   "cell_type": "code",
   "execution_count": 6,
   "metadata": {},
   "outputs": [
    {
     "data": {
      "text/plain": [
       "2079292031192"
      ]
     },
     "execution_count": 6,
     "metadata": {},
     "output_type": "execute_result"
    }
   ],
   "source": [
    "id(generate_random)"
   ]
  },
  {
   "cell_type": "code",
   "execution_count": 7,
   "metadata": {},
   "outputs": [
    {
     "name": "stdout",
     "output_type": "stream",
     "text": [
      "13\n",
      "17\n",
      "3\n",
      "11\n",
      "12\n",
      "1\n",
      "8\n",
      "13\n",
      "12\n",
      "9\n"
     ]
    }
   ],
   "source": [
    "generate_random()"
   ]
  },
  {
   "cell_type": "markdown",
   "metadata": {},
   "source": [
    "求随机数的函数，产生个数不确定："
   ]
  },
  {
   "cell_type": "code",
   "execution_count": 10,
   "metadata": {},
   "outputs": [],
   "source": [
    "import random\n",
    "\n",
    "def genrand(n):\n",
    "    for i in range(n):\n",
    "        ran=random.randint(1,20)\n",
    "        print(ran)"
   ]
  },
  {
   "cell_type": "code",
   "execution_count": 12,
   "metadata": {},
   "outputs": [
    {
     "name": "stdout",
     "output_type": "stream",
     "text": [
      "1\n",
      "8\n",
      "13\n",
      "19\n",
      "17\n",
      "20\n",
      "9\n",
      "17\n"
     ]
    }
   ],
   "source": [
    "genrand(8)"
   ]
  },
  {
   "cell_type": "markdown",
   "metadata": {},
   "source": [
    "求加法的函数"
   ]
  },
  {
   "cell_type": "code",
   "execution_count": 13,
   "metadata": {},
   "outputs": [],
   "source": [
    "def add(a,b):\n",
    "    result=a+b\n",
    "    print(result)"
   ]
  },
  {
   "cell_type": "code",
   "execution_count": 14,
   "metadata": {},
   "outputs": [
    {
     "name": "stdout",
     "output_type": "stream",
     "text": [
      "19\n"
     ]
    }
   ],
   "source": [
    "add(9,10)"
   ]
  },
  {
   "cell_type": "raw",
   "metadata": {},
   "source": [
    "定义一个登入函数，参数是：username, password\n",
    "函数体：\n",
    "判断参数传过来的username，password是否正确，如果正确则登陆成功，否则打印登陆失败"
   ]
  },
  {
   "cell_type": "code",
   "execution_count": 20,
   "metadata": {},
   "outputs": [
    {
     "name": "stdout",
     "output_type": "stream",
     "text": [
      "输入用户名:1\n",
      "输入密码:1\n",
      "登陆失败！\n",
      "输入用户名:1\n",
      "输入密码:1\n",
      "登陆失败！\n",
      "输入用户名:1\n",
      "输入密码:1\n",
      "登陆失败！\n",
      "输入用户名:1\n",
      "输入密码:1\n",
      "账户锁定！\n"
     ]
    }
   ],
   "source": [
    "def login(username,password):\n",
    "    uname=\"ldj19980117\"\n",
    "    psw=\"123456789\"\n",
    "    for i in range(3):\n",
    "        if username==uname and password==psw:\n",
    "            print(\"登陆成功！\")\n",
    "            break\n",
    "        else:\n",
    "            print(\"登陆失败！\")\n",
    "            username=input(\"输入用户名:\")\n",
    "            password=input(\"输入密码:\")\n",
    "    else:\n",
    "        print(\"账户锁定！\")\n",
    "            \n",
    "username=input(\"输入用户名:\")\n",
    "password=input(\"输入密码:\")\n",
    "\n",
    "login(username,password)"
   ]
  },
  {
   "cell_type": "markdown",
   "metadata": {},
   "source": [
    "以上为登入应用"
   ]
  },
  {
   "cell_type": "raw",
   "metadata": {},
   "source": [
    "找出列表的最大值\n",
    "自己封装一个求最大值函数"
   ]
  },
  {
   "cell_type": "code",
   "execution_count": 22,
   "metadata": {},
   "outputs": [
    {
     "name": "stdout",
     "output_type": "stream",
     "text": [
      "最大值是:9\n",
      "最大值是:6\n"
     ]
    }
   ],
   "source": [
    "def max1(iterable):\n",
    "    max2=iterable[1]\n",
    "    for i in iterable:\n",
    "        if i>max2:\n",
    "            max2=i\n",
    "    print(\"最大值是:{}\".format(max2))\n",
    "    \n",
    "list1=[4,1,4,3,8,9]\n",
    "max1(list1)\n",
    "\n",
    "tuple1=(3,6,1,0,5)\n",
    "max1(tuple1)\n",
    "        "
   ]
  },
  {
   "cell_type": "raw",
   "metadata": {},
   "source": [
    "自己练习函数：\n",
    "sort  min  reverse\n",
    "\n",
    "type 只能查看类型\n",
    "判断是什么类型：isinstance(变量，类型关键字).......>isinstance(list1,list)"
   ]
  },
  {
   "cell_type": "code",
   "execution_count": 25,
   "metadata": {},
   "outputs": [
    {
     "name": "stdout",
     "output_type": "stream",
     "text": [
      "从小到大排序:[1, 2, 3, 4, 7, 8, 9]\n",
      "输入类型有误！\n",
      "输入类型有误！\n"
     ]
    }
   ],
   "source": [
    "def sort1(iterable):\n",
    "    if isinstance(iterable,list):\n",
    "        for i in range(len(iterable)-1):\n",
    "            for j in range(0,len(iterable)-1-i):\n",
    "                if iterable[j]>iterable[j+1]:\n",
    "                    iterable[j],iterable[j+1]=iterable[j+1],iterable[j]\n",
    "        print(\"从小到大排序:{}\".format(iterable))\n",
    "    else:\n",
    "        print(\"输入类型有误！\")\n",
    "\n",
    "list1=[4,3,2,1,8,7,9]\n",
    "sort1(list1)\n",
    "\n",
    "tuple1=(3,6,1,0,5)\n",
    "sort1(tuple1)\n",
    "\n",
    "set1={1,3,2,5,6,4,9,8}\n",
    "sort1(set1)\n",
    "        "
   ]
  },
  {
   "cell_type": "code",
   "execution_count": 27,
   "metadata": {},
   "outputs": [
    {
     "name": "stdout",
     "output_type": "stream",
     "text": [
      "最小值是:1\n",
      "最小值是:0\n"
     ]
    }
   ],
   "source": [
    "def min1(iterable):\n",
    "    min2=iterable[1]\n",
    "    for i in iterable:\n",
    "        if i<min2:\n",
    "            min2=i\n",
    "    print(\"最小值是:{}\".format(min2))\n",
    "    \n",
    "list1=[4,1,4,3,8,9]\n",
    "min1(list1)\n",
    "\n",
    "tuple1=(3,6,1,0,5)\n",
    "min1(tuple1)\n",
    "        "
   ]
  },
  {
   "cell_type": "raw",
   "metadata": {},
   "source": [
    "集合是无序的，所有跟下标相关的语法不能用"
   ]
  },
  {
   "cell_type": "markdown",
   "metadata": {},
   "source": [
    "enumerate函数封装"
   ]
  },
  {
   "cell_type": "code",
   "execution_count": 28,
   "metadata": {},
   "outputs": [],
   "source": [
    "def enumerate1(value):\n",
    "    list1=[]\n",
    "    index=0\n",
    "    for i in value:\n",
    "        t1=(index,i)\n",
    "        list1.append(t1)\n",
    "        \n",
    "        index+=1\n",
    "    \n",
    "    print(list1)"
   ]
  },
  {
   "cell_type": "code",
   "execution_count": 29,
   "metadata": {},
   "outputs": [
    {
     "name": "stdout",
     "output_type": "stream",
     "text": [
      "[(0, 0), (1, 2), (2, 5), (3, 7), (4, 9)]\n"
     ]
    }
   ],
   "source": [
    "s={2,5,7,9,0,7}\n",
    "enumerate1(s)"
   ]
  },
  {
   "cell_type": "code",
   "execution_count": 2,
   "metadata": {},
   "outputs": [
    {
     "name": "stdout",
     "output_type": "stream",
     "text": [
      "()\n"
     ]
    }
   ],
   "source": [
    "def add1(*args):\n",
    "    print(args)\n",
    "    \n",
    "add1()"
   ]
  },
  {
   "cell_type": "markdown",
   "metadata": {},
   "source": [
    "以上表示为可变参数，参数个数随意。底层逻辑是元组，*args"
   ]
  },
  {
   "cell_type": "markdown",
   "metadata": {},
   "source": [
    "以上为空元组"
   ]
  },
  {
   "cell_type": "code",
   "execution_count": 3,
   "metadata": {},
   "outputs": [
    {
     "name": "stdout",
     "output_type": "stream",
     "text": [
      "(1,)\n",
      "(1, 2)\n",
      "(1, 2, 3)\n",
      "(1, 2, 3, 4)\n"
     ]
    }
   ],
   "source": [
    "add1(1)\n",
    "add1(1,2)\n",
    "add1(1,2,3)\n",
    "add1(1,2,3,4)"
   ]
  },
  {
   "cell_type": "code",
   "execution_count": 4,
   "metadata": {},
   "outputs": [],
   "source": [
    "def sum1(*args):\n",
    "    sum=0\n",
    "    if len(args)>0:\n",
    "        for i in args:\n",
    "            sum+=i\n",
    "        print(\"累加和是: {}\".format(sum))\n",
    "    else:\n",
    "        print(\"没有元素可计算,sum:\",sum)"
   ]
  },
  {
   "cell_type": "code",
   "execution_count": 5,
   "metadata": {},
   "outputs": [
    {
     "name": "stdout",
     "output_type": "stream",
     "text": [
      "累加和是: 3\n"
     ]
    }
   ],
   "source": [
    "sum1(1,2)"
   ]
  },
  {
   "cell_type": "code",
   "execution_count": 6,
   "metadata": {},
   "outputs": [
    {
     "name": "stdout",
     "output_type": "stream",
     "text": [
      "累加和是: 1\n"
     ]
    }
   ],
   "source": [
    "sum1(1)"
   ]
  },
  {
   "cell_type": "code",
   "execution_count": 7,
   "metadata": {},
   "outputs": [
    {
     "name": "stdout",
     "output_type": "stream",
     "text": [
      "累加和是: 15\n"
     ]
    }
   ],
   "source": [
    "sum1(1,5,9)"
   ]
  },
  {
   "cell_type": "code",
   "execution_count": 8,
   "metadata": {},
   "outputs": [
    {
     "name": "stdout",
     "output_type": "stream",
     "text": [
      "没有元素可计算,sum: 0\n"
     ]
    }
   ],
   "source": [
    "sum1()"
   ]
  },
  {
   "cell_type": "markdown",
   "metadata": {},
   "source": [
    "结合可变与不可变参数时，不可变参数必须放在前面"
   ]
  },
  {
   "cell_type": "code",
   "execution_count": 15,
   "metadata": {},
   "outputs": [],
   "source": [
    "def add(name,*args):\n",
    "    sum=0\n",
    "    if len(args)>0:\n",
    "        for i in args:\n",
    "            sum+=i\n",
    "        print(\"{}进行累加，和为{}\".format(name,sum))\n",
    "    else:\n",
    "        print(\"没有元素可计算,sum:\",sum)"
   ]
  },
  {
   "cell_type": "code",
   "execution_count": 16,
   "metadata": {},
   "outputs": [
    {
     "name": "stdout",
     "output_type": "stream",
     "text": [
      "张三进行累加，和为21\n"
     ]
    }
   ],
   "source": [
    "add(\"张三\",1,9,11)"
   ]
  },
  {
   "cell_type": "markdown",
   "metadata": {},
   "source": [
    "# 关键字参数"
   ]
  },
  {
   "cell_type": "raw",
   "metadata": {},
   "source": [
    "关键字参数：key=value"
   ]
  },
  {
   "cell_type": "code",
   "execution_count": 17,
   "metadata": {},
   "outputs": [
    {
     "name": "stdout",
     "output_type": "stream",
     "text": [
      "12\n"
     ]
    }
   ],
   "source": [
    "def add1(a,b=10):\n",
    "    result=a+b\n",
    "    print(result)\n",
    "    \n",
    "add1(5,7)"
   ]
  },
  {
   "cell_type": "markdown",
   "metadata": {},
   "source": [
    "以上赋值方式a=4,b=7,此时7就会覆盖b原来的默认值"
   ]
  },
  {
   "cell_type": "code",
   "execution_count": 18,
   "metadata": {},
   "outputs": [
    {
     "name": "stdout",
     "output_type": "stream",
     "text": [
      "11\n"
     ]
    }
   ],
   "source": [
    "add1(1)"
   ]
  },
  {
   "cell_type": "code",
   "execution_count": 19,
   "metadata": {},
   "outputs": [],
   "source": [
    "def add2(a,b=10,c=4):\n",
    "    result=a+b+c\n",
    "    print(result)"
   ]
  },
  {
   "cell_type": "code",
   "execution_count": 20,
   "metadata": {},
   "outputs": [
    {
     "name": "stdout",
     "output_type": "stream",
     "text": [
      "15\n"
     ]
    }
   ],
   "source": [
    "add2(1)"
   ]
  },
  {
   "cell_type": "code",
   "execution_count": 21,
   "metadata": {},
   "outputs": [
    {
     "name": "stdout",
     "output_type": "stream",
     "text": [
      "12\n"
     ]
    }
   ],
   "source": [
    "add2(2,6)"
   ]
  },
  {
   "cell_type": "markdown",
   "metadata": {},
   "source": [
    "以上默认将6赋值给b了"
   ]
  },
  {
   "cell_type": "code",
   "execution_count": 22,
   "metadata": {},
   "outputs": [
    {
     "name": "stdout",
     "output_type": "stream",
     "text": [
      "18\n"
     ]
    }
   ],
   "source": [
    "add2(2,c=6)"
   ]
  },
  {
   "cell_type": "markdown",
   "metadata": {},
   "source": [
    "如果想将6赋值给c,则需要结合关键字key使用"
   ]
  },
  {
   "cell_type": "raw",
   "metadata": {},
   "source": [
    "函数：打印每位同学的姓名和年龄"
   ]
  },
  {
   "cell_type": "code",
   "execution_count": 23,
   "metadata": {},
   "outputs": [
    {
     "name": "stdout",
     "output_type": "stream",
     "text": [
      "{'a': 1, 'b': 2, 'c': 3}\n"
     ]
    }
   ],
   "source": [
    "def func(**kwargs):\n",
    "    print(kwargs)\n",
    "    \n",
    "func(a=1,b=2,c=3)"
   ]
  },
  {
   "cell_type": "raw",
   "metadata": {},
   "source": [
    "kwargs 表示 key word arguments\n",
    "\n",
    "以上结果为关键词参数\n",
    "**kwargs就说明:只要外面给函数送值，送的值必须是key=value\n",
    "输出类型是字典类型\n",
    "func()表示空字典"
   ]
  },
  {
   "cell_type": "code",
   "execution_count": 24,
   "metadata": {},
   "outputs": [
    {
     "name": "stdout",
     "output_type": "stream",
     "text": [
      "{}\n"
     ]
    }
   ],
   "source": [
    "func()"
   ]
  },
  {
   "cell_type": "code",
   "execution_count": 25,
   "metadata": {},
   "outputs": [
    {
     "name": "stdout",
     "output_type": "stream",
     "text": [
      "{'a': 1}\n"
     ]
    }
   ],
   "source": [
    "func(a=1)"
   ]
  },
  {
   "cell_type": "code",
   "execution_count": 26,
   "metadata": {},
   "outputs": [
    {
     "name": "stdout",
     "output_type": "stream",
     "text": [
      "{'001': 'python', '002': 'java', '003': 'c语言', '004': 'R语言'}\n"
     ]
    }
   ],
   "source": [
    "dict1={\"001\":\"python\",\"002\":\"java\",\"003\":\"c语言\",\"004\":\"R语言\"}\n",
    "func(**dict1)"
   ]
  },
  {
   "cell_type": "raw",
   "metadata": {},
   "source": [
    "**dict1:给函数赋值的时候\n",
    "    传递实参：**变量名\n",
    "    将字典进行拆包\n",
    "    func(001=python，002=java....)"
   ]
  },
  {
   "cell_type": "code",
   "execution_count": 33,
   "metadata": {},
   "outputs": [
    {
     "name": "stdout",
     "output_type": "stream",
     "text": [
      "王二喜欢的小鲜肉是:\n",
      "蔡徐坤的年龄是:21\n",
      "王源的年龄是:19\n",
      "王俊凯的年龄是:20\n"
     ]
    }
   ],
   "source": [
    "def boy(name,**persons):\n",
    "    print(\"{}喜欢的小鲜肉是:\".format(name))\n",
    "    if isinstance(persons,dict):\n",
    "        values=persons.values()\n",
    "        for name,age in values:\n",
    "            print(\"{}的年龄是:{}\".format(name,age))\n",
    "students={\"001\":(\"蔡徐坤\",21),\"002\":(\"王源\",19),\"003\":(\"王俊凯\",20)}\n",
    "boy(\"王二\",**students)"
   ]
  },
  {
   "cell_type": "raw",
   "metadata": {},
   "source": [
    "使用函数的时候：\n",
    "def aa(**kwargs):\n",
    "   pass\n",
    "必须使用关键字变量\n",
    "\n",
    "如果在开放的时候，已知一个字典\n",
    "调用时，拆包；定义函数时**表示装包\n",
    "则将aa拆分：aa(**students) 一颗星与二颗星一致操作\n",
    "\n",
    "可变参数*......>（）    **.....>{}字典\n"
   ]
  },
  {
   "cell_type": "code",
   "execution_count": 1,
   "metadata": {},
   "outputs": [],
   "source": [
    "def func(a,*args):\n",
    "    print(a,args)"
   ]
  },
  {
   "cell_type": "code",
   "execution_count": 2,
   "metadata": {},
   "outputs": [
    {
     "name": "stdout",
     "output_type": "stream",
     "text": [
      "2 ([1, 2, 3, 4],)\n"
     ]
    }
   ],
   "source": [
    "func(2,[1,2,3,4])"
   ]
  },
  {
   "cell_type": "code",
   "execution_count": 3,
   "metadata": {},
   "outputs": [
    {
     "name": "stdout",
     "output_type": "stream",
     "text": [
      "2 (3, [4, 5, 6, 7])\n"
     ]
    }
   ],
   "source": [
    "func(2,3,[4,5,6,7])"
   ]
  },
  {
   "cell_type": "code",
   "execution_count": 4,
   "metadata": {},
   "outputs": [
    {
     "name": "stdout",
     "output_type": "stream",
     "text": [
      "5 (6, (4, 5, 6), 9)\n"
     ]
    }
   ],
   "source": [
    "func(5,6,(4,5,6),9)"
   ]
  },
  {
   "cell_type": "code",
   "execution_count": 6,
   "metadata": {},
   "outputs": [],
   "source": [
    "def func1(name,*courses):\n",
    "    if len(courses)>0:\n",
    "        for i in courses:\n",
    "            print(\"{}学过了{}\".format(name,i))\n",
    "    else:\n",
    "        print(\"没有学过任何编程知识！\")"
   ]
  },
  {
   "cell_type": "code",
   "execution_count": 7,
   "metadata": {},
   "outputs": [
    {
     "name": "stdout",
     "output_type": "stream",
     "text": [
      "王二学过了html\n",
      "王二学过了python\n",
      "王二学过了R\n"
     ]
    }
   ],
   "source": [
    "courses=[\"html\",\"python\",\"R\"]\n",
    "name=\"王二\"\n",
    "func1(name,*courses)"
   ]
  },
  {
   "cell_type": "markdown",
   "metadata": {},
   "source": [
    "以上为拆包"
   ]
  },
  {
   "cell_type": "code",
   "execution_count": 8,
   "metadata": {},
   "outputs": [
    {
     "name": "stdout",
     "output_type": "stream",
     "text": [
      "王二学过了['html', 'python', 'R']\n"
     ]
    }
   ],
   "source": [
    "func1(name,courses)"
   ]
  },
  {
   "cell_type": "raw",
   "metadata": {},
   "source": [
    "无参数函数：\n",
    "def func():\n",
    "   pass\n",
    "\n",
    "有参数函数：\n",
    " 1.普通函数\n",
    " \n",
    " def func(name,age):\n",
    "    pass\n",
    "    \n",
    "调用\n",
    "\n",
    "形参与实参的个数要一致\n",
    "\n",
    "\n",
    "2.可变参数：\n",
    "def func(*args):\n",
    "   pass\n",
    "   \n",
    "   \n",
    " 函数调用时，实参的个数可以没有，也可以多个 *不能是关键字参数\n",
    " \n",
    " \n",
    " \n",
    "def func(**kwargs):\n",
    "   pass\n",
    "   \n",
    "   \n",
    "func(a=1,b=2)......>函数调用时，实参的个数可以没有，也可以多个   **必须是关键字参数\n",
    "\n",
    "\n",
    "\n",
    "\n",
    "def func(*args,**kwargs):\n",
    "   pass\n",
    "   \n",
    "   \n",
    "list1=[1,3]\n",
    "dicrt={\"1\":2,\"3\":4} \n",
    "\n",
    "func(*list,**dict1)  func(1,3,\"1\"=\"a\",\"2\"=\"b\")\n",
    "\n",
    "\n",
    "\n",
    "混用\n",
    "\n",
    "\n",
    "\n",
    "\n",
    "3.默认值,关键字赋值，要想改变以下的age,就得age=20\n",
    "\n",
    "def func(name,age=18):\n",
    "   pass\n",
    "    \n"
   ]
  },
  {
   "cell_type": "markdown",
   "metadata": {},
   "source": [
    "# 函数☞返回值"
   ]
  },
  {
   "cell_type": "raw",
   "metadata": {},
   "source": [
    "返回值：将函数中运算的结果通过return\"扔出来\"\n",
    "print仅仅是在控制台呈现，辅助查看，但是外部是无法使用的\n",
    "反出结果的关键字：return\n",
    "return后面的东西必须有东西接，比方说X=add6(7,9)\n",
    "\n",
    "1.return后面可以是一个参数，接收的时候是x=add6(a,b)\n",
    "2.return 后面也可以是多个参数，如果是多个参数则底层会将多个参数先放在一个元组中，将元组作为整体返回\n",
    "return 1,2,3\n",
    "x=add6(1,2)x.......>(1,2,3)\n",
    "3.接收的时候也可以是多个：return 1，100，2   x,y,z=(1,100,2)     ....>x=1,y=100,z=2"
   ]
  },
  {
   "cell_type": "code",
   "execution_count": 9,
   "metadata": {},
   "outputs": [],
   "source": [
    "def add6(a,b):\n",
    "    result=a+b\n",
    "    return result"
   ]
  },
  {
   "cell_type": "code",
   "execution_count": 10,
   "metadata": {},
   "outputs": [
    {
     "data": {
      "text/plain": [
       "16"
      ]
     },
     "execution_count": 10,
     "metadata": {},
     "output_type": "execute_result"
    }
   ],
   "source": [
    "add6(7,9)"
   ]
  },
  {
   "cell_type": "code",
   "execution_count": 11,
   "metadata": {},
   "outputs": [],
   "source": [
    "def add7(a,b):\n",
    "    result=a+b\n",
    "    return 1,3,100\n"
   ]
  },
  {
   "cell_type": "code",
   "execution_count": 13,
   "metadata": {},
   "outputs": [
    {
     "name": "stdout",
     "output_type": "stream",
     "text": [
      "1 3 100\n"
     ]
    }
   ],
   "source": [
    "x,y,z=add7(6,7)\n",
    "print(x,y,z)"
   ]
  },
  {
   "cell_type": "raw",
   "metadata": {},
   "source": [
    "加入购物车：\n",
    "判断用户是否登入，如果登入，成功加入购物车，否则提示请登入之后添加\n",
    "成功true  不成功false\n",
    "\n",
    "def add_shoppingcart(goodsname):\n",
    "   pass\n",
    "\n",
    "\n",
    "def login(username,password):\n",
    "   pass\n",
    "   \n",
    "调用\n"
   ]
  },
  {
   "cell_type": "markdown",
   "metadata": {},
   "source": [
    "函数可嵌套"
   ]
  },
  {
   "cell_type": "code",
   "execution_count": 19,
   "metadata": {},
   "outputs": [
    {
     "name": "stdout",
     "output_type": "stream",
     "text": [
      "输入用户名:jiaqi\n",
      "输入密码:123456\n",
      "用户名或者密码错误！\n",
      "用户没有登入或者没有添加任何商品！\n"
     ]
    }
   ],
   "source": [
    "islogin=False\n",
    "\n",
    "\n",
    "def add_shoppingcart(goodsName):\n",
    "    if islogin and goodsName:\n",
    "        print(\"成功将{}加入到购物车中！\".format(goodsName))\n",
    "        \n",
    "    else:\n",
    "        print(\"用户没有登入或者没有添加任何商品！\")\n",
    "        \n",
    "\n",
    "\n",
    "def login(username,password):\n",
    "    if username==\"lijiaqi\" and password==\"123456\":\n",
    "        print(\"登入成功！\")\n",
    "        return True\n",
    "    else:\n",
    "        print(\"用户名或者密码错误！\")\n",
    "        return False\n",
    "\n",
    "username= input(\"输入用户名:\")\n",
    "password=input(\"输入密码:\")\n",
    "\n",
    "islogin=login(username,password)\n",
    "\n",
    "add_shoppingcart(\"阿玛尼唇釉\")\n"
   ]
  },
  {
   "cell_type": "code",
   "execution_count": 15,
   "metadata": {},
   "outputs": [
    {
     "name": "stdout",
     "output_type": "stream",
     "text": [
      "用户没有登入或者没有添加任何商品！\n"
     ]
    }
   ],
   "source": [
    "add_shoppingcart(\"阿玛尼唇釉\")"
   ]
  },
  {
   "cell_type": "code",
   "execution_count": 23,
   "metadata": {},
   "outputs": [
    {
     "name": "stdout",
     "output_type": "stream",
     "text": [
      "输入用户名:jiaqi\n",
      "输入密码:1\n",
      "用户名或者密码错误！\n",
      "用户没有登入！是否登录用户？(yes/no):yes\n",
      "输入用户名:lijiaqi\n",
      "输入密码:123456\n",
      "登入成功！\n"
     ]
    }
   ],
   "source": [
    "islogin=False\n",
    "\n",
    "\n",
    "def add_shoppingcart(goodsName):\n",
    "    global islogin\n",
    "    if islogin:\n",
    "        if goodsName:\n",
    "            \n",
    "            print(\"成功将{}加入到购物车中！\".format(goodsName))\n",
    "        else:\n",
    "            print(\"没有选中任何商品！\")\n",
    "    else:\n",
    "        answer=input(\"用户没有登入！是否登录用户？(yes/no):\")\n",
    "        if answer==\"yes\":\n",
    "            username= input(\"输入用户名:\")\n",
    "            password=input(\"输入密码:\")\n",
    "            \n",
    "            islogin=login(username,password)\n",
    "            \n",
    "        else:\n",
    "            print(\"很遗憾！不能添加任何商品！\")\n",
    "        \n",
    "        \n",
    "\n",
    "\n",
    "def login(username,password):\n",
    "    if username==\"lijiaqi\" and password==\"123456\":\n",
    "        print(\"登入成功！\")\n",
    "        return True\n",
    "    else:\n",
    "        print(\"用户名或者密码错误！\")\n",
    "        return False\n",
    "\n",
    "username= input(\"输入用户名:\")\n",
    "password=input(\"输入密码:\")\n",
    "\n",
    "islogin=login(username,password)\n",
    "\n",
    "add_shoppingcart(\"阿玛尼唇釉\")"
   ]
  },
  {
   "cell_type": "markdown",
   "metadata": {},
   "source": [
    "# 函数综合应用"
   ]
  },
  {
   "cell_type": "raw",
   "metadata": {},
   "source": [
    "用户登录\n",
    "输入用户名\n",
    "输入密码\n",
    "输入验证码......>封装成一个函数"
   ]
  },
  {
   "cell_type": "code",
   "execution_count": 8,
   "metadata": {},
   "outputs": [],
   "source": [
    "import random\n",
    "def generate_checkcode(n):\n",
    "    s=\"0123737489386qosnmlhddbdSDWQFFENVWRMZBSIDGCSJW\"\n",
    "    code=\"\"\n",
    "    for i in range(n):\n",
    "        ran=random.randint(0,len(s)-1)\n",
    "        code+=s[ran]\n",
    "    return code\n",
    "\n",
    "\n",
    "def login():\n",
    "    username=input(\"输入用户名:\")\n",
    "    password=input(\"输入密码:\")\n",
    "    \n",
    "    code=generate_checkcode(5)\n",
    "    print(\"验证码是:\",code)\n",
    "    code1=input(\"输入验证码:\")\n",
    "    \n",
    "    if code.lower()==code1.lower():\n",
    "        if username==\"lijiaqqi\" and password==\"123456\":\n",
    "            print(\"用户登入成功！\")\n",
    "        else:\n",
    "            print(\"用户名或者密码错误！\")\n",
    "        \n",
    "    else:\n",
    "        print(\"验证码有误！\")"
   ]
  },
  {
   "cell_type": "code",
   "execution_count": 10,
   "metadata": {},
   "outputs": [
    {
     "name": "stdout",
     "output_type": "stream",
     "text": [
      "输入用户名:lijiaqqi\n",
      "输入密码:123456\n",
      "验证码是: ldlCS\n",
      "输入验证码:ldlcs\n",
      "用户登入成功！\n"
     ]
    }
   ],
   "source": [
    "login()"
   ]
  },
  {
   "cell_type": "markdown",
   "metadata": {},
   "source": [
    "# 全局变量和局部变量"
   ]
  },
  {
   "cell_type": "raw",
   "metadata": {},
   "source": [
    "局部变量\n",
    "函数内部声明的变量，局部变量，仅限于在函数内布使用\n",
    "\n",
    "声明在函数外层是全局的，所有函数均可访问\n",
    "\n",
    "局部变量与全局变量同名，则优先打印离其最近的（即内部的）\n",
    "\n",
    "函数内部的变量可以随便修改赋值，但是全局变量就不能随便在函数中进行修改\n",
    "\n",
    "要修改全局变量则需要在函数内部声明：global 变量名\n",
    "\n",
    "\n",
    "全局变量如果是不可变在函数中进行修改需要添加global关键字，例如：name=\"\"，如果全局变量是可变的，在函数中进行修改时就不需要添加global,例如：list\n",
    "\n",
    "\n"
   ]
  },
  {
   "cell_type": "code",
   "execution_count": 14,
   "metadata": {},
   "outputs": [
    {
     "name": "stdout",
     "output_type": "stream",
     "text": [
      "打印老大n: 201\n",
      "打印老二list1: [103, 104, 106, 109]\n"
     ]
    }
   ],
   "source": [
    "def func():\n",
    "    \n",
    "    n=100\n",
    "    list1=[3,6,9,4]\n",
    "    \n",
    "    def inner_func():\n",
    "        nonlocal n\n",
    "        for index,i in enumerate(list1):\n",
    "            list1[index]=i+n\n",
    "            \n",
    "        list1.sort()\n",
    "        n+=101\n",
    "        \n",
    "    inner_func()\n",
    "    \n",
    "    print(\"打印老大n:\",n)\n",
    "    \n",
    "    print(\"打印老二list1:\",list1)\n",
    "    \n",
    "func()"
   ]
  },
  {
   "cell_type": "raw",
   "metadata": {},
   "source": [
    "内部函数：\n",
    "特点：\n",
    "1.可以访问外部函数的变量：\n",
    "2.内部函数可以修改外部函数的可变类型的变量比如：list\n",
    "3.内部函数修改全局的不可变变量时，需要在内部函数声明global 变量名\n",
    "  内部函数修改外部函数的不可变量时，需要在内部函数声明nonlocal 变量名\n",
    "  \n",
    "  locals()内置函数进行查看，可以看到在当前函数中声明的内容有哪些\n",
    "  locals()是一个字典，key:value 的形式呈现,查看本地变量\n",
    "  globals()查看全局变量有哪些，以字典的形式输出，里面有系统的键值对"
   ]
  },
  {
   "cell_type": "code",
   "execution_count": 19,
   "metadata": {},
   "outputs": [
    {
     "name": "stdout",
     "output_type": "stream",
     "text": [
      "110 100 100\n"
     ]
    }
   ],
   "source": [
    "a=100\n",
    "def func():\n",
    "    \n",
    "    b=99\n",
    "    \n",
    "    def inner_func():\n",
    "        global a\n",
    "        nonlocal b\n",
    "        c=88\n",
    "        c+=12\n",
    "        b+=1\n",
    "        a+=10\n",
    "        print(a,b,c)\n",
    "    \n",
    "    inner_func()\n",
    "    \n",
    "    \n",
    "func()"
   ]
  },
  {
   "cell_type": "markdown",
   "metadata": {},
   "source": [
    "# 闭包"
   ]
  },
  {
   "cell_type": "raw",
   "metadata": {},
   "source": [
    "在函数中提出的概念，\n",
    "条件：\n",
    "1.外部函数中定义了内部函数\n",
    "2.外部函数是有返回值\n",
    "3.返回的值是：内部函数名\n",
    "4.内部函数引用了外部函数的变量\n",
    "\n",
    "格式：\n",
    "\n",
    "def 外部函数():\n",
    "   ......\n",
    "   def 内部函数():\n",
    "      ......\n",
    "   return 内部函数\n",
    "   \n",
    "   \n",
    "   \n",
    "闭包有什么缺点？\n",
    "1.作用域没有那么直观\n",
    "2.因为变量不会被垃圾回收，所以有一定的内存占用问题\n",
    "\n",
    "闭包的作用\n",
    "1.可以使用同级的作用域\n",
    "2.读取其他元素的内部变量\n",
    "3.延长作用域\n",
    "\n",
    "\n",
    "\n",
    "\n",
    "只要有return 必须拿函数去接"
   ]
  },
  {
   "cell_type": "code",
   "execution_count": 7,
   "metadata": {},
   "outputs": [
    {
     "name": "stdout",
     "output_type": "stream",
     "text": [
      "<function func.<locals>.inner_func at 0x000001CFF4361AF8>\n",
      "100 99\n"
     ]
    }
   ],
   "source": [
    "def func():\n",
    "    a=100\n",
    "    def inner_func():\n",
    "        b=99\n",
    "        print(a,b)\n",
    "        \n",
    "    return inner_func       \n",
    "x=func()\n",
    "print(x)\n",
    "x()\n",
    "\n"
   ]
  },
  {
   "cell_type": "code",
   "execution_count": 10,
   "metadata": {},
   "outputs": [
    {
     "name": "stdout",
     "output_type": "stream",
     "text": [
      "<function func.<locals>.inner_func at 0x000001CFF4361B88>\n",
      "<function func.<locals>.inner_func at 0x000001CFF4361AF8>\n",
      "相加之后的结果是: 23\n",
      "相加之后的结果是: 25\n"
     ]
    }
   ],
   "source": [
    "def func(a,b):\n",
    "    c=10\n",
    "    \n",
    "    def inner_func():\n",
    "        s=a+b+c\n",
    "        print(\"相加之后的结果是:\",s)\n",
    "    return inner_func\n",
    "\n",
    "x=func(4,9)\n",
    "x1=func(8,7)\n",
    "print(x)\n",
    "print(x1)\n",
    "x()\n",
    "x1()"
   ]
  },
  {
   "cell_type": "markdown",
   "metadata": {},
   "source": [
    "# 闭包的应用"
   ]
  },
  {
   "cell_type": "raw",
   "metadata": {},
   "source": [
    "应用：\n",
    "1.保存返回返回闭包时的状态\n",
    "当你调用func(6,9).....>a=6,b=9.......>inner_func()内部函数中......>返回内部函数(此时返回的内部函数已经记录此时的a和b的值，所以不会受到a,b改变的影响。\n",
    "再去调用func(2,8)......>a=2,b=8.......>保存在本次的inner_func函数中，......>返回的时候返回的就是保存2，8的内部函数"
   ]
  },
  {
   "cell_type": "markdown",
   "metadata": {},
   "source": [
    "以下为计数器"
   ]
  },
  {
   "cell_type": "code",
   "execution_count": 11,
   "metadata": {},
   "outputs": [
    {
     "name": "stdout",
     "output_type": "stream",
     "text": [
      "当前是第1次访问\n",
      "当前是第2次访问\n",
      "当前是第3次访问\n"
     ]
    }
   ],
   "source": [
    "def generate_count():\n",
    "    container=[0]\n",
    "    \n",
    "    def add_one():\n",
    "        container[0]=container[0]+1\n",
    "        print(\"当前是第{}次访问\".format(container[0]))\n",
    "    return add_one\n",
    "\n",
    "counter=generate_count()\n",
    "\n",
    "counter()\n",
    "\n",
    "counter()\n",
    "\n",
    "counter()"
   ]
  },
  {
   "cell_type": "code",
   "execution_count": 16,
   "metadata": {},
   "outputs": [
    {
     "name": "stdout",
     "output_type": "stream",
     "text": [
      "<function func.<locals>.inner_func2 at 0x000001CFF4371558>\n",
      "190\n",
      "...........>,inner_func2 100\n",
      "190\n",
      "...........>,inner_func2 100\n",
      "hello\n"
     ]
    }
   ],
   "source": [
    "def func():\n",
    "    a=100\n",
    "    \n",
    "    def inner_func1():\n",
    "        b=90\n",
    "        s=a+b\n",
    "        print(s)\n",
    "        \n",
    "    def inner_func2():\n",
    "        inner_func1()\n",
    "        print(\"...........>,inner_func2\",a)\n",
    "        return \"hello\"\n",
    "        \n",
    "    return inner_func2\n",
    "\n",
    "f=func()\n",
    "\n",
    "print(f)\n",
    "f()\n",
    "ff=f()\n",
    "print(ff)"
   ]
  },
  {
   "cell_type": "markdown",
   "metadata": {},
   "source": [
    "# 装饰器"
   ]
  },
  {
   "cell_type": "raw",
   "metadata": {},
   "source": [
    "加入购物车，付款，修改地址：\n",
    "判断用户的登陆状态\n",
    "\n",
    "\n",
    "\n",
    "函数作为参数\n",
    "a=50\n",
    "f1=func(a)\n",
    "print(f1)\n",
    "\n",
    "\n",
    "特点：\n",
    "1.函数A是作为参数出现的，函数B就接收函数A作为参数\n",
    "2.要有闭包的特点\n",
    "\n",
    "使用装饰器：\n",
    "@decorate\n",
    "def house():\n",
    "\n",
    "\n",
    "\n",
    "1.house被装饰函数\n",
    "2.将被装饰函数作为参数传给装饰器decorate\n",
    "3.执行decorate函数\n",
    "4.将返回值又赋值给house\n",
    "\n",
    "本质将函数作为变量"
   ]
  },
  {
   "cell_type": "code",
   "execution_count": 21,
   "metadata": {},
   "outputs": [
    {
     "name": "stdout",
     "output_type": "stream",
     "text": [
      "修改后的a: 106\n",
      "<function test at 0x000001CFF43711F8>\n",
      ".......test......\n",
      ".............>func\n"
     ]
    }
   ],
   "source": [
    "def func(number):\n",
    "    a=100\n",
    "    \n",
    "    def inner_func():\n",
    "        nonlocal a\n",
    "        nonlocal number\n",
    "        number+=1\n",
    "        for i in range(number):\n",
    "            a+=1\n",
    "            \n",
    "        print(\"修改后的a:\",a)\n",
    "        \n",
    "    return inner_func\n",
    "\n",
    "f=func(5)\n",
    "f()\n"
   ]
  },
  {
   "cell_type": "code",
   "execution_count": 22,
   "metadata": {},
   "outputs": [
    {
     "name": "stdout",
     "output_type": "stream",
     "text": [
      ".......test......\n",
      ".......test......\n",
      "<function test at 0x000001CFF4371828>\n",
      ".......test......\n",
      ".............>func\n"
     ]
    }
   ],
   "source": [
    "def test():\n",
    "    print(\".......test......\")\n",
    "    \n",
    "t=test\n",
    "\n",
    "test()\n",
    "t()\n",
    "\n",
    "def func(f):\n",
    "    print(f)\n",
    "    f()\n",
    "    print(\".............>func\")\n",
    "\n",
    "func(test)"
   ]
  },
  {
   "cell_type": "code",
   "execution_count": 24,
   "metadata": {},
   "outputs": [
    {
     "name": "stdout",
     "output_type": "stream",
     "text": [
      "wrapper外层打印测试\n",
      "wrapper加载完成....\n",
      "我是毛坯房....\n",
      "..........>222222 100\n",
      "...........>刷漆\n",
      "...........>铺地板，a\n",
      "...........>装门\n"
     ]
    }
   ],
   "source": [
    "def decorate(func):\n",
    "    a=100\n",
    "    print(\"wrapper外层打印测试\")\n",
    "    def wrapper():\n",
    "        \n",
    "        func()\n",
    "        print(\"..........>222222\",a)\n",
    "        print(\"...........>刷漆\")\n",
    "        print(\"...........>铺地板，a\")\n",
    "        print(\"...........>装门\")\n",
    "    print(\"wrapper加载完成....\")\n",
    "    return wrapper\n",
    "@decorate\n",
    "def house():\n",
    "    print(\"我是毛坯房....\")\n",
    "house()   "
   ]
  },
  {
   "cell_type": "code",
   "execution_count": 43,
   "metadata": {},
   "outputs": [
    {
     "name": "stdout",
     "output_type": "stream",
     "text": [
      "正在校验中......\n",
      "校验完毕......\n",
      "........f1....... 5\n"
     ]
    }
   ],
   "source": [
    "import time\n",
    "\n",
    "def decorate(func):\n",
    "    def wrapper(*args,**kwargs):\n",
    "        print(\"正在校验中......\")\n",
    "        time.sleep(2)\n",
    "        print(\"校验完毕......\")\n",
    "        \n",
    "        func(*args,**kwargs)\n",
    "    return wrapper\n",
    "\n",
    "        \n",
    "@decorate        \n",
    "def f1(n):\n",
    "    print(\"........f1.......\",n)\n",
    "\n",
    "@decorate \n",
    "def f2(name,age):\n",
    "    print(\"........f2.......\",name,age)\n",
    "\n",
    "    \n",
    "@decorate\n",
    "def f3(students,clazz=\"1905\"):\n",
    "    print(\"{}班级的学生如下:\".format(clazz))\n",
    "    for stu in students:\n",
    "        print(stu)\n",
    "    \n",
    "    \n",
    "    \n",
    "f1(5)"
   ]
  },
  {
   "cell_type": "code",
   "execution_count": 37,
   "metadata": {},
   "outputs": [
    {
     "name": "stdout",
     "output_type": "stream",
     "text": [
      "正在校验中......\n",
      "校验完毕......\n",
      "........f2....... lilu 20\n"
     ]
    }
   ],
   "source": [
    "f2(\"lilu\",\"20\")"
   ]
  },
  {
   "cell_type": "code",
   "execution_count": 44,
   "metadata": {},
   "outputs": [
    {
     "name": "stdout",
     "output_type": "stream",
     "text": [
      "正在校验中......\n",
      "校验完毕......\n",
      "1904班级的学生如下:\n",
      "lily\n",
      "tom\n",
      "lucy\n"
     ]
    }
   ],
   "source": [
    "students=[\"lily\",\"tom\",\"lucy\"]\n",
    "f3(students,clazz=\"1904\")"
   ]
  },
  {
   "cell_type": "code",
   "execution_count": 51,
   "metadata": {},
   "outputs": [
    {
     "name": "stdout",
     "output_type": "stream",
     "text": [
      ".........>1 start\n",
      ".........>1 end\n",
      ".........>2 start\n",
      "..........>2 end\n",
      "我是毛坯房....\n",
      "刷漆\n",
      "铺地板，上门......\n"
     ]
    }
   ],
   "source": [
    "def zhuang1(func):\n",
    "    print(\".........>1 start\")\n",
    "    \n",
    "    def wrapper(*args,**kwargs):\n",
    "        func()\n",
    "        print(\"刷漆\")\n",
    "    print(\".........>1 end\")\n",
    "    \n",
    "    return wrapper\n",
    "\n",
    "def zhuang2(func):\n",
    "    print(\".........>2 start\")\n",
    "    \n",
    "    \n",
    "    def wrapper(*args,**kwargs):\n",
    "        \n",
    "        func()\n",
    "        print(\"铺地板，上门......\")\n",
    "    print(\"..........>2 end\")\n",
    "    \n",
    "    \n",
    "    \n",
    "    return wrapper\n",
    "\n",
    "\n",
    "@zhuang2\n",
    "@zhuang1\n",
    "def house():\n",
    "    print(\"我是毛坯房....\")\n",
    "    \n",
    "house()\n",
    "    "
   ]
  },
  {
   "cell_type": "raw",
   "metadata": {},
   "source": [
    "多层装饰器：\n",
    "谁离我的函数最近，优先使用哪个装饰器，如上面所示"
   ]
  },
  {
   "cell_type": "markdown",
   "metadata": {},
   "source": [
    "# 带参数的装饰器"
   ]
  },
  {
   "cell_type": "code",
   "execution_count": 52,
   "metadata": {},
   "outputs": [],
   "source": [
    "def outer(a):\n",
    "    \n",
    "    def decorate(func):\n",
    "        def wrapper(*args,**kwargs):\n",
    "            func(*args,**kwargs)\n",
    "            print(\"........>铺地砖{}块...\".format(a))\n",
    "\n",
    "        return wrapper\n",
    "    return decorate\n",
    "\n",
    "@outer(10)\n",
    "def house(time):\n",
    "    print(\"我{}日期拿到房子的钥匙，是毛坯房.....\".format(time))\n",
    "    \n"
   ]
  },
  {
   "cell_type": "code",
   "execution_count": 53,
   "metadata": {},
   "outputs": [
    {
     "name": "stdout",
     "output_type": "stream",
     "text": [
      "我2020-6-16日期拿到房子的钥匙，是毛坯房.....\n",
      "........>铺地砖10块...\n"
     ]
    }
   ],
   "source": [
    "house(\"2020-6-16\")"
   ]
  },
  {
   "cell_type": "raw",
   "metadata": {},
   "source": [
    "带参数的装饰器是三层的\n",
    "最外层的函数负责接收装饰器参数\n",
    "里面的内容还是原装饰器的内容"
   ]
  },
  {
   "cell_type": "markdown",
   "metadata": {},
   "source": [
    "装饰器应用之付款"
   ]
  },
  {
   "cell_type": "code",
   "execution_count": 1,
   "metadata": {},
   "outputs": [],
   "source": [
    "import time\n",
    "\n",
    "\n",
    "\n",
    "\n",
    "islogin=False\n",
    "\n",
    "\n",
    "def login():\n",
    "    username=input(\"输入用户名：\")\n",
    "    password=input(\"输入密码：\")\n",
    "    if username==\"lijiaqi\" and password==\"123456\":\n",
    "        return True\n",
    "    else:\n",
    "        return False\n",
    "\n",
    "def login_required(func):\n",
    "    def wrapper(*args,**kwargs):\n",
    "        global islogin\n",
    "        print(\"........付款.......\")\n",
    "        if islogin:\n",
    "            func(*args,**kwargs)\n",
    "        else:\n",
    "            print(\"用户没有登陆，不能付款！\")\n",
    "            islogin=login()\n",
    "            print(\"result:\",islogin)\n",
    "    \n",
    "    return wrapper\n",
    "\n",
    "\n",
    "@login_required\n",
    "def pay(money):\n",
    "    print(\"正在付款，付款金额是：{}元\".format(money))\n",
    "    print(\"付款中.....\")\n",
    "    time.sleep(2)\n",
    "    print(\"付款完成！\")\n",
    "    \n",
    "    \n",
    "\n",
    "    \n"
   ]
  },
  {
   "cell_type": "code",
   "execution_count": 2,
   "metadata": {},
   "outputs": [
    {
     "name": "stdout",
     "output_type": "stream",
     "text": [
      "........付款.......\n",
      "用户没有登陆，不能付款！\n",
      "输入用户名：lijiaqi\n",
      "输入密码：123456\n",
      "result: True\n",
      "........付款.......\n",
      "正在付款，付款金额是：8000元\n",
      "付款中.....\n",
      "付款完成！\n"
     ]
    }
   ],
   "source": [
    "pay(10000)\n",
    "pay(8000)"
   ]
  },
  {
   "cell_type": "raw",
   "metadata": {},
   "source": [
    "函数：\n",
    "a=100\n",
    "def func()\n",
    "   a=10\n",
    "   def inner_func():\n",
    "      a=1\n",
    "      print(a)\n",
    "   inner_func()\n",
    "\n",
    "\n",
    "作用域：LEGB  \n",
    "\n",
    "L:local 本地 局部变量\n",
    "\n",
    "E：encloseing 嵌套\n",
    "\n",
    "G: Global 全局\n",
    "\n",
    "B：built-in 内置的\n",
    "\n",
    "\n",
    "\n",
    "\n"
   ]
  },
  {
   "cell_type": "markdown",
   "metadata": {},
   "source": [
    "# 匿名函数"
   ]
  },
  {
   "cell_type": "raw",
   "metadata": {},
   "source": [
    "def func():\n",
    "    print(\"aaaa\")\n",
    "    \n",
    "def add(a,b):\n",
    "    s=a+b\n",
    "    return s\n",
    "简化函数定义\n",
    "格式：lambda 参数1 参数2....：运算\n",
    "\n",
    "匿名函数作为参数\n",
    "def func(x,y,func):\n",
    "   print(x,y)\n",
    "   print(func)\n",
    "   func(x,y)\n",
    "   \n",
    "   \n",
    "调用func\n",
    "\n",
    "func(1,2,lambda a,b:a+b)\n",
    "\n"
   ]
  },
  {
   "cell_type": "code",
   "execution_count": 1,
   "metadata": {},
   "outputs": [
    {
     "name": "stdout",
     "output_type": "stream",
     "text": [
      "<function <lambda> at 0x00000180B9B0C678>\n"
     ]
    }
   ],
   "source": [
    "s=lambda a,b:a+b\n",
    "print(s)\n"
   ]
  },
  {
   "cell_type": "code",
   "execution_count": 2,
   "metadata": {},
   "outputs": [
    {
     "data": {
      "text/plain": [
       "3"
      ]
     },
     "execution_count": 2,
     "metadata": {},
     "output_type": "execute_result"
    }
   ],
   "source": [
    "s(1,2)"
   ]
  },
  {
   "cell_type": "code",
   "execution_count": 3,
   "metadata": {},
   "outputs": [
    {
     "data": {
      "text/plain": [
       "{'a': 20, 'b': 20}"
      ]
     },
     "execution_count": 3,
     "metadata": {},
     "output_type": "execute_result"
    }
   ],
   "source": [
    "list2=[{\"a\":10,\"b\":20},{\"a\":13,\"b\":20},{\"a\":9,\"b\":20},{\"a\":20,\"b\":20}]\n",
    "max(list2,key=lambda x:x[\"a\"])"
   ]
  },
  {
   "cell_type": "code",
   "execution_count": 4,
   "metadata": {},
   "outputs": [
    {
     "data": {
      "text/plain": [
       "{'a': 9, 'b': 20}"
      ]
     },
     "execution_count": 4,
     "metadata": {},
     "output_type": "execute_result"
    }
   ],
   "source": [
    "min(list2,key=lambda x:x[\"a\"])"
   ]
  },
  {
   "cell_type": "raw",
   "metadata": {},
   "source": [
    "map()函数\n",
    "list1=[3,4,5,6,71,9,0]\n",
    "map(函数，可迭代)\n",
    "map(lambda x:x+2,list1)\n",
    "\n",
    "对列表里面某些东西进行操作的时候就需要使用map,最后要用list()转\n",
    "\n",
    "\n",
    "\n",
    "reduce():对列表(可迭代)中的元素进行加减乘除运算的函数\n",
    "reduce(function,sequence,initial=none)\n",
    "\n",
    "\n",
    "\n",
    "filter(function,可迭代)\n",
    "\n",
    "最后要用list()转"
   ]
  },
  {
   "cell_type": "code",
   "execution_count": 6,
   "metadata": {},
   "outputs": [
    {
     "name": "stdout",
     "output_type": "stream",
     "text": [
      "[5, 6, 7, 8, 73, 11, 2]\n"
     ]
    }
   ],
   "source": [
    "list1=[3,4,5,6,71,9,0]\n",
    "result=map(lambda x:x+2,list1)\n",
    "print(list(result))"
   ]
  },
  {
   "cell_type": "code",
   "execution_count": 7,
   "metadata": {},
   "outputs": [
    {
     "data": {
      "text/plain": [
       "6"
      ]
     },
     "execution_count": 7,
     "metadata": {},
     "output_type": "execute_result"
    }
   ],
   "source": [
    "func=lambda x:x if x % 2==0 else x+1\n",
    "func(5)"
   ]
  },
  {
   "cell_type": "code",
   "execution_count": 8,
   "metadata": {},
   "outputs": [
    {
     "name": "stdout",
     "output_type": "stream",
     "text": [
      "[4, 4, 6, 6, 72, 10, 0]\n"
     ]
    }
   ],
   "source": [
    "result1=map(lambda x:x if x % 2==0 else x+1,list1)\n",
    "print(list(result1))\n"
   ]
  },
  {
   "cell_type": "code",
   "execution_count": 1,
   "metadata": {},
   "outputs": [
    {
     "data": {
      "text/plain": [
       "33"
      ]
     },
     "execution_count": 1,
     "metadata": {},
     "output_type": "execute_result"
    }
   ],
   "source": [
    "from functools import reduce\n",
    "\n",
    "tuple1=(3,5,7,8,9,1)\n",
    "\n",
    "reduce(lambda x,y:x+y,tuple1)\n"
   ]
  },
  {
   "cell_type": "code",
   "execution_count": 4,
   "metadata": {},
   "outputs": [
    {
     "data": {
      "text/plain": [
       "9"
      ]
     },
     "execution_count": 4,
     "metadata": {},
     "output_type": "execute_result"
    }
   ],
   "source": [
    "tuple2=(1,)\n",
    "reduce(lambda x,y:x-y,tuple2,10)"
   ]
  },
  {
   "cell_type": "code",
   "execution_count": 6,
   "metadata": {},
   "outputs": [
    {
     "data": {
      "text/plain": [
       "[12, 98, 34, 36]"
      ]
     },
     "execution_count": 6,
     "metadata": {},
     "output_type": "execute_result"
    }
   ],
   "source": [
    "list6=[12,6,8,98,34,36,2,8,0]\n",
    "f=filter(lambda x:x>10,list6)\n",
    "list(f)"
   ]
  },
  {
   "cell_type": "code",
   "execution_count": 7,
   "metadata": {},
   "outputs": [],
   "source": [
    "students=[{\"name\":\"tom\",\"age\":20},{\"name\":\"lucy\",\"age\":19},{\"name\":\"lily\",\"age\":12},{\"name\":\"mark\",\"age\":21},{\"name\":\"jack\",\"age\":23},{\"name\":\"steven\",\"age\":18}]"
   ]
  },
  {
   "cell_type": "code",
   "execution_count": 8,
   "metadata": {},
   "outputs": [
    {
     "data": {
      "text/plain": [
       "[{'name': 'mark', 'age': 21}, {'name': 'jack', 'age': 23}]"
      ]
     },
     "execution_count": 8,
     "metadata": {},
     "output_type": "execute_result"
    }
   ],
   "source": [
    "f1=filter(lambda x: x[\"age\"]>20,students)\n",
    "list(f1)"
   ]
  },
  {
   "cell_type": "code",
   "execution_count": 9,
   "metadata": {},
   "outputs": [
    {
     "data": {
      "text/plain": [
       "[{'name': 'lily', 'age': 12},\n",
       " {'name': 'steven', 'age': 18},\n",
       " {'name': 'lucy', 'age': 19},\n",
       " {'name': 'tom', 'age': 20},\n",
       " {'name': 'mark', 'age': 21},\n",
       " {'name': 'jack', 'age': 23}]"
      ]
     },
     "execution_count": 9,
     "metadata": {},
     "output_type": "execute_result"
    }
   ],
   "source": [
    "sorted(students,key=lambda x:x[\"age\"])"
   ]
  },
  {
   "cell_type": "markdown",
   "metadata": {},
   "source": [
    "以上按年龄排序"
   ]
  },
  {
   "cell_type": "raw",
   "metadata": {},
   "source": [
    "max()\n",
    "min()\n",
    "sorted()  这三个跟Key配合\n",
    "\n",
    "map()\n",
    "reduce()\n",
    "filter()\n",
    "\n",
    "以上6个都用到lambda"
   ]
  },
  {
   "cell_type": "markdown",
   "metadata": {},
   "source": [
    "# 递归函数"
   ]
  },
  {
   "cell_type": "raw",
   "metadata": {},
   "source": [
    "普通：def func(): pass\n",
    "匿名函数：lambda 参数： 返回结果\n",
    "递归函数：普通函数的一种表现形式\n",
    "\n",
    "特点：\n",
    "1.递归函数必须设定终点\n",
    "2.通常都会有一个入口"
   ]
  },
  {
   "cell_type": "code",
   "execution_count": 10,
   "metadata": {},
   "outputs": [],
   "source": [
    "def sum(n):\n",
    "    if n==0:\n",
    "        return 0\n",
    "    else:\n",
    "        return n+sum(n-1)"
   ]
  },
  {
   "cell_type": "code",
   "execution_count": 11,
   "metadata": {},
   "outputs": [
    {
     "data": {
      "text/plain": [
       "55"
      ]
     },
     "execution_count": 11,
     "metadata": {},
     "output_type": "execute_result"
    }
   ],
   "source": [
    "sum(10)"
   ]
  },
  {
   "cell_type": "markdown",
   "metadata": {},
   "source": [
    "# 总结函数"
   ]
  },
  {
   "cell_type": "raw",
   "metadata": {},
   "source": [
    "普通函数：\n",
    "def 函数名（参数....）:\n",
    "    函数体\n",
    "    \n",
    "    \n",
    "1.如何定义函数\n",
    "2.如何调用函数\n",
    "\n",
    "参数：\n",
    "1.无参数：\n",
    "def func():\n",
    "    pass\n",
    "func()\n",
    "\n",
    "2.有参数：\n",
    "一般参数：\n",
    "def func(a,b):\n",
    "    pass\n",
    "func(1,2)\n",
    "\n",
    "可变参数：\n",
    "\n",
    "def func(*args,**kwargs):\n",
    "    pass\n",
    "func()\n",
    "\n",
    "func(1)\n",
    "\n",
    "func(a=10)\n",
    "\n",
    "\n",
    "默认值\n",
    "a=10,b=100\n",
    "\n",
    "\n",
    "关键字参数：\n",
    "func(b=99)\n",
    "\n",
    "返回值：return\n",
    "\n",
    "没有返回值\n",
    "def func():\n",
    "    print(\".......\")\n",
    "\n",
    "x=func()......>x=None\n",
    "\n",
    "\n",
    "有返回值：\n",
    "def func():\n",
    "    return\"a\"\n",
    "\n",
    "x=func().....>x=\"a\"\n",
    "\n",
    "嵌套函数.....>闭包......>装饰器\n",
    "\n",
    "def func():\n",
    "    def wrapper():\n",
    "        ......\n",
    "    return wrapper\n",
    "\n",
    "变量的作用域：LEGB\n",
    "\n",
    "\n",
    "装饰器：\n",
    "单层装饰器\n",
    "\n",
    "def decorate(func):\n",
    "    def wrapper(*args,**kwargs):\n",
    "        pass\n",
    "    return wrapper\n",
    "@decorate\n",
    "def house():\n",
    "    pass\n",
    "\n",
    "\n",
    "多层装饰器：\n",
    "\n",
    "@decorate2\n",
    "@decorate1\n",
    "def f1(a,b):\n",
    "    pass\n",
    "\n",
    "\n",
    "\n",
    "装饰器带参：\n",
    "\n",
    "def outter(a):\n",
    "    def decorate(func):\n",
    "        def wrapper(*args,**kwargs):\n",
    "            pass\n",
    "        return wrapper\n",
    "    return decorate\n",
    "\n",
    "@zhuang(10)\n",
    "\n",
    "def house():\n",
    "    pass\n",
    "\n",
    "匿名函数：lambda 参数：返回值\n",
    "\n",
    "递归函数：自己调用自己"
   ]
  },
  {
   "cell_type": "markdown",
   "metadata": {},
   "source": [
    "# 文件操作"
   ]
  },
  {
   "cell_type": "raw",
   "metadata": {},
   "source": [
    "文件操作：\n",
    "\n",
    "文件上传：\n",
    "保存log\n",
    "\n",
    "系统函数：\n",
    "open(file,mode,buffering,encodeing)\n",
    "\n",
    "open()\n",
    "\n",
    "\n",
    "\n",
    "mode: r w\n",
    "    rb  wb\n",
    "    \n",
    "    \n",
    "r: read 读\n",
    "w:write 写\n",
    "\n",
    "\n",
    "b:binary 二进制 字节  纯文本\n",
    "rb              图片\n",
    "read binary        音乐\n",
    "\n",
    "wb\n",
    " write binary      电影\n",
    " \n",
    " \n",
    " \n",
    " read: in 输入\n",
    " write： out 输出\n",
    " \n",
    " \n",
    " 文件上传：\n",
    " \n",
    " \n",
    " \n",
    " 读：\n",
    " open(path\\filemane,\"rt\")..........>返回值是：stream\n",
    " \n",
    " stream.read()...........>读取管道中的内容\n",
    " \n",
    " 注意：如果传递的path\\filename有误的话，则会报错：filenotfounderror\n",
    " \n",
    " stream.readable() 判断是否可读 True or False\n",
    " \n",
    " stream1.readline()表示只读取一行内容\n",
    " \n",
    " stream1.readlines()将内容保存在列表中\n",
    " \n",
    " \n",
    " 打印图片\n",
    " stream=open(r\"C:\\Users\\HUAWEI\\Desktop\\a\\aa.jpg\",\"rb\")\n",
    " \n",
    " 如果是图片则不能使用默认的读取方式，应该用rb\n",
    " \n",
    " \n",
    " \n",
    " \n",
    " \n",
    " open(文件名，模式)\n",
    " \n",
    " open(\"file\",\"w_\").........>写\n",
    " \n",
    " open(\"file\",\"r_\").........>读\n",
    " \n",
    " \n",
    " \n",
    " 写的特点：\n",
    " 方法：\n",
    " write(内容)  每次都会将里面的内容清空再写内容\n",
    " \n",
    " \n",
    " stream.write()\n",
    " \n",
    " stream.writelines()   没有换行的效果 可将列表的东西放进去\n",
    " \n",
    " \n",
    " \n",
    " 如果 mode=\"a\",表示追加，不会清空原来的\n",
    " "
   ]
  },
  {
   "cell_type": "code",
   "execution_count": 7,
   "metadata": {},
   "outputs": [
    {
     "data": {
      "text/plain": [
       "'hello world\\n\\n鍘讳綘濡堢殑'"
      ]
     },
     "execution_count": 7,
     "metadata": {},
     "output_type": "execute_result"
    }
   ],
   "source": [
    "stream=open(r\"C:\\Users\\HUAWEI\\Desktop\\a\\aa.txt\")\n",
    "stream.read()"
   ]
  },
  {
   "cell_type": "code",
   "execution_count": 6,
   "metadata": {},
   "outputs": [
    {
     "data": {
      "text/plain": [
       "True"
      ]
     },
     "execution_count": 6,
     "metadata": {},
     "output_type": "execute_result"
    }
   ],
   "source": [
    "stream.readable()"
   ]
  },
  {
   "cell_type": "code",
   "execution_count": 11,
   "metadata": {},
   "outputs": [
    {
     "name": "stdout",
     "output_type": "stream",
     "text": [
      "hello world\n",
      "\n",
      "\n",
      "\n",
      "鍘讳綘濡堢殑\n",
      "\n"
     ]
    }
   ],
   "source": [
    "stream1=open(r\"C:\\Users\\HUAWEI\\Desktop\\a\\aa.txt\")\n",
    "\n",
    "while True:\n",
    "    \n",
    "    line=stream1.readline()\n",
    "    print(line)\n",
    "    if not line:\n",
    "        break"
   ]
  },
  {
   "cell_type": "code",
   "execution_count": null,
   "metadata": {},
   "outputs": [],
   "source": []
  },
  {
   "cell_type": "code",
   "execution_count": 24,
   "metadata": {},
   "outputs": [],
   "source": [
    "stream3=open(r\"C:\\Users\\HUAWEI\\Desktop\\a\\aa.txt\",\"w\")"
   ]
  },
  {
   "cell_type": "code",
   "execution_count": 25,
   "metadata": {},
   "outputs": [],
   "source": [
    "s='''\n",
    "    你好！\n",
    "    欢迎来到天空之城！毒枭之心，我们定将全力款待您！\n",
    "    愿你福如东海，寿比南山！\n",
    "'''"
   ]
  },
  {
   "cell_type": "code",
   "execution_count": 26,
   "metadata": {},
   "outputs": [
    {
     "data": {
      "text/plain": [
       "55"
      ]
     },
     "execution_count": 26,
     "metadata": {},
     "output_type": "execute_result"
    }
   ],
   "source": [
    "stream3.write(s)"
   ]
  },
  {
   "cell_type": "code",
   "execution_count": 27,
   "metadata": {},
   "outputs": [
    {
     "data": {
      "text/plain": [
       "3"
      ]
     },
     "execution_count": 27,
     "metadata": {},
     "output_type": "execute_result"
    }
   ],
   "source": [
    "stream3.write(\"姜子牙\")"
   ]
  },
  {
   "cell_type": "code",
   "execution_count": 28,
   "metadata": {},
   "outputs": [],
   "source": [
    "stream3.close()"
   ]
  },
  {
   "cell_type": "code",
   "execution_count": 33,
   "metadata": {},
   "outputs": [],
   "source": [
    "stream4=open(r\"C:\\Users\\HUAWEI\\Desktop\\a\\aa.txt\",\"a\")"
   ]
  },
  {
   "cell_type": "code",
   "execution_count": 34,
   "metadata": {},
   "outputs": [],
   "source": [
    "s='''\n",
    "    你好！\n",
    "    欢迎来到天空之城！毒枭之心，我们定将全力款待您！\n",
    "    愿你福如东海，寿比南山！\n",
    "'''"
   ]
  },
  {
   "cell_type": "code",
   "execution_count": 35,
   "metadata": {},
   "outputs": [
    {
     "data": {
      "text/plain": [
       "55"
      ]
     },
     "execution_count": 35,
     "metadata": {},
     "output_type": "execute_result"
    }
   ],
   "source": [
    "stream4.write(s)"
   ]
  },
  {
   "cell_type": "markdown",
   "metadata": {},
   "source": [
    "# 文件的复制"
   ]
  },
  {
   "cell_type": "raw",
   "metadata": {},
   "source": [
    "with 结合open使用，可以帮助我们自动释放资源"
   ]
  },
  {
   "cell_type": "code",
   "execution_count": 36,
   "metadata": {},
   "outputs": [
    {
     "name": "stdout",
     "output_type": "stream",
     "text": [
      "文件复制完成！\n"
     ]
    }
   ],
   "source": [
    "with open(r\"C:\\Users\\HUAWEI\\Desktop\\芦栋杰+上传附件\\cd.jpg\",\"rb\") as stream5:\n",
    "    contianer=stream5.read()\n",
    "    \n",
    "    with open(r\"C:\\Users\\HUAWEI\\Desktop\\a\\b.jpg\",\"wb\") as wstream:\n",
    "        wstream.write(contianer)\n",
    "\n",
    "print(\"文件复制完成！\")\n",
    "\n"
   ]
  },
  {
   "cell_type": "code",
   "execution_count": null,
   "metadata": {},
   "outputs": [],
   "source": []
  }
 ],
 "metadata": {
  "kernelspec": {
   "display_name": "Python 3",
   "language": "python",
   "name": "python3"
  },
  "language_info": {
   "codemirror_mode": {
    "name": "ipython",
    "version": 3
   },
   "file_extension": ".py",
   "mimetype": "text/x-python",
   "name": "python",
   "nbconvert_exporter": "python",
   "pygments_lexer": "ipython3",
   "version": "3.7.6"
  }
 },
 "nbformat": 4,
 "nbformat_minor": 4
}
