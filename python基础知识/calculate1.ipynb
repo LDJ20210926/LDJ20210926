{
 "cells": [
  {
   "cell_type": "code",
   "execution_count": 2,
   "metadata": {},
   "outputs": [
    {
     "name": "stdout",
     "output_type": "stream",
     "text": [
      ".......>我是测试\n"
     ]
    }
   ],
   "source": [
    "number = 100\n",
    "\n",
    "name=\"王炸\"\n",
    "\n",
    "def add(*args):\n",
    "    if len(args)>1:\n",
    "        total=0\n",
    "        for i in args:\n",
    "            total+=i\n",
    "        return total\n",
    "    else:\n",
    "        print(\"至少传入两个函数！\")\n",
    "        \n",
    "def minus(*args):\n",
    "    if len(args)>1:\n",
    "        m=0\n",
    "        for i in args:\n",
    "            m-=i\n",
    "        return total\n",
    "    else:\n",
    "        print(\"至少传入两个函数！\")\n",
    "        \n",
    "        \n",
    "def multiply(*args):\n",
    "    if len(args)>1:\n",
    "        s=1\n",
    "        for i in args:\n",
    "            s*=i\n",
    "        return s\n",
    "    else:\n",
    "        print(\"至少传入两个参数！\")\n",
    "\n",
    "def divide(*args):\n",
    "    if len(args)>1:\n",
    "        try:\n",
    "            t=args[0]\n",
    "            i=1\n",
    "            while i<len(args):\n",
    "\n",
    "                t/=args[i]\n",
    "                i+=1\n",
    "            return t\n",
    "        \n",
    "        except ZeroDivisionError:\n",
    "            print(\"输入有误！\")\n",
    "        \n",
    "              \n",
    "    else:\n",
    "        print(\"至少传入两个参数！\")\n",
    "        \n",
    "        \n",
    "        \n",
    "class Person:\n",
    "    def __init__(self,num):\n",
    "        \n",
    "        self.num=num\n",
    "        \n",
    "    def test(self):\n",
    "        \n",
    "        print(\"正在使用Calculate进行运算....\")\n",
    "        \n",
    "        \n",
    "@classmethod\n",
    "def test1(cls):\n",
    "    print(\"..........>Calculate正在运行\")\n",
    "    \n",
    "    \n",
    "def test2():\n",
    "    print(\".......>我是测试\")\n",
    "    \n",
    "if __name__==\"__main__\":\n",
    "    test2()"
   ]
  },
  {
   "cell_type": "code",
   "execution_count": null,
   "metadata": {},
   "outputs": [],
   "source": []
  }
 ],
 "metadata": {
  "kernelspec": {
   "display_name": "Python 3",
   "language": "python",
   "name": "python3"
  },
  "language_info": {
   "codemirror_mode": {
    "name": "ipython",
    "version": 3
   },
   "file_extension": ".py",
   "mimetype": "text/x-python",
   "name": "python",
   "nbconvert_exporter": "python",
   "pygments_lexer": "ipython3",
   "version": "3.7.6"
  }
 },
 "nbformat": 4,
 "nbformat_minor": 4
}
