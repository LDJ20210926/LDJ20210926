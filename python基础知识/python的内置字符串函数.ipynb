{
 "cells": [
  {
   "cell_type": "raw",
   "metadata": {},
   "source": [
    "字符串的内建函数：声明一个字符串，默认可以调用内建函数\n",
    "第一部分：大小写相关的\n",
    "capitalize() title() upper() lower()\n",
    "capitalize() 将字符串的第一个字符串转成大写的表示形式\n",
    "title()返回“标准化”的字符串，就是说所有单词都是以大写开始，其余字母均为小写\n",
    "upper()将字符串全部转成大写的表示形式\n",
    "lower()将字符串全部转成小写的表示形式\n",
    "len()求字符串的长度，返回是一个整型的数值"
   ]
  },
  {
   "cell_type": "code",
   "execution_count": 2,
   "metadata": {},
   "outputs": [
    {
     "name": "stdout",
     "output_type": "stream",
     "text": [
      "Zhaorui is a beautiful girl!\n"
     ]
    }
   ],
   "source": [
    "message=\"zhaorui is a beautiful girl!\"\n",
    "msg=message.capitalize()\n",
    "print(msg)"
   ]
  },
  {
   "cell_type": "code",
   "execution_count": 3,
   "metadata": {},
   "outputs": [
    {
     "name": "stdout",
     "output_type": "stream",
     "text": [
      "Zhaorui Is A Beautiful Girl!\n"
     ]
    }
   ],
   "source": [
    "msg=message.title()\n",
    "print(msg)"
   ]
  },
  {
   "cell_type": "code",
   "execution_count": 4,
   "metadata": {},
   "outputs": [
    {
     "name": "stdout",
     "output_type": "stream",
     "text": [
      "True\n"
     ]
    }
   ],
   "source": [
    "result= msg.istitle()\n",
    "print(result)"
   ]
  },
  {
   "cell_type": "code",
   "execution_count": 5,
   "metadata": {},
   "outputs": [
    {
     "name": "stdout",
     "output_type": "stream",
     "text": [
      "False\n"
     ]
    }
   ],
   "source": [
    "result=message.istitle()\n",
    "print(result)"
   ]
  },
  {
   "cell_type": "code",
   "execution_count": 6,
   "metadata": {},
   "outputs": [
    {
     "name": "stdout",
     "output_type": "stream",
     "text": [
      "ZHAORUI IS A BEAUTIFUL GIRL!\n"
     ]
    }
   ],
   "source": [
    "msg=message.upper()\n",
    "print(msg)"
   ]
  },
  {
   "cell_type": "code",
   "execution_count": 7,
   "metadata": {},
   "outputs": [
    {
     "name": "stdout",
     "output_type": "stream",
     "text": [
      "zhaorui is a beautiful girl!\n"
     ]
    }
   ],
   "source": [
    "result=msg.lower()\n",
    "print(result)"
   ]
  },
  {
   "cell_type": "raw",
   "metadata": {},
   "source": [
    "案例;验证码案例\n",
    "四个随机数\n",
    "index:0~len(s)-1 0~61"
   ]
  },
  {
   "cell_type": "code",
   "execution_count": 21,
   "metadata": {},
   "outputs": [
    {
     "name": "stdout",
     "output_type": "stream",
     "text": [
      "验证码是 OSTn\n",
      "请输入验证码:ostn\n",
      "验证码输入正确!\n"
     ]
    }
   ],
   "source": [
    "s=\"QWERTYUIOPASDFGHJKLZXCVBNMqwertyuiopasdfghjklzxcvbnm\"\n",
    "code=\"\"\n",
    "import random\n",
    "for i in range(4):\n",
    "    ran=random.randint(0,len(s)-1)\n",
    "    code+=s[ran]\n",
    "print(\"验证码是 {}\".format(code))\n",
    "user_input=input(\"请输入验证码:\")\n",
    "if user_input.lower()==code.lower():\n",
    "    print(\"验证码输入正确!\")\n",
    "else:\n",
    "    print(\"验证码输入错误!\")"
   ]
  },
  {
   "cell_type": "raw",
   "metadata": {},
   "source": [
    "查找相关的，替换\n",
    "find() rfind() lfind() index() rindex() lindex() replace()\n",
    "find()这是找位置，如果返回是-1则表示没有找到；如果可以找到，则返回字母第一次出现的位置\n",
    "find(\"l\",position,len(s1))也可以指定开始寻找的位置\n",
    "find(\"要查找的字符\"，开始，结束)\n",
    "arguments 参数\n",
    "index() 跟find()方法一样，只不过如果str不在字符串中会报一个异常\n",
    "replace(old,new,[max])把将字符串中的str1替换成str2,如果max指定，则替换不超过max次"
   ]
  },
  {
   "cell_type": "code",
   "execution_count": 22,
   "metadata": {},
   "outputs": [
    {
     "name": "stdout",
     "output_type": "stream",
     "text": [
      "-1\n"
     ]
    }
   ],
   "source": [
    "s1=\"index lucy lucky goods\"\n",
    "ps=s1.find(\"R\")\n",
    "print(ps)"
   ]
  },
  {
   "cell_type": "code",
   "execution_count": 24,
   "metadata": {},
   "outputs": [
    {
     "name": "stdout",
     "output_type": "stream",
     "text": [
      "0\n"
     ]
    }
   ],
   "source": [
    "ps=s1.find(\"i\")\n",
    "print(ps)"
   ]
  },
  {
   "cell_type": "code",
   "execution_count": 32,
   "metadata": {},
   "outputs": [
    {
     "name": "stdout",
     "output_type": "stream",
     "text": [
      "18\n"
     ]
    }
   ],
   "source": [
    "ps=s1.find(\"o\",ps+2,len(s1)-2)\n",
    "print(ps)"
   ]
  },
  {
   "cell_type": "code",
   "execution_count": 33,
   "metadata": {},
   "outputs": [
    {
     "name": "stdout",
     "output_type": "stream",
     "text": [
      "25\n",
      "bd_logo1.png\n"
     ]
    }
   ],
   "source": [
    "url=\"https://www.baidu.com/img/bd_logo1.png\"\n",
    "p=url.rfind(\"/\")\n",
    "print(p)\n",
    "filename= url[p+1:]\n",
    "print(filename)"
   ]
  },
  {
   "cell_type": "code",
   "execution_count": 34,
   "metadata": {},
   "outputs": [
    {
     "name": "stdout",
     "output_type": "stream",
     "text": [
      "png\n"
     ]
    }
   ],
   "source": [
    "p=url.rfind(\".\")\n",
    "kz=url[p+1:]\n",
    "print(kz)"
   ]
  },
  {
   "cell_type": "code",
   "execution_count": 35,
   "metadata": {},
   "outputs": [
    {
     "data": {
      "text/plain": [
       "'index-lucy-lucky-goods'"
      ]
     },
     "execution_count": 35,
     "metadata": {},
     "output_type": "execute_result"
    }
   ],
   "source": [
    "s1.replace(\" \",\"-\")"
   ]
  },
  {
   "cell_type": "raw",
   "metadata": {},
   "source": [
    "字符串内建函数：encode decode\n",
    "编码用：\n",
    "gbk中文，gb2312 简体中文\n",
    "utf-8 python使用的"
   ]
  },
  {
   "cell_type": "code",
   "execution_count": 37,
   "metadata": {},
   "outputs": [
    {
     "name": "stdout",
     "output_type": "stream",
     "text": [
      "b'\\xe4\\xb8\\x8a\\xe8\\xaf\\xbe\\xe4\\xba\\x86\\xe5\\x95\\x8a\\xef\\xbc\\x8c\\xe8\\xae\\xa4\\xe7\\x9c\\x9f\\xe5\\x90\\xac\\xef\\xbc\\x81'\n"
     ]
    }
   ],
   "source": [
    "msg=\"上课了啊，认真听！\"\n",
    "result=msg.encode(\"utf-8\")\n",
    "print(result)"
   ]
  },
  {
   "cell_type": "code",
   "execution_count": 38,
   "metadata": {},
   "outputs": [
    {
     "name": "stdout",
     "output_type": "stream",
     "text": [
      "上课了啊，认真听！\n"
     ]
    }
   ],
   "source": [
    "m=result.decode(\"utf-8\")\n",
    "print(m)"
   ]
  },
  {
   "cell_type": "raw",
   "metadata": {},
   "source": [
    "startswith() endswith() 布尔类型\n",
    "判断是否是以XXX开头的，或者判断是以什么结尾的\n",
    "文件上传"
   ]
  },
  {
   "cell_type": "code",
   "execution_count": 40,
   "metadata": {},
   "outputs": [
    {
     "data": {
      "text/plain": [
       "False"
      ]
     },
     "execution_count": 40,
     "metadata": {},
     "output_type": "execute_result"
    }
   ],
   "source": [
    "fn=\"笔记.doc\"\n",
    "result=fn.endswith(\"txt\")\n",
    "result"
   ]
  },
  {
   "cell_type": "code",
   "execution_count": 41,
   "metadata": {},
   "outputs": [
    {
     "data": {
      "text/plain": [
       "True"
      ]
     },
     "execution_count": 41,
     "metadata": {},
     "output_type": "execute_result"
    }
   ],
   "source": [
    "s=\"hello\"\n",
    "s.startswith(\"h\")"
   ]
  },
  {
   "cell_type": "raw",
   "metadata": {},
   "source": [
    "文件上传功能\n",
    "分析：\n",
    "要上传的文件路径path...>文件名.....>通过文件名再判断是否是图片类型"
   ]
  },
  {
   "cell_type": "code",
   "execution_count": 44,
   "metadata": {},
   "outputs": [
    {
     "name": "stdout",
     "output_type": "stream",
     "text": [
      "请输入文件名:C:\\foo\\bar\\desk_deskground.jpg\n",
      "是图片允许上传！\n"
     ]
    }
   ],
   "source": [
    "path=input(\"请输入文件名:\")\n",
    "p=path.rfind(\"\\\\\")\n",
    "fn=path[p+1:]\n",
    "if fn.endswith(\"jpg\") or fn.endswith(\"png\") or fn.endswith(\"gif\"):\n",
    "    print(\"是图片允许上传！\")\n",
    "else:\n",
    "    print(\"不是图片格式，上传失败\")"
   ]
  },
  {
   "cell_type": "code",
   "execution_count": 8,
   "metadata": {},
   "outputs": [
    {
     "name": "stdout",
     "output_type": "stream",
     "text": [
      "请输入文件名:wuedb.org\n",
      "不是图片格式，上传失败\n",
      "请输入文件名:asjsjdj.jpg\n",
      "是图片允许上传！\n"
     ]
    }
   ],
   "source": [
    "while True:\n",
    "    path=input(\"请输入文件名:\")\n",
    "    p=path.rfind(\"\\\\\")\n",
    "    fn=path[p+1:]\n",
    "    if fn.endswith(\"jpg\") or fn.endswith(\"png\") or fn.endswith(\"txt\"):\n",
    "        print(\"是图片允许上传！\")\n",
    "        break\n",
    "    else:\n",
    "        print(\"不是图片格式或者文本格式，上传失败\")"
   ]
  },
  {
   "cell_type": "raw",
   "metadata": {},
   "source": [
    "不能用r\"\\\"这样子语法错误；\\后面必须有东西，不能没有东西"
   ]
  },
  {
   "cell_type": "raw",
   "metadata": {},
   "source": [
    "isalpha() 是否是字母 \n",
    "isdigit() 是否是数字(是字符串下面的) 与isnumeric()类似\n",
    "isspace()如果字符串中只包含空白，则返回True，否则返回False\n",
    "join()以指定字符串作为分隔符，将seq中所有的元素（的字符串表示）合并为一个新的字符串\n",
    "lstrip()去除字符串左侧空格\n",
    "rstrip()去掉字符串右侧空格\n",
    "strip()去掉所有空格\n",
    "split(分隔符,num)分割字符串,将分割后的字符串保存在列表中,num表示切几刀\n",
    "count()字符串中指定参数的个数"
   ]
  },
  {
   "cell_type": "code",
   "execution_count": 1,
   "metadata": {},
   "outputs": [
    {
     "data": {
      "text/plain": [
       "False"
      ]
     },
     "execution_count": 1,
     "metadata": {},
     "output_type": "execute_result"
    }
   ],
   "source": [
    "s=\"abcd6\"\n",
    "s.isalpha()"
   ]
  },
  {
   "cell_type": "code",
   "execution_count": 4,
   "metadata": {},
   "outputs": [
    {
     "data": {
      "text/plain": [
       "True"
      ]
     },
     "execution_count": 4,
     "metadata": {},
     "output_type": "execute_result"
    }
   ],
   "source": [
    "s=\"66889\"\n",
    "s.isdigit()"
   ]
  },
  {
   "cell_type": "code",
   "execution_count": 2,
   "metadata": {},
   "outputs": [
    {
     "name": "stdout",
     "output_type": "stream",
     "text": [
      "请输入数字:9\n",
      "请输入数字:9\n",
      "请输入数字:9\n",
      "sum= 27\n"
     ]
    }
   ],
   "source": [
    "sum=0\n",
    "for i in range(3):\n",
    "    num=input(\"请输入数字:\")\n",
    "    if num.isdigit():\n",
    "        num=int(num)\n",
    "        \n",
    "        sum+=num\n",
    "print(\"sum=\",sum)"
   ]
  },
  {
   "cell_type": "code",
   "execution_count": 1,
   "metadata": {},
   "outputs": [
    {
     "name": "stdout",
     "output_type": "stream",
     "text": [
      "请输入数字:L\n",
      "不是数字！\n",
      "请输入数字:1\n",
      "第1个数字累加成功！\n",
      "请输入数字:2\n",
      "第2个数字累加成功！\n",
      "请输入数字:L\n",
      "不是数字！\n",
      "请输入数字:3\n",
      "第3个数字累加成功！\n",
      "sum= 6\n"
     ]
    }
   ],
   "source": [
    "sum=0\n",
    "i=1\n",
    "while i<=3:\n",
    "    num=input(\"请输入数字:\")\n",
    "    \n",
    "    if num.isdigit():\n",
    "        num=int(num)\n",
    "        sum+=num\n",
    "        print(\"第{}个数字累加成功！\".format(i))\n",
    "        i+=1\n",
    "    else:\n",
    "        print(\"不是数字！\")\n",
    "print(\"sum=\",sum)"
   ]
  },
  {
   "cell_type": "code",
   "execution_count": 2,
   "metadata": {},
   "outputs": [
    {
     "data": {
      "text/plain": [
       "'a-b-c'"
      ]
     },
     "execution_count": 2,
     "metadata": {},
     "output_type": "execute_result"
    }
   ],
   "source": [
    "\"-\".join(\"abc\")"
   ]
  },
  {
   "cell_type": "code",
   "execution_count": 3,
   "metadata": {},
   "outputs": [
    {
     "data": {
      "text/plain": [
       "'asn892792'"
      ]
     },
     "execution_count": 3,
     "metadata": {},
     "output_type": "execute_result"
    }
   ],
   "source": [
    "list1=[\"a\",\"s\",\"n\",\"892792\"]\n",
    "\"\".join(list1)"
   ]
  },
  {
   "cell_type": "code",
   "execution_count": 4,
   "metadata": {},
   "outputs": [
    {
     "data": {
      "text/plain": [
       "'hello'"
      ]
     },
     "execution_count": 4,
     "metadata": {},
     "output_type": "execute_result"
    }
   ],
   "source": [
    "s=\"    hello    \"\n",
    "s.strip()"
   ]
  },
  {
   "cell_type": "code",
   "execution_count": 5,
   "metadata": {},
   "outputs": [
    {
     "data": {
      "text/plain": [
       "'hello    '"
      ]
     },
     "execution_count": 5,
     "metadata": {},
     "output_type": "execute_result"
    }
   ],
   "source": [
    "s.lstrip()"
   ]
  },
  {
   "cell_type": "code",
   "execution_count": 6,
   "metadata": {},
   "outputs": [
    {
     "data": {
      "text/plain": [
       "'    hello'"
      ]
     },
     "execution_count": 6,
     "metadata": {},
     "output_type": "execute_result"
    }
   ],
   "source": [
    "s.rstrip()"
   ]
  },
  {
   "cell_type": "code",
   "execution_count": 11,
   "metadata": {},
   "outputs": [
    {
     "data": {
      "text/plain": [
       "['hello', 'world', 'hello kitty']"
      ]
     },
     "execution_count": 11,
     "metadata": {},
     "output_type": "execute_result"
    }
   ],
   "source": [
    "s=\"hello world hello kitty\"\n",
    "s.split(\" \",2)"
   ]
  },
  {
   "cell_type": "code",
   "execution_count": 10,
   "metadata": {},
   "outputs": [
    {
     "data": {
      "text/plain": [
       "3"
      ]
     },
     "execution_count": 10,
     "metadata": {},
     "output_type": "execute_result"
    }
   ],
   "source": [
    "s.count(\" \")"
   ]
  },
  {
   "cell_type": "raw",
   "metadata": {},
   "source": [
    "输入两个字符串，从第一字符串中删除第二个字符串中所有的字符。\n",
    "例如，输入\"they are students\"和\"aeiou\"\n",
    "则删除之后的第一个字符串变成\"thy r stdnts\""
   ]
  },
  {
   "cell_type": "code",
   "execution_count": 12,
   "metadata": {},
   "outputs": [
    {
     "name": "stdout",
     "output_type": "stream",
     "text": [
      "请输入第一个字符串:they are students\n",
      "请输入第二个字符串:aeiou\n",
      "thy r stdnts\n"
     ]
    }
   ],
   "source": [
    "s1=input(\"请输入第一个字符串:\")\n",
    "s2=input(\"请输入第二个字符串:\")\n",
    "s3=\"\"\n",
    "for i in s1:\n",
    "    if i not in s2:\n",
    "        s3+=i\n",
    "print(s3)"
   ]
  },
  {
   "cell_type": "code",
   "execution_count": 13,
   "metadata": {},
   "outputs": [
    {
     "name": "stdout",
     "output_type": "stream",
     "text": [
      "thy r stdnts\n"
     ]
    }
   ],
   "source": [
    "for i in s2:\n",
    "    s1=s1.replace(i,\"\")\n",
    "print(s1)"
   ]
  },
  {
   "cell_type": "code",
   "execution_count": 17,
   "metadata": {},
   "outputs": [
    {
     "name": "stdout",
     "output_type": "stream",
     "text": [
      "请输入单词:Good\n",
      "不喜欢! 不是大写的\n"
     ]
    }
   ],
   "source": [
    "word= input(\"请输入单词:\")\n",
    "for i in range(len(word)):\n",
    "    if word[i]<\"A\" or word[i]>\"Z\":\n",
    "        print(\"不喜欢! 不是大写的\")\n",
    "        break\n",
    "    else:\n",
    "        if i<len(word)-1 and word[i]==word[i+1]:\n",
    "            print(\"不喜欢! 是叠词\")\n",
    "            break\n",
    "else:\n",
    "    print(\"喜欢!\")"
   ]
  },
  {
   "cell_type": "code",
   "execution_count": 2,
   "metadata": {},
   "outputs": [
    {
     "name": "stdout",
     "output_type": "stream",
     "text": [
      "请输入用户名:qqqqq\n",
      "请输入密码:qqqqq\n",
      "请输入邮箱:qqqqq\n",
      "请输入用户名:q\n",
      "请输入密码:q\n",
      "请输入邮箱:q\n",
      "qqqqq\tqqqqq\tqqqqq\n",
      "q\tq\tq\n",
      "\n"
     ]
    }
   ],
   "source": [
    "s=\"\"\n",
    "while True:\n",
    "    username=input(\"请输入用户名:\")\n",
    "    password=input(\"请输入密码:\")\n",
    "    email=input(\"请输入邮箱:\")\n",
    "    username=username[0:20]\n",
    "    password=password[0:20]\n",
    "    email=email[0:20]\n",
    "    \n",
    "    msg=\"{}\\t{}\\t{}\\n\".format(username,password,email)\n",
    "    s+=msg\n",
    "    if username==\"q\" or username==\"Q\" or password==\"q\" or password==\"Q\" or email==\"q\"or email==\"Q\":\n",
    "        break\n",
    "print(s)\n",
    "        "
   ]
  },
  {
   "cell_type": "code",
   "execution_count": null,
   "metadata": {},
   "outputs": [],
   "source": []
  }
 ],
 "metadata": {
  "kernelspec": {
   "display_name": "Python 3",
   "language": "python",
   "name": "python3"
  },
  "language_info": {
   "codemirror_mode": {
    "name": "ipython",
    "version": 3
   },
   "file_extension": ".py",
   "mimetype": "text/x-python",
   "name": "python",
   "nbconvert_exporter": "python",
   "pygments_lexer": "ipython3",
   "version": "3.7.6"
  }
 },
 "nbformat": 4,
 "nbformat_minor": 4
}
