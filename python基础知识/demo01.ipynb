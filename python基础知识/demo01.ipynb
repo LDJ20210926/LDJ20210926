{
 "cells": [
  {
   "cell_type": "code",
   "execution_count": 1,
   "metadata": {},
   "outputs": [
    {
     "name": "stdout",
     "output_type": "stream",
     "text": [
      "你好\n",
      "    欢迎来到中国！！！\n"
     ]
    }
   ],
   "source": [
    "print(\"你好\")\n",
    "print(\"    欢迎来到中国！！！\")"
   ]
  },
  {
   "cell_type": "code",
   "execution_count": 2,
   "metadata": {},
   "outputs": [
    {
     "name": "stdout",
     "output_type": "stream",
     "text": [
      "亲爱的XXX:\n",
      "\t请点击链接激活用户：激活用户\n"
     ]
    }
   ],
   "source": [
    "print(\"亲爱的XXX:\\n\"\"\\t请点击链接激活用户：激活用户\")"
   ]
  },
  {
   "cell_type": "markdown",
   "metadata": {},
   "source": [
    "\\n表示换行；\\t表示缩进4格"
   ]
  },
  {
   "cell_type": "code",
   "execution_count": 3,
   "metadata": {},
   "outputs": [
    {
     "name": "stdout",
     "output_type": "stream",
     "text": [
      "乔治说：'想玩'\n"
     ]
    }
   ],
   "source": [
    "print(\"乔治说：'想玩'\")"
   ]
  },
  {
   "cell_type": "code",
   "execution_count": 4,
   "metadata": {},
   "outputs": [
    {
     "name": "stdout",
     "output_type": "stream",
     "text": [
      "hello\\py\thon\n"
     ]
    }
   ],
   "source": [
    "print(\"hello\\py\\thon\")"
   ]
  },
  {
   "cell_type": "code",
   "execution_count": 5,
   "metadata": {},
   "outputs": [
    {
     "name": "stdout",
     "output_type": "stream",
     "text": [
      "hello\\py\\thon\n"
     ]
    }
   ],
   "source": [
    "print(\"hello\\py\\\\thon\")"
   ]
  },
  {
   "cell_type": "code",
   "execution_count": 6,
   "metadata": {},
   "outputs": [
    {
     "name": "stdout",
     "output_type": "stream",
     "text": [
      "hello\\py\\thon\n"
     ]
    }
   ],
   "source": [
    "print(r\"hello\\py\\thon\")"
   ]
  },
  {
   "cell_type": "markdown",
   "metadata": {},
   "source": [
    "r\"\"表示的原样输出字符串内容"
   ]
  },
  {
   "cell_type": "markdown",
   "metadata": {},
   "source": [
    "常量命名的时候一般用大写字母"
   ]
  },
  {
   "cell_type": "code",
   "execution_count": 7,
   "metadata": {},
   "outputs": [
    {
     "name": "stdout",
     "output_type": "stream",
     "text": [
      "[taobao]\n",
      "我的爱人\n",
      "你的爱人\n",
      "去你妈的\n"
     ]
    }
   ],
   "source": [
    "print('''[taobao]\n",
    "我的爱人\n",
    "你的爱人\n",
    "去你妈的''')"
   ]
  },
  {
   "cell_type": "markdown",
   "metadata": {},
   "source": [
    "三引号表示样式输出"
   ]
  },
  {
   "cell_type": "code",
   "execution_count": 8,
   "metadata": {},
   "outputs": [],
   "source": [
    "email_message='''\n",
    "亲爱的赵飞用户：\n",
    "    你注册的抖音用户还未激活，请点击下方的链接激活用户，\n",
    "    请点击：激活用户\n",
    "    激活后即可使用。\n",
    "    \n",
    " from: douyin team\n",
    "    data: 2020/06/06'''"
   ]
  },
  {
   "cell_type": "code",
   "execution_count": 9,
   "metadata": {},
   "outputs": [
    {
     "name": "stdout",
     "output_type": "stream",
     "text": [
      "\n",
      "亲爱的赵飞用户：\n",
      "    你注册的抖音用户还未激活，请点击下方的链接激活用户，\n",
      "    请点击：激活用户\n",
      "    激活后即可使用。\n",
      "    \n",
      " from: douyin team\n",
      "    data: 2020/06/06\n"
     ]
    }
   ],
   "source": [
    "print(email_message)"
   ]
  },
  {
   "cell_type": "markdown",
   "metadata": {},
   "source": [
    "三引号作用：\n",
    "1.保留格式的字符串使用\n",
    "2.作为注释使用"
   ]
  },
  {
   "cell_type": "markdown",
   "metadata": {},
   "source": [
    "#此仅为单行注释"
   ]
  },
  {
   "cell_type": "markdown",
   "metadata": {},
   "source": [
    "变量用+号拼接"
   ]
  },
  {
   "cell_type": "code",
   "execution_count": 10,
   "metadata": {},
   "outputs": [],
   "source": [
    "person=\"大僧\";\n",
    "address=\"上海浦东新区金融大厦\";\n",
    "phone=\"15868539886\";\n",
    "num=\"8\""
   ]
  },
  {
   "cell_type": "code",
   "execution_count": 11,
   "metadata": {},
   "outputs": [
    {
     "name": "stdout",
     "output_type": "stream",
     "text": [
      "订单的收件人是:大僧收货地址是:上海浦东新区金融大厦联系方式:15868539886\n"
     ]
    }
   ],
   "source": [
    "print(\"订单的收件人是:\"+person+\"收货地址是:\"+address+\"联系方式:\"+phone)"
   ]
  },
  {
   "cell_type": "code",
   "execution_count": 12,
   "metadata": {},
   "outputs": [
    {
     "name": "stdout",
     "output_type": "stream",
     "text": [
      "订单的收件人是:大僧,收货地址是:上海浦东新区金融大厦,联系方式:15868539886,序号8\n"
     ]
    }
   ],
   "source": [
    "print(\"订单的收件人是:%s,收货地址是:%s,联系方式:%s,序号%s\" %(person,address,phone,num))"
   ]
  },
  {
   "cell_type": "markdown",
   "metadata": {},
   "source": [
    "+拼接只能是字符串+字符串；而用%s占位，再用%()则可以混搭"
   ]
  },
  {
   "cell_type": "markdown",
   "metadata": {},
   "source": [
    "格式化输出：%s  %d %f"
   ]
  },
  {
   "cell_type": "code",
   "execution_count": 13,
   "metadata": {},
   "outputs": [],
   "source": [
    "age=18"
   ]
  },
  {
   "cell_type": "code",
   "execution_count": 14,
   "metadata": {},
   "outputs": [
    {
     "data": {
      "text/plain": [
       "'年龄是：18'"
      ]
     },
     "execution_count": 14,
     "metadata": {},
     "output_type": "execute_result"
    }
   ],
   "source": [
    "\"年龄是：%s\" % age"
   ]
  },
  {
   "cell_type": "markdown",
   "metadata": {},
   "source": [
    "str() 是内置函数，是强制将括号里的变量转变为str"
   ]
  },
  {
   "cell_type": "markdown",
   "metadata": {},
   "source": [
    "%s 是str的简写"
   ]
  },
  {
   "cell_type": "code",
   "execution_count": 15,
   "metadata": {},
   "outputs": [],
   "source": [
    "isMarry=False"
   ]
  },
  {
   "cell_type": "code",
   "execution_count": 16,
   "metadata": {},
   "outputs": [
    {
     "name": "stdout",
     "output_type": "stream",
     "text": [
      "结婚否？回答：False\n"
     ]
    }
   ],
   "source": [
    "print(\"结婚否？回答：%s\"% isMarry)"
   ]
  },
  {
   "cell_type": "markdown",
   "metadata": {},
   "source": [
    "%d 的意思为数字格式化"
   ]
  },
  {
   "cell_type": "code",
   "execution_count": 17,
   "metadata": {},
   "outputs": [
    {
     "name": "stdout",
     "output_type": "stream",
     "text": [
      "年龄是：18\n"
     ]
    }
   ],
   "source": [
    "print(\"年龄是：%d\" % age)"
   ]
  },
  {
   "cell_type": "code",
   "execution_count": 18,
   "metadata": {},
   "outputs": [],
   "source": [
    "salary=8899.35"
   ]
  },
  {
   "cell_type": "code",
   "execution_count": 19,
   "metadata": {},
   "outputs": [
    {
     "name": "stdout",
     "output_type": "stream",
     "text": [
      "我的薪水是：8899.4\n"
     ]
    }
   ],
   "source": [
    "print(\"我的薪水是：%.1f\" % salary)"
   ]
  },
  {
   "cell_type": "markdown",
   "metadata": {},
   "source": [
    "%.Xf X表示小数点后的位数，且符合四舍五入的原则"
   ]
  },
  {
   "cell_type": "code",
   "execution_count": 20,
   "metadata": {},
   "outputs": [
    {
     "name": "stdout",
     "output_type": "stream",
     "text": [
      "我的薪水是：8899.350\n"
     ]
    }
   ],
   "source": [
    "print(\"我的薪水是：%.3f\" % salary)"
   ]
  },
  {
   "cell_type": "markdown",
   "metadata": {},
   "source": [
    "练习"
   ]
  },
  {
   "cell_type": "markdown",
   "metadata": {},
   "source": [
    "约起来去楼上看电影，下订单：\n",
    "movie=“大侦探皮卡丘”\n",
    "ticket=45.9\n",
    "count=35\n",
    "格式：\n",
    "电影：XXX\n",
    "人数：XXX\n",
    "单价：XXX\n",
    "总票价：XXX（小数点后保留一位）"
   ]
  },
  {
   "cell_type": "code",
   "execution_count": 21,
   "metadata": {},
   "outputs": [],
   "source": [
    "movie=\"大侦探皮卡丘\";\n",
    "ticket=45.9;\n",
    "count=35;\n",
    "total=ticket*count"
   ]
  },
  {
   "cell_type": "code",
   "execution_count": 22,
   "metadata": {},
   "outputs": [
    {
     "name": "stdout",
     "output_type": "stream",
     "text": [
      "电影是:大侦探皮卡丘 \n",
      "人数是:35 \n",
      "单价是:45.9 \n",
      "总票价是:1606.5\n"
     ]
    }
   ],
   "source": [
    "print(\"电影是:%s \\n\" \"人数是:%d \\n\" \"单价是:%.1f \\n\" \"总票价是:%.1f\" %(movie,count,ticket,total))"
   ]
  },
  {
   "cell_type": "markdown",
   "metadata": {},
   "source": [
    "\\n换成三引号呀"
   ]
  },
  {
   "cell_type": "code",
   "execution_count": 23,
   "metadata": {},
   "outputs": [],
   "source": [
    "message='''\n",
    "电影是:%s\n",
    "人数是:%d\n",
    "单价是:%.1f\n",
    "总票价:%.1f'''%(movie,count,ticket,total)"
   ]
  },
  {
   "cell_type": "code",
   "execution_count": 24,
   "metadata": {},
   "outputs": [
    {
     "name": "stdout",
     "output_type": "stream",
     "text": [
      "\n",
      "电影是:大侦探皮卡丘\n",
      "人数是:35\n",
      "单价是:45.9\n",
      "总票价:1606.5\n"
     ]
    }
   ],
   "source": [
    "print(message)"
   ]
  },
  {
   "cell_type": "markdown",
   "metadata": {},
   "source": [
    "字符串的格式化输出\n",
    "方式：1.使用占位符\n",
    "2. format format是一个字符串中的函数 用“.”调用"
   ]
  },
  {
   "cell_type": "code",
   "execution_count": 25,
   "metadata": {},
   "outputs": [],
   "source": [
    "age=19;\n",
    "s=\"已经上\";\n",
    "message=\"乔治说：我今年{}岁了，{}幼儿园了\".format(age,s)"
   ]
  },
  {
   "cell_type": "code",
   "execution_count": 26,
   "metadata": {},
   "outputs": [
    {
     "name": "stdout",
     "output_type": "stream",
     "text": [
      "乔治说：我今年19岁了，已经上幼儿园了\n"
     ]
    }
   ],
   "source": [
    "print(message)"
   ]
  },
  {
   "cell_type": "raw",
   "metadata": {},
   "source": [
    "输入：input()\n",
    "raise 抛出或者扔出\n",
    "name= input（\"请输入名字：\"）阻塞式"
   ]
  },
  {
   "cell_type": "raw",
   "metadata": {},
   "source": [
    "练习：\n",
    "游戏：捕鱼达人\n",
    "输入参与游戏者用户名：\n",
    "输入密码：\n",
    "充值：500\n"
   ]
  },
  {
   "cell_type": "code",
   "execution_count": 27,
   "metadata": {},
   "outputs": [
    {
     "name": "stdout",
     "output_type": "stream",
     "text": [
      "输入参与游戏者用户名：张三\n",
      "输入密码：123456\n",
      "张三请充值才能加入游戏！\n",
      "请充值：100\n",
      "张三充值成功！当前游戏币是：100\n"
     ]
    }
   ],
   "source": [
    "username=input(\"输入参与游戏者用户名：\");\n",
    "password=input(\"输入密码：\");\n",
    "print(\"%s请充值才能加入游戏！\" % username);\n",
    "coins=input(\"请充值：\");\n",
    "coins=int(coins);\n",
    "print(\"%s充值成功！当前游戏币是：%d\" %(username,coins))"
   ]
  },
  {
   "cell_type": "raw",
   "metadata": {},
   "source": [
    "input输入的都是字符串"
   ]
  },
  {
   "cell_type": "raw",
   "metadata": {},
   "source": [
    "游戏：英雄联盟\n",
    "输入角色;XXX\n",
    "拥有的装备：XXX\n",
    "购买装备：XXX\n",
    "付款金额：XXX\n",
    "XXX拥有XXX装备，花了XXX钱"
   ]
  },
  {
   "cell_type": "code",
   "execution_count": 28,
   "metadata": {},
   "outputs": [
    {
     "name": "stdout",
     "output_type": "stream",
     "text": [
      "\n",
      "*************\n",
      "英雄联盟\n",
      "*************\n",
      "\n",
      "输入游戏角色：刘备\n",
      "输入当前拥有的装备：奶妈\n",
      "输入想购买装备：青铜剑\n",
      "输入付款金额：20\n",
      "刘备拥有青铜剑装备，花了20钱\n"
     ]
    }
   ],
   "source": [
    "print ('''\n",
    "*************\n",
    "英雄联盟\n",
    "*************\n",
    "''');\n",
    "role=input(\"输入游戏角色：\");\n",
    "equip=input(\"输入当前拥有的装备：\");\n",
    "upgrade_equip=input(\"输入想购买装备：\");\n",
    "pay=input(\"输入付款金额：\");\n",
    "equip=upgrade_equip;\n",
    "print(\"{}拥有{}装备，花了{}钱\".format(role,equip,pay))"
   ]
  },
  {
   "cell_type": "raw",
   "metadata": {},
   "source": [
    "operator 运算符：\n",
    "赋值运算符\n",
    "算术运算符\n",
    "关系运算符\n",
    "逻辑运算符\n",
    "位运算符\n",
    "1.赋值运算符\n",
    "= \n",
    "扩展后的赋值符号\n",
    "==判断是否一致\n",
    "+=5为原来的值加上5；当均为字符串则为连接符\n",
    "-=\n",
    "*=\n",
    "/=\n",
    "以上三个仅运用于数字上面\n",
    "** //\n",
    "**代表幂次方\n",
    "//代表取整\n",
    "%求余数"
   ]
  },
  {
   "cell_type": "raw",
   "metadata": {},
   "source": [
    "id()函数：表示变量的内存地址"
   ]
  },
  {
   "cell_type": "code",
   "execution_count": 29,
   "metadata": {},
   "outputs": [],
   "source": [
    "a=\"acb\";\n",
    "a+=\"ff\""
   ]
  },
  {
   "cell_type": "code",
   "execution_count": 30,
   "metadata": {},
   "outputs": [
    {
     "name": "stdout",
     "output_type": "stream",
     "text": [
      "acbff\n"
     ]
    }
   ],
   "source": [
    "print(a)"
   ]
  },
  {
   "cell_type": "code",
   "execution_count": 31,
   "metadata": {},
   "outputs": [],
   "source": [
    "a=9;\n",
    "b=7;\n",
    "out=a%b"
   ]
  },
  {
   "cell_type": "code",
   "execution_count": 32,
   "metadata": {},
   "outputs": [
    {
     "name": "stdout",
     "output_type": "stream",
     "text": [
      "2\n"
     ]
    }
   ],
   "source": [
    "print(out)"
   ]
  },
  {
   "cell_type": "code",
   "execution_count": 33,
   "metadata": {},
   "outputs": [
    {
     "name": "stdout",
     "output_type": "stream",
     "text": [
      "******************************\n",
      "\t 英雄联盟\n",
      "******************************\n"
     ]
    }
   ],
   "source": [
    "print(\"*\"*30);\n",
    "print(\"\\t 英雄联盟\");\n",
    "print(\"*\"*30)"
   ]
  },
  {
   "cell_type": "markdown",
   "metadata": {},
   "source": [
    "乘法可以进行字符串乘法"
   ]
  },
  {
   "cell_type": "raw",
   "metadata": {},
   "source": [
    "比较运算符：\n",
    "==\n",
    "!=\n",
    ">=\n",
    "<=\n",
    "\n",
    "输入两个数用input,字符串必须转换为数值；\n",
    "字符串可以用==进行比较\n",
    "\n",
    "is 用于对象的比较\n",
    "交互式下，小整数值可以复用，大于256就会开辟空间"
   ]
  },
  {
   "cell_type": "code",
   "execution_count": 34,
   "metadata": {},
   "outputs": [
    {
     "name": "stdout",
     "output_type": "stream",
     "text": [
      "请输入第一个数：1\n",
      "请输入第二个数：3\n",
      "n1>n2: False\n"
     ]
    }
   ],
   "source": [
    "n1=int(input(\"请输入第一个数：\"));\n",
    "n2=int(input(\"请输入第二个数：\"));\n",
    "result=n1>n2;\n",
    "print(\"n1>n2:\",result)"
   ]
  },
  {
   "cell_type": "code",
   "execution_count": 35,
   "metadata": {},
   "outputs": [
    {
     "name": "stdout",
     "output_type": "stream",
     "text": [
      "m1==m2 True\n"
     ]
    }
   ],
   "source": [
    "m1=\"hello\";\n",
    "m2=\"hello\";\n",
    "result=m1==m2;\n",
    "print(\"m1==m2\",result)"
   ]
  },
  {
   "cell_type": "code",
   "execution_count": 36,
   "metadata": {},
   "outputs": [
    {
     "name": "stdout",
     "output_type": "stream",
     "text": [
      "请输入用户名：小明\n",
      "用户名的验证结果 True\n"
     ]
    }
   ],
   "source": [
    "username=input(\"请输入用户名：\");\n",
    "uname=\"小明\";\n",
    "result=username==uname;\n",
    "print(\"用户名的验证结果\",result)"
   ]
  },
  {
   "cell_type": "code",
   "execution_count": 37,
   "metadata": {},
   "outputs": [
    {
     "name": "stdout",
     "output_type": "stream",
     "text": [
      "False\n"
     ]
    }
   ],
   "source": [
    "age=23;\n",
    "age1=24;\n",
    "print(age is age1)"
   ]
  },
  {
   "cell_type": "raw",
   "metadata": {},
   "source": [
    "and 逻辑与\n",
    "or 逻辑或\n",
    "not 逻辑非\n",
    "逻辑运算符的运算结果也是返回True Fasle"
   ]
  },
  {
   "cell_type": "code",
   "execution_count": 38,
   "metadata": {},
   "outputs": [
    {
     "data": {
      "text/plain": [
       "False"
      ]
     },
     "execution_count": 38,
     "metadata": {},
     "output_type": "execute_result"
    }
   ],
   "source": [
    "8>18 and 6<8"
   ]
  },
  {
   "cell_type": "code",
   "execution_count": 39,
   "metadata": {},
   "outputs": [
    {
     "data": {
      "text/plain": [
       "False"
      ]
     },
     "execution_count": 39,
     "metadata": {},
     "output_type": "execute_result"
    }
   ],
   "source": [
    "\"admin\"==\"admin123\" and \"123456\"==\"123456\""
   ]
  },
  {
   "cell_type": "code",
   "execution_count": 40,
   "metadata": {},
   "outputs": [],
   "source": [
    "n1=8;\n",
    "n2=5;\n",
    "n3=3"
   ]
  },
  {
   "cell_type": "code",
   "execution_count": 41,
   "metadata": {},
   "outputs": [
    {
     "data": {
      "text/plain": [
       "True"
      ]
     },
     "execution_count": 41,
     "metadata": {},
     "output_type": "execute_result"
    }
   ],
   "source": [
    "n1>=(n2+n3) and n1>n2"
   ]
  },
  {
   "cell_type": "code",
   "execution_count": 42,
   "metadata": {},
   "outputs": [],
   "source": [
    "username=\"xiaoming\";\n",
    "phone=\"15868539886\";\n",
    "mail=\"792318480@qq.com\""
   ]
  },
  {
   "cell_type": "code",
   "execution_count": 43,
   "metadata": {},
   "outputs": [
    {
     "data": {
      "text/plain": [
       "True"
      ]
     },
     "execution_count": 43,
     "metadata": {},
     "output_type": "execute_result"
    }
   ],
   "source": [
    "username==\"xiaoming\" or phone==\"15868539886\" or mail==\"1\""
   ]
  },
  {
   "cell_type": "code",
   "execution_count": 44,
   "metadata": {},
   "outputs": [
    {
     "name": "stdout",
     "output_type": "stream",
     "text": [
      "0b11\n"
     ]
    }
   ],
   "source": [
    "p1=3;\n",
    "print(bin(p1))"
   ]
  },
  {
   "cell_type": "raw",
   "metadata": {},
   "source": [
    "bin()函数表示十进制转化为二进制\n",
    "5的二进制为101；取反010，再加1，得011，即为-5的二进制表达式。\n",
    "1表示二进制位；字节byte 8个二进制位bit构成1个字节\n",
    "1kb=1024byte\n",
    "0b表示二进制\n",
    "0o表示八进制\n",
    "int()表示转换为十进制\n",
    "八进制转换为二进制则为每一个数的二进制进行拼接\n",
    "0x 表示十六进制，十六进制也是每个数进行二进制，但是是4个数拼接"
   ]
  },
  {
   "cell_type": "code",
   "execution_count": 45,
   "metadata": {},
   "outputs": [
    {
     "name": "stdout",
     "output_type": "stream",
     "text": [
      "0b1101\n"
     ]
    }
   ],
   "source": [
    "p1=13;\n",
    "print(bin(p1))"
   ]
  },
  {
   "cell_type": "code",
   "execution_count": 46,
   "metadata": {},
   "outputs": [
    {
     "name": "stdout",
     "output_type": "stream",
     "text": [
      "3352\n"
     ]
    }
   ],
   "source": [
    "p2=0o6430;\n",
    "print(int(p2))"
   ]
  },
  {
   "cell_type": "code",
   "execution_count": 47,
   "metadata": {},
   "outputs": [
    {
     "name": "stdout",
     "output_type": "stream",
     "text": [
      "0b101010101001000\n"
     ]
    }
   ],
   "source": [
    "p3=0o52510;\n",
    "print(bin(p3))"
   ]
  },
  {
   "cell_type": "code",
   "execution_count": 48,
   "metadata": {},
   "outputs": [
    {
     "name": "stdout",
     "output_type": "stream",
     "text": [
      "0b111100000110000100001100\n"
     ]
    }
   ],
   "source": [
    "p4=0xF0610C;\n",
    "print(bin(p4))"
   ]
  },
  {
   "cell_type": "raw",
   "metadata": {},
   "source": [
    "位运算：\n",
    "& 与\n",
    "| 或\n",
    "! 非\n",
    "^ 异或，两个数上下对齐，相同为0，不同为1\n",
    "<<\n",
    ">>\n",
    "1为真，0为假\n"
   ]
  },
  {
   "cell_type": "code",
   "execution_count": 49,
   "metadata": {},
   "outputs": [
    {
     "name": "stdout",
     "output_type": "stream",
     "text": [
      "2\n"
     ]
    }
   ],
   "source": [
    "print(3&2)"
   ]
  },
  {
   "cell_type": "code",
   "execution_count": 50,
   "metadata": {},
   "outputs": [
    {
     "name": "stdout",
     "output_type": "stream",
     "text": [
      "7\n"
     ]
    }
   ],
   "source": [
    "print(5|3)"
   ]
  },
  {
   "cell_type": "markdown",
   "metadata": {},
   "source": [
    "上述原理是先转换成二进制再进行位运算"
   ]
  },
  {
   "cell_type": "code",
   "execution_count": 51,
   "metadata": {},
   "outputs": [
    {
     "name": "stdout",
     "output_type": "stream",
     "text": [
      "-6\n"
     ]
    }
   ],
   "source": [
    "print(~5)"
   ]
  },
  {
   "cell_type": "markdown",
   "metadata": {},
   "source": [
    "先取反，看第一位，第一位是符号位，只要第一位是1就是负数，第一位是0的就是正数；二进制要减一，在转换为10进制"
   ]
  },
  {
   "cell_type": "code",
   "execution_count": 52,
   "metadata": {},
   "outputs": [
    {
     "name": "stdout",
     "output_type": "stream",
     "text": [
      "6\n"
     ]
    }
   ],
   "source": [
    "print(3^5)"
   ]
  },
  {
   "cell_type": "raw",
   "metadata": {},
   "source": [
    "3   0000 0011\n",
    "5   0000 0101\n",
    "运算\n",
    "   0000 0110\n",
    "   得6"
   ]
  },
  {
   "cell_type": "code",
   "execution_count": 53,
   "metadata": {},
   "outputs": [
    {
     "name": "stdout",
     "output_type": "stream",
     "text": [
      "4\n"
     ]
    }
   ],
   "source": [
    "print(2<<1)"
   ]
  },
  {
   "cell_type": "markdown",
   "metadata": {},
   "source": [
    "二进制为 0000 0010  左移一位得 0000 0100"
   ]
  },
  {
   "cell_type": "code",
   "execution_count": 54,
   "metadata": {},
   "outputs": [
    {
     "name": "stdout",
     "output_type": "stream",
     "text": [
      "1\n"
     ]
    }
   ],
   "source": [
    "print(2>>1)"
   ]
  },
  {
   "cell_type": "raw",
   "metadata": {},
   "source": [
    "二进制为0000 0010 右移一位得 0000 0001"
   ]
  },
  {
   "cell_type": "code",
   "execution_count": 55,
   "metadata": {},
   "outputs": [
    {
     "name": "stdout",
     "output_type": "stream",
     "text": [
      "64\n"
     ]
    }
   ],
   "source": [
    "print(16<<2)"
   ]
  },
  {
   "cell_type": "code",
   "execution_count": 56,
   "metadata": {},
   "outputs": [
    {
     "name": "stdout",
     "output_type": "stream",
     "text": [
      "4\n"
     ]
    }
   ],
   "source": [
    "print(16>>2)"
   ]
  },
  {
   "cell_type": "markdown",
   "metadata": {},
   "source": [
    "左移几位就是原来的十进制乘以2的几次幂，右移就是÷ 如果除不尽就是取整"
   ]
  },
  {
   "cell_type": "raw",
   "metadata": {},
   "source": [
    "三目运算符\n",
    "格式：表达式 ？ 真：假\n",
    "result=（8>10）？“真”：“假”\n",
    "print（result）\n",
    "\n",
    "python的格式：结果 if表达式 else 结果\n",
    "\n",
    "a=6\n",
    "b=5\n",
    "result=(a+b) if a>b else(b-a)\n",
    "判断表达式是true还是false\n",
    "如果是true  ，将if前面的内容进行运算，并将结果进行输出；\n",
    "如果是false，则将else后面的内容运算结果，并将结果赋值输出"
   ]
  },
  {
   "cell_type": "code",
   "execution_count": 57,
   "metadata": {},
   "outputs": [
    {
     "data": {
      "text/plain": [
       "11"
      ]
     },
     "execution_count": 57,
     "metadata": {},
     "output_type": "execute_result"
    }
   ],
   "source": [
    "a=6;\n",
    "b=5;\n",
    "(a+b) if a>b else (b-a)"
   ]
  },
  {
   "cell_type": "raw",
   "metadata": {},
   "source": [
    "语句：\n",
    "条件判断句\n",
    "for循环语句\n",
    "跳转语句\n",
    "\n",
    "条件语句：\n",
    "应用场景：\n",
    "1.用户名和密码登入\n",
    "2.登入验证\n",
    "\n",
    "if 条件成立执行的语句\n",
    "username=\"admin\"\n",
    "python:判断的变量是'' 0 none 默认是false\n",
    "python：如果变量值有‘abc’,认为是true\n",
    "if username:\n",
    "    print(\"嘿嘿！我登入啦！\")\n",
    "print(\"-----------------\")\n",
    "\n",
    "if num:\n",
    "    print(\"-----\")\n",
    "等效：\n",
    "if num!=0;\n",
    "    print(\"------\")"
   ]
  },
  {
   "cell_type": "code",
   "execution_count": 58,
   "metadata": {},
   "outputs": [],
   "source": [
    "num=0;\n",
    "if num:\n",
    "    print(\"success\")"
   ]
  },
  {
   "cell_type": "code",
   "execution_count": 59,
   "metadata": {},
   "outputs": [
    {
     "name": "stdout",
     "output_type": "stream",
     "text": [
      "success\n"
     ]
    }
   ],
   "source": [
    "num=1;\n",
    "if num:\n",
    "    print(\"success\")"
   ]
  },
  {
   "cell_type": "raw",
   "metadata": {},
   "source": [
    "如果年龄大于18，并且输入姓名，则打印xxxx今年xxxx岁"
   ]
  },
  {
   "cell_type": "code",
   "execution_count": 60,
   "metadata": {},
   "outputs": [
    {
     "name": "stdout",
     "output_type": "stream",
     "text": [
      "输入年龄：22\n",
      "输入用户名：小三\n",
      "小三今年22岁了\n",
      "---game over\n"
     ]
    }
   ],
   "source": [
    "age=int(input(\"输入年龄：\"));\n",
    "username=input(\"输入用户名：\");\n",
    "if age>18 and username!=0:\n",
    "    print(\"{}今年{}岁了\".format(username,age));\n",
    "print(\"---game over\")"
   ]
  },
  {
   "cell_type": "raw",
   "metadata": {},
   "source": [
    "if 判断的第二种使用方式：\n",
    "if 表达式：\n",
    "  条件成立\n",
    "else：\n",
    "  条件不成立执行的语句\n",
    "  \n",
    "  练习：\n",
    "  消消乐\n",
    "  1v1\n",
    "  1v2\n",
    "  1v1: 免费玩 随便玩\n",
    "  1v2: 充值 买道具 继续玩"
   ]
  },
  {
   "cell_type": "code",
   "execution_count": 61,
   "metadata": {},
   "outputs": [
    {
     "name": "stdout",
     "output_type": "stream",
     "text": [
      "*************** 欢迎来到消消乐 ***************\n",
      "请输入你的级别(1v1,1v2):1v2\n",
      "已进入付费级别，请充值继续玩\n",
      "请充值(必须是100的倍数)：101\n",
      "充值失败，无法继续，充值金额必须是100的倍数\n"
     ]
    }
   ],
   "source": [
    "print(\"*\"*15,\"欢迎来到消消乐\",\"*\"*15);\n",
    "level=input(\"请输入你的级别(1v1,1v2):\");\n",
    "if level==\"1v1\":\n",
    "    print(\"免费玩 随便玩\");\n",
    "else:\n",
    "    print(\"已进入付费级别，请充值继续玩\");\n",
    "    money=int(input(\"请充值(必须是100的倍数)：\"));\n",
    "    if money%100==0 and money>0:\n",
    "        print(\"充值金额是;\",money);\n",
    "        print(\"充值成功，请继续玩耍\");\n",
    "    else:\n",
    "        print(\"充值失败，无法继续，充值金额必须是100的倍数\")\n",
    "    "
   ]
  },
  {
   "cell_type": "raw",
   "metadata": {},
   "source": [
    "随机数：\n",
    "import random \n",
    "print(random.randint(1,10))\n",
    "步骤：\n",
    "1.系统产生一个随机数\n",
    "2.键盘输入一个数\n",
    "3.将系统产生的与键盘输入的进行比较\n",
    "4.猜对了，中大奖；猜错了 拜拜下次再来"
   ]
  },
  {
   "cell_type": "code",
   "execution_count": 62,
   "metadata": {},
   "outputs": [
    {
     "name": "stdout",
     "output_type": "stream",
     "text": [
      "请输入1-20之间的数字:12\n",
      "11\n",
      "猜错了，拜拜下次再来\n"
     ]
    }
   ],
   "source": [
    "import random;\n",
    "num=int(input(\"请输入1-20之间的数字:\"));\n",
    "ran=random.randint(1,20);\n",
    "print(ran)\n",
    "if ran==num:\n",
    "    print(\"恭喜您中了大奖\");\n",
    "else:\n",
    "    print(\"猜错了，拜拜下次再来\")"
   ]
  },
  {
   "cell_type": "raw",
   "metadata": {},
   "source": [
    "多层条件判断：\n",
    "if 100-90:\n",
    "   优+\n",
    "elif 90-85\n",
    "   优-\n",
    "elif 85-80\n",
    "   良\n",
    "elif 80-70\n",
    "   中\n",
    "elif 70-60\n",
    "   合格\n",
    "else\n",
    " 不合格\n",
    "   "
   ]
  },
  {
   "cell_type": "raw",
   "metadata": {},
   "source": [
    "for 变量名 in 集合：\n",
    "   语句\n",
    "应用场景：\n",
    "1.猜大小：反复猜\n",
    "2.消消乐：反复充值\n",
    "3.用户登入：登入多次\n",
    "怎么用：\n",
    "range()\n",
    "integer表示整型\n",
    "使用系统给定的range()完成范围指定\n",
    "print(range(8)),是表示0开始包含0，但不包含8\n",
    "打印3次\n",
    "for i in range(3)\n",
    "    print(\"hello\") 缩进\n",
    "步骤：\n",
    "1.range(3)\n",
    "0,1,2\n"
   ]
  },
  {
   "cell_type": "code",
   "execution_count": 63,
   "metadata": {},
   "outputs": [
    {
     "name": "stdout",
     "output_type": "stream",
     "text": [
      "赵飞很饿，正在吃第1个馒头\n",
      "赵飞很饿，正在吃第2个馒头\n",
      "赵飞很饿，正在吃第3个馒头\n",
      "赵飞很饿，正在吃第4个馒头\n",
      "赵飞很饿，正在吃第5个馒头\n",
      "赵飞说终于吃饱了\n"
     ]
    }
   ],
   "source": [
    "name=\"赵飞\";\n",
    "for i in range(5):\n",
    "    print(\"{}很饿，正在吃第{}个馒头\".format(name,i+1));\n",
    "print(\"{}说终于吃饱了\".format(name))"
   ]
  },
  {
   "cell_type": "code",
   "execution_count": 64,
   "metadata": {},
   "outputs": [
    {
     "name": "stdout",
     "output_type": "stream",
     "text": [
      "赵飞很饿，正在吃第1个馒头\n",
      "赵飞很饿，正在吃第2个馒头\n",
      "赵飞很饿，正在吃第3个馒头\n",
      "赵飞很饿，正在吃第4个馒头\n",
      "赵飞很饿，正在吃第5个馒头\n",
      "赵飞说终于吃饱了\n"
     ]
    }
   ],
   "source": [
    "name=\"赵飞\";\n",
    "for i in range(1,6):\n",
    "    print(\"{}很饿，正在吃第{}个馒头\".format(name,i));\n",
    "print(\"{}说终于吃饱了\".format(name))"
   ]
  },
  {
   "cell_type": "raw",
   "metadata": {},
   "source": [
    "吃馒头：在第三个馒头上抹了一点鹤顶红"
   ]
  },
  {
   "cell_type": "code",
   "execution_count": 65,
   "metadata": {},
   "outputs": [
    {
     "name": "stdout",
     "output_type": "stream",
     "text": [
      "赵飞很饿，正在吃第1个馒头\n",
      "赵飞很饿，正在吃第2个馒头\n",
      "赵飞赶紧扔掉这个馒头，有剧毒：'鹤顶红'！！！\n",
      "赵飞很饿，正在吃第4个馒头\n",
      "赵飞很饿，正在吃第5个馒头\n",
      "赵飞说终于吃饱了\n"
     ]
    }
   ],
   "source": [
    "name=\"赵飞\";\n",
    "for i in range(1,6):\n",
    "    if i==3:\n",
    "        print(\"{}赶紧扔掉这个馒头，有剧毒：'鹤顶红'！！！\".format(name));\n",
    "    else:\n",
    "         print(\"{}很饿，正在吃第{}个馒头\".format(name,i));\n",
    "print(\"{}说终于吃饱了\".format(name))"
   ]
  },
  {
   "cell_type": "raw",
   "metadata": {},
   "source": [
    "for......else...\n",
    "适用于for执行完或者没有循环数据时，需要做的事\n",
    "for i in 范围：\n",
    "    有数据执行的语句\n",
    "else;\n",
    "   没有数据执行的语句\n",
    "   \n",
    "pass 空语句\n",
    "只要有缩进，缩进的内容还不确定，可以用pass来占位置"
   ]
  },
  {
   "cell_type": "raw",
   "metadata": {},
   "source": [
    "用户的账号密码登入而且只能登入三次，如果三次未成功账户锁定\n",
    "break 关键字\n",
    "强制结束for 循环"
   ]
  },
  {
   "cell_type": "code",
   "execution_count": 66,
   "metadata": {},
   "outputs": [
    {
     "name": "stdout",
     "output_type": "stream",
     "text": [
      "请输入用户名:阿毛\n",
      "请输入密码:911\n",
      "很高兴，欢迎您：阿毛\n",
      "********** 轻松购物吧 **********\n"
     ]
    }
   ],
   "source": [
    "for i in range(3):\n",
    "    username=input(\"请输入用户名:\");\n",
    "    password=input(\"请输入密码:\");\n",
    "    if username==\"阿毛\"and password==\"911\":\n",
    "        print(\"很高兴，欢迎您：{}\".format(username));\n",
    "        print(\"*\"*10,\"轻松购物吧\",\"*\"*10);\n",
    "        break\n",
    "    else:\n",
    "        print(\"用户名或者密码错误\");\n",
    "else:\n",
    "    print(\"账户被锁定，需要重新激活\")\n",
    "  "
   ]
  },
  {
   "cell_type": "raw",
   "metadata": {},
   "source": [
    "range(start,end,step)"
   ]
  },
  {
   "cell_type": "code",
   "execution_count": 67,
   "metadata": {},
   "outputs": [
    {
     "name": "stdout",
     "output_type": "stream",
     "text": [
      "gun\n"
     ]
    }
   ],
   "source": [
    "i=0;\n",
    "while i<=10:\n",
    "    print(\"gun\");\n",
    "    break"
   ]
  },
  {
   "cell_type": "raw",
   "metadata": {},
   "source": [
    "while 的用法；\n",
    "条件成立，一直循环；如果条件不成立，结束循环"
   ]
  },
  {
   "cell_type": "markdown",
   "metadata": {},
   "source": [
    "打印1-30之间的所有3的倍数"
   ]
  },
  {
   "cell_type": "code",
   "execution_count": 68,
   "metadata": {},
   "outputs": [
    {
     "name": "stdout",
     "output_type": "stream",
     "text": [
      "能被三整除的数; 3\n",
      "能被三整除的数; 6\n",
      "能被三整除的数; 9\n",
      "能被三整除的数; 12\n",
      "能被三整除的数; 15\n",
      "能被三整除的数; 18\n",
      "能被三整除的数; 21\n",
      "能被三整除的数; 24\n",
      "能被三整除的数; 27\n",
      "能被三整除的数; 30\n"
     ]
    }
   ],
   "source": [
    "n=1;\n",
    "while n<=30:\n",
    "    if n%3==0:\n",
    "        print(\"能被三整除的数;\",n);\n",
    "    n+=1"
   ]
  },
  {
   "cell_type": "code",
   "execution_count": 69,
   "metadata": {},
   "outputs": [
    {
     "name": "stdout",
     "output_type": "stream",
     "text": [
      "幸运数: 15\n",
      "幸运数: 30\n",
      "幸运数: 45\n"
     ]
    }
   ],
   "source": [
    "n=1;\n",
    "while n<=45:\n",
    "    if n%3==0 and n%5==0:\n",
    "        print(\"幸运数:\",n);\n",
    "    n+=1"
   ]
  },
  {
   "cell_type": "code",
   "execution_count": 70,
   "metadata": {},
   "outputs": [
    {
     "name": "stdout",
     "output_type": "stream",
     "text": [
      "465\n"
     ]
    }
   ],
   "source": [
    "sum=0;\n",
    "i=1;\n",
    "while i<=30:\n",
    "    sum+=i\n",
    "    i+=1\n",
    "print(sum)"
   ]
  },
  {
   "cell_type": "raw",
   "metadata": {},
   "source": [
    "打印三角形\n",
    "分析;\n",
    "1.层数明确\n",
    "2.发现规律，层数与个数的关系\n",
    "3.用什么表示层，用什么表示*的个数"
   ]
  },
  {
   "cell_type": "code",
   "execution_count": 71,
   "metadata": {},
   "outputs": [
    {
     "name": "stdout",
     "output_type": "stream",
     "text": [
      "*\n",
      "**\n",
      "***\n",
      "****\n",
      "*****\n"
     ]
    }
   ],
   "source": [
    "ceng=1;\n",
    "while ceng<=5:\n",
    "    print(\"*\"*ceng)\n",
    "    ceng+=1"
   ]
  },
  {
   "cell_type": "code",
   "execution_count": 72,
   "metadata": {},
   "outputs": [
    {
     "name": "stdout",
     "output_type": "stream",
     "text": [
      "*\n",
      "**\n",
      "***\n",
      "****\n",
      "*****\n"
     ]
    }
   ],
   "source": [
    "ceng=1\n",
    "while ceng<=5:\n",
    "    count=1\n",
    "    while count<=ceng:\n",
    "        print(\"*\",end=\"\")\n",
    "        count+=1\n",
    "    ceng+=1\n",
    "    print()"
   ]
  },
  {
   "cell_type": "raw",
   "metadata": {},
   "source": [
    "99乘法口诀表打印"
   ]
  },
  {
   "cell_type": "code",
   "execution_count": 73,
   "metadata": {},
   "outputs": [
    {
     "name": "stdout",
     "output_type": "stream",
     "text": [
      "1*1=1 \n",
      "1*2=2 2*2=4 \n",
      "1*3=3 2*3=6 3*3=9 \n",
      "1*4=4 2*4=8 3*4=12 4*4=16 \n",
      "1*5=5 2*5=10 3*5=15 4*5=20 5*5=25 \n",
      "1*6=6 2*6=12 3*6=18 4*6=24 5*6=30 6*6=36 \n",
      "1*7=7 2*7=14 3*7=21 4*7=28 5*7=35 6*7=42 7*7=49 \n",
      "1*8=8 2*8=16 3*8=24 4*8=32 5*8=40 6*8=48 7*8=56 8*8=64 \n",
      "1*9=9 2*9=18 3*9=27 4*9=36 5*9=45 6*9=54 7*9=63 8*9=72 9*9=81 \n"
     ]
    }
   ],
   "source": [
    "ceng=1\n",
    "while ceng<=9:\n",
    "    count=1\n",
    "    while count<=ceng:\n",
    "        print(\"{}*{}={} \".format(count,ceng,count*ceng),end=\"\")\n",
    "        count+=1\n",
    "    ceng+=1\n",
    "    print()"
   ]
  },
  {
   "cell_type": "raw",
   "metadata": {},
   "source": [
    "掷色子\n",
    "1.欢迎进入XXX游戏\n",
    "2.输入用户名，默认用户没有游戏币\n",
    "3.提示用户充值游戏币（100块钱30个币，充值必须是100的倍数，充值不成功可以再次充值）\n",
    "4.玩一局游戏扣除2个币，猜大小（系统用随机数模拟掷色子的值）\n",
    "5.只要猜对了奖励一个币，可以继续玩（想不想继续玩，也可以没有金币自动退出）"
   ]
  },
  {
   "cell_type": "code",
   "execution_count": null,
   "metadata": {},
   "outputs": [],
   "source": []
  },
  {
   "cell_type": "code",
   "execution_count": null,
   "metadata": {},
   "outputs": [],
   "source": []
  }
 ],
 "metadata": {
  "kernelspec": {
   "display_name": "Python 3",
   "language": "python",
   "name": "python3"
  },
  "language_info": {
   "codemirror_mode": {
    "name": "ipython",
    "version": 3
   },
   "file_extension": ".py",
   "mimetype": "text/x-python",
   "name": "python",
   "nbconvert_exporter": "python",
   "pygments_lexer": "ipython3",
   "version": "3.7.6"
  }
 },
 "nbformat": 4,
 "nbformat_minor": 4
}
