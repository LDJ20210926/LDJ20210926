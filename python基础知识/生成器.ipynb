{
 "cells": [
  {
   "cell_type": "raw",
   "metadata": {},
   "source": [
    "得到生成器方式：\n",
    "1.通过列表推导式得到生成器\n",
    "2.借助函数完成.......>只要函数中出现了yield关键字，说明函数就不是函数，变成生成器了\n",
    "\n",
    "\n",
    "\n",
    "得到生成器\n",
    "g=(x*3 for x in range(20))........>generator,外围为小括号\n",
    "\n",
    "\n",
    "\n",
    "\n",
    "\n",
    "函数生成器：\n",
    "步骤：\n",
    "1.定义一个函数，函数中使用yeild关键字\n",
    "2.调用函数，接收调用的结果\n",
    "3.得到的结果就是生成器\n",
    "4.借助于next()得到元素\n",
    "\n",
    "\n",
    "\n",
    "\n",
    "\n",
    "\n",
    "生成东西\n",
    "1.print(g.__next__())\n",
    "2. print(next(g)).........>每调用一次next则会产生一个元素 超出范围，无法继续迭代，报异常\n",
    "3.\n",
    "g.send(None)\n",
    "g.send(\"haha\")\n",
    "\n",
    "send(value) 向每次生成器调用中传值，注意：第一次调用send(None)\n",
    "\n"
   ]
  },
  {
   "cell_type": "code",
   "execution_count": 1,
   "metadata": {},
   "outputs": [
    {
     "name": "stdout",
     "output_type": "stream",
     "text": [
      "0\n"
     ]
    }
   ],
   "source": [
    "g=(x*3 for x in range(20))\n",
    "print(g.__next__())"
   ]
  },
  {
   "cell_type": "code",
   "execution_count": 2,
   "metadata": {},
   "outputs": [
    {
     "name": "stdout",
     "output_type": "stream",
     "text": [
      "3\n"
     ]
    }
   ],
   "source": [
    "print(g.__next__())"
   ]
  },
  {
   "cell_type": "code",
   "execution_count": 3,
   "metadata": {},
   "outputs": [
    {
     "name": "stdout",
     "output_type": "stream",
     "text": [
      "6\n"
     ]
    }
   ],
   "source": [
    "print(next(g))"
   ]
  },
  {
   "cell_type": "code",
   "execution_count": 6,
   "metadata": {},
   "outputs": [
    {
     "name": "stdout",
     "output_type": "stream",
     "text": [
      "0\n",
      "3\n",
      "6\n",
      "9\n",
      "12\n",
      "15\n",
      "18\n",
      "21\n",
      "24\n",
      "27\n",
      "元素产生完毕！\n"
     ]
    }
   ],
   "source": [
    "g=(x*3 for x in range(10))\n",
    "\n",
    "while True:\n",
    "    try:\n",
    "        e=next(g)\n",
    "        print(e)\n",
    "    except:\n",
    "        print(\"元素产生完毕！\")\n",
    "        break"
   ]
  },
  {
   "cell_type": "raw",
   "metadata": {},
   "source": [
    "def fib(length):\n",
    "    a,b=0,1\n",
    "    n=0\n",
    "    \n",
    "    while n<length:\n",
    "        print(b)\n",
    "        yield b\n",
    "        a,b=b,a+b\n",
    "        n+=1\n",
    "        \n",
    "    return \"没有更多元素了！\"............>即为此之后的StopIteration: 没有更多元素了！\n",
    "        \n",
    "g=fib(8)\n",
    "\n",
    "\n",
    "next(g)\n",
    "next(g)\n",
    "next(g)\n",
    "next(g)\n",
    "next(g)\n",
    "next(g)\n",
    "next(g)\n",
    "next(g)\n",
    "next(g)\n"
   ]
  },
  {
   "cell_type": "code",
   "execution_count": 26,
   "metadata": {},
   "outputs": [
    {
     "name": "stdout",
     "output_type": "stream",
     "text": [
      "temp: 1\n",
      ".........> 0\n",
      "*******************\n"
     ]
    },
    {
     "data": {
      "text/plain": [
       "1"
      ]
     },
     "execution_count": 26,
     "metadata": {},
     "output_type": "execute_result"
    }
   ],
   "source": [
    "def gen():\n",
    "    i=0\n",
    "    while i<5:\n",
    "        temp=yield i\n",
    "        print(\"temp:\",temp)\n",
    "        for x in range(temp):\n",
    "            print(\".........>\",x)\n",
    "        \n",
    "        print(\"*******************\")\n",
    "        \n",
    "        i+=1\n",
    "    \n",
    "    return \"没有更多的数据！\"\n",
    "\n",
    "g=gen()\n",
    "\n",
    "g.send(None)\n",
    "g.send(1)"
   ]
  },
  {
   "cell_type": "markdown",
   "metadata": {},
   "source": [
    "# 生成器的应用"
   ]
  },
  {
   "cell_type": "raw",
   "metadata": {},
   "source": [
    "进程>线程>协程"
   ]
  },
  {
   "cell_type": "code",
   "execution_count": null,
   "metadata": {},
   "outputs": [],
   "source": [
    "def task1(n):\n",
    "    for i in range(1,n):\n",
    "        print(\"搬第{}次砖\".format(i))\n",
    "        yield None\n",
    "    \n",
    "    \n",
    "def task2(n):\n",
    "    for i in range(1,n):\n",
    "        print(\"听第{}次歌\".format(i))\n",
    "        yield None\n",
    "    \n",
    "    \n",
    "p=task1(5)\n",
    "q=task2(5)\n",
    "\n",
    "\n",
    "\n",
    "while True:\n",
    "    try:\n",
    "        p.__next__()\n",
    "        q.__next__()\n",
    "    except:\n",
    "        pass\n",
    "    \n",
    "        "
   ]
  },
  {
   "cell_type": "markdown",
   "metadata": {},
   "source": [
    "如何判断一个对象是否可迭代"
   ]
  },
  {
   "cell_type": "code",
   "execution_count": 3,
   "metadata": {},
   "outputs": [],
   "source": [
    "\n",
    "\n",
    "list1=[1,4,7,8,6]\n",
    "f=isinstance(list1,Iterable)"
   ]
  },
  {
   "cell_type": "code",
   "execution_count": 4,
   "metadata": {},
   "outputs": [
    {
     "data": {
      "text/plain": [
       "True"
      ]
     },
     "execution_count": 4,
     "metadata": {},
     "output_type": "execute_result"
    }
   ],
   "source": [
    "f"
   ]
  },
  {
   "cell_type": "raw",
   "metadata": {},
   "source": [
    "可以被next()函数调用并不断返回下一个值的对象称之为迭代器：Iterator\n",
    "\n",
    "生成器是可迭代的，也是迭代器\n",
    "\n",
    "list是可迭代的，但不是迭代器\n",
    "\n",
    "\n",
    "list1=iter(list) 通过iter()函数将可迭代的变成了一个迭代器"
   ]
  },
  {
   "cell_type": "markdown",
   "metadata": {},
   "source": [
    "# 面向对象"
   ]
  },
  {
   "cell_type": "raw",
   "metadata": {},
   "source": [
    "面向对象\n",
    "程序         现实中\n",
    "对象..............>具体事物\n",
    "\n",
    "现实中事物..............>转成电脑程序\n",
    "世间万物皆对象\n",
    "\n",
    "\n",
    "好处：\n",
    "\n",
    "\n",
    "面向对象：\n",
    "   类\n",
    "   对象\n",
    "   属性\n",
    "   方法\n",
    "   \n",
    "   \n",
    "对象：\n",
    "  \n",
    "  \n",
    "  \n",
    "  多个对象.....>提取对象的共同特征和动作.....>封装到一个类中\n",
    "  \n",
    "  \n",
    "\n",
    "所有类名要求首字母大写，多个单词使用驼峰式命名\n",
    "\n",
    "class 类名():\n",
    "   属性： 特质\n",
    "   方法：动作\n",
    "  \n",
    " \n",
    " \n",
    " \n",
    " \n",
    " 下面是定义类： \n",
    " class Phone:\n",
    "  brand=\"huawei\"\n",
    "  \n",
    "  \n",
    "\n",
    "\n",
    "下面是创建对象  \n",
    "yp=Phone().......>yp.brand.....>会出现huawei 要改的话：yp.brand=\"apple\"\n",
    "feifei=Phone()...........>表示创建空间，空间跟模子一致\n",
    "\n",
    "\n",
    "\n",
    "先在自己空间中找，自己空间中没有就去模子里面找"
   ]
  },
  {
   "cell_type": "markdown",
   "metadata": {},
   "source": [
    "# 类中的方法"
   ]
  },
  {
   "cell_type": "code",
   "execution_count": 5,
   "metadata": {},
   "outputs": [],
   "source": [
    "class Phone:\n",
    "    brand=\"apple\"\n",
    "    price=6999\n",
    "    type=\"iphone 11\"\n",
    "    \n",
    "phone1=Phone()"
   ]
  },
  {
   "cell_type": "raw",
   "metadata": {},
   "source": [
    "种类： 普通方法  类方法  静态方法  魔术方法\n",
    "\n",
    "\n",
    "\n",
    "\n",
    "普通方法格式：\n",
    "def 方法名(self(参数，参数))：\n",
    "   pass\n",
    "   "
   ]
  },
  {
   "cell_type": "code",
   "execution_count": 9,
   "metadata": {},
   "outputs": [
    {
     "data": {
      "text/plain": [
       "6999"
      ]
     },
     "execution_count": 9,
     "metadata": {},
     "output_type": "execute_result"
    }
   ],
   "source": [
    "phone1.brand\n",
    "phone1.price"
   ]
  },
  {
   "cell_type": "code",
   "execution_count": 14,
   "metadata": {},
   "outputs": [],
   "source": [
    "class Phone:\n",
    "    brand=\"apple\"\n",
    "    price=6999\n",
    "    type=\"iphone 11\"\n",
    "    \n",
    "    def call(self):\n",
    "        print(\"正在访问通讯录:\")\n",
    "        for person in self.address_book:\n",
    "            print(person.items())\n",
    "        print(\"正在打电话......\")\n",
    "        print(\"留言：\",self.note)\n",
    "        \n",
    "phone2=Phone()\n",
    "phone2.note=\"我是phone2的note\"\n",
    "phone2.address_book=[{\"15168539999\":\"张恒\"},{\"15237849866\":\"于涛\"}]"
   ]
  },
  {
   "cell_type": "code",
   "execution_count": 15,
   "metadata": {},
   "outputs": [
    {
     "name": "stdout",
     "output_type": "stream",
     "text": [
      "正在访问通讯录:\n",
      "dict_items([('15168539999', '张恒')])\n",
      "dict_items([('15237849866', '于涛')])\n",
      "正在打电话......\n",
      "留言： 我是phone2的note\n"
     ]
    }
   ],
   "source": [
    "phone2.call()"
   ]
  },
  {
   "cell_type": "raw",
   "metadata": {},
   "source": [
    "def __init__(self): init表示初始化\n",
    "\n",
    "其下面的\n",
    "        self.brand=\"apple\"\n",
    "        self.price=5999\n",
    "        \n",
    "保证了每一个对象中都存在brand price "
   ]
  },
  {
   "cell_type": "code",
   "execution_count": 23,
   "metadata": {},
   "outputs": [],
   "source": [
    "class Dance:\n",
    "    def __init__(self):\n",
    "        self.brand=\"apple\"\n",
    "        self.price=5999\n",
    "        \n",
    "        \n",
    "    def call(self):\n",
    "        print(\"品牌：\",self.brand)\n",
    "        print(\"价格：\",self.price)\n",
    "        \n",
    "        \n",
    "        \n",
    "p=Dance()\n",
    "\n",
    "p1=Dance()"
   ]
  },
  {
   "cell_type": "code",
   "execution_count": 24,
   "metadata": {},
   "outputs": [
    {
     "name": "stdout",
     "output_type": "stream",
     "text": [
      "品牌： apple\n",
      "价格： 5999\n",
      "品牌： apple\n",
      "价格： 5999\n"
     ]
    }
   ],
   "source": [
    "p.call()\n",
    "p1.call()"
   ]
  },
  {
   "cell_type": "code",
   "execution_count": 1,
   "metadata": {},
   "outputs": [
    {
     "name": "stdout",
     "output_type": "stream",
     "text": [
      "luly正在吃红烧肉！......\n",
      "luly,今年39岁，正在跑部\n",
      "lili正在吃香蕉！......\n",
      "lili,今年15岁，正在跑部\n"
     ]
    }
   ],
   "source": [
    "class Person:\n",
    "    \n",
    "    def __init__(self,name,age):\n",
    "        self.name=name\n",
    "        self.age=age\n",
    "        \n",
    "    def eat(self,food):\n",
    "        print(\"{}正在吃{}！......\".format(self.name,food))\n",
    "        \n",
    "    def run(self):\n",
    "        print(\"{},今年{}岁，正在跑部\".format(self.name,self.age))\n",
    "        \n",
    "        \n",
    "        \n",
    "        \n",
    "p=Person(\"luly\",39)\n",
    "p.eat(\"红烧肉\")\n",
    "p.run()\n",
    "\n",
    "\n",
    "p1=Person(\"lili\",15)\n",
    "p1.eat(\"香蕉\")\n",
    "p1.run()"
   ]
  },
  {
   "cell_type": "markdown",
   "metadata": {},
   "source": [
    "# 面向对象之应用"
   ]
  },
  {
   "cell_type": "code",
   "execution_count": 5,
   "metadata": {},
   "outputs": [
    {
     "name": "stdout",
     "output_type": "stream",
     "text": [
      "青青喜欢吃fish\n",
      "青青,抓了一只1kg的，black的大老鼠！\n",
      "乖乖，继续睡觉吧！\n",
      "猫的详细信息：\n",
      "青青 2 白色\n"
     ]
    }
   ],
   "source": [
    "class Cat:\n",
    "    type=\"猫\"\n",
    "    \n",
    "    \n",
    "    def __init__(self,nickname,age,color):\n",
    "        \n",
    "        self.nickname=nickname\n",
    "        self.age=age\n",
    "        self.color=color\n",
    "        \n",
    "        \n",
    "    def eat(self,food):\n",
    "        print(\"{}喜欢吃{}\".format(self.nickname,food))\n",
    "        \n",
    "    def catch_mouse(self,color,weight):\n",
    "        print(\"{},抓了一只{}kg的，{}的大老鼠！\".format(self.nickname,weight,color))\n",
    "        \n",
    "        \n",
    "    def sleep(self,hour):\n",
    "        if hour<6:\n",
    "            print(\"乖乖，继续睡觉吧！\")\n",
    "            \n",
    "        else:\n",
    "            print(\"起床！赶紧抓老鼠了！\")\n",
    "            \n",
    "            \n",
    "            \n",
    "    def show(self):\n",
    "        print(\"猫的详细信息：\")\n",
    "        print(self.nickname,self.age,self.color)\n",
    "            \n",
    "            \n",
    "c1=Cat(\"青青\",2,\"白色\")\n",
    "c1.eat(\"fish\")\n",
    "c1.catch_mouse(\"black\",1)\n",
    "c1.sleep(5)  \n",
    "c1.show()"
   ]
  },
  {
   "cell_type": "markdown",
   "metadata": {},
   "source": [
    "# 类方法"
   ]
  },
  {
   "cell_type": "raw",
   "metadata": {},
   "source": [
    "类方法\n",
    "\n",
    "特点：\n",
    "1.定义需要依赖装饰器@classmethod\n",
    "2.类方法中参数不是一个对象，而是类\n",
    "print(cls) <class'__main__.Dog>\n",
    "3.类方式中只可以使用类属性\n",
    "4.类方法中不能使用普通方法\n",
    "\n",
    "\n",
    "\n",
    "\n",
    "类方法的作用：\n",
    "因为只能访问类属性和类方法，所以可以在对象创建之前，如果需要完成一些动作(功能)\n",
    "\n",
    "@classmethod\n",
    "def test(cls):\n",
    "   print(cls)\n",
    "   \n",
    "\n",
    "\n",
    "d.test()\n",
    "类名.test()\n",
    "\n",
    "\n",
    "\n",
    "\n",
    "类中方法的调用，需要通过self.方法名()\n",
    "\n",
    "\n",
    "\n",
    "类里面__age=18 表示将年龄私有化，无法访问"
   ]
  },
  {
   "cell_type": "code",
   "execution_count": 8,
   "metadata": {},
   "outputs": [
    {
     "name": "stdout",
     "output_type": "stream",
     "text": [
      "19\n",
      "......... 19\n"
     ]
    }
   ],
   "source": [
    "class Person:\n",
    "    age=18\n",
    "    \n",
    "    \n",
    "    def show(cls):\n",
    "        print(\".........\",Person.age)\n",
    "        \n",
    "    @classmethod\n",
    "    def test(cls):\n",
    "        print(\".........>类方法\")\n",
    "        \n",
    "        \n",
    "        \n",
    "Person.age=Person.age+1\n",
    "print(Person.age)\n",
    "p=Person()\n",
    "p.show()"
   ]
  },
  {
   "cell_type": "code",
   "execution_count": 12,
   "metadata": {},
   "outputs": [
    {
     "name": "stdout",
     "output_type": "stream",
     "text": [
      ".........>类方法\n",
      "修改后的年龄是： 20\n"
     ]
    }
   ],
   "source": [
    "class Person:\n",
    "    __age=18\n",
    "    \n",
    "    \n",
    "    def show(cls):\n",
    "        print(\".........\",Person.age)\n",
    "        \n",
    "    @classmethod\n",
    "    def test(cls):\n",
    "        cls.__age=20\n",
    "        print(\".........>类方法\")\n",
    "    \n",
    "    @classmethod\n",
    "    def show_age(cls):\n",
    "        print(\"修改后的年龄是：\",cls.__age)\n",
    "        \n",
    "Person.test()\n",
    "Person.show_age()"
   ]
  },
  {
   "cell_type": "markdown",
   "metadata": {},
   "source": [
    "# 静态方法"
   ]
  },
  {
   "cell_type": "raw",
   "metadata": {},
   "source": [
    "静态方法，很类似于类方法\n",
    "1.需要装饰器@staticmethod\n",
    "2.静态方法是无需传递参数（cls,self)\n",
    "3.也只能访问类的属性和方法，对象的是无法访问的\n",
    "4.加载时机同类方法\n",
    "\n",
    "\n",
    "\n",
    "\n",
    "\n",
    "\n",
    "@staticmethod\n",
    "def test():\n",
    "   pass..........................>静态方法不带参\n",
    "   \n",
    "   \n",
    "   \n",
    "   \n",
    "   \n",
    "调用方法：\n",
    "Person.test()\n",
    "Person.show_age()\n",
    "\n",
    "\n",
    "\n",
    "类与静态的不同：\n",
    "1.装饰器不同\n",
    "2.类方法是有参数的，静态方法无参\n"
   ]
  },
  {
   "cell_type": "raw",
   "metadata": {},
   "source": [
    "魔术方法：\n",
    "\n",
    "__init__:初始化魔术方法\n",
    "触发时机：初始化对象时触发\n",
    "__new__:实例化的魔术方法\n",
    "触发时机：在实例化时触发\n",
    "__call__ 用法：跟调用函数一致p()即可 p......>表示对象\n",
    "\n",
    "__del__用法：\n",
    "1.对象赋值 p=Person()  p1=p 说明：p和p1共同指向同一个地址\n",
    "2.删除地址的引用\n",
    "  del p1 \n",
    "  \n",
    "3.查看对地址的引用次数：\n",
    "   import sys\n",
    "   sys.getrefcount(p)\n",
    "   \n",
    "4.当一块空间没有了任何引用，默认执行__del__\n",
    "    ref=0\n",
    "    \n",
    "    \n",
    "__strr__\n",
    "\n",
    "单纯打印对象名称，出来的是一个地址。地址对于开发者来说没有太大意义\n",
    "如果想在打印对象名的时候能够给开发者更多一些信息量\n",
    "\n",
    "\n",
    "触发时机：\n",
    "   打印对象名的时候\n",
    "   \n",
    "注意：一定要在__str__里面添加return，return后面的内容就是打印对象看到的内容"
   ]
  },
  {
   "cell_type": "code",
   "execution_count": 15,
   "metadata": {},
   "outputs": [
    {
     "name": "stdout",
     "output_type": "stream",
     "text": [
      ".........>new\n",
      "<__main__.Person object at 0x0000026AA4BA6988>\n",
      "........>init <__main__.Person object at 0x0000026AA4BA6988>\n",
      "...........>call\n",
      "执行对象得到参数是: jack\n"
     ]
    }
   ],
   "source": [
    "class Person:\n",
    "    def __init__(self,name):\n",
    "        print(\"........>init\",self)\n",
    "        self.name=name\n",
    "        \n",
    "    def __new__(cls,*args,**kwargs):\n",
    "        print(\".........>new\")\n",
    "        position=object.__new__(cls)\n",
    "        print(position)\n",
    "        return position\n",
    "    \n",
    "    \n",
    "    def __call__(self,name):\n",
    "        print(\"...........>call\")\n",
    "        print(\"执行对象得到参数是:\",name)\n",
    "\n",
    "p=Person(\"jack\")\n",
    "p(\"jack\")"
   ]
  },
  {
   "cell_type": "code",
   "execution_count": 28,
   "metadata": {},
   "outputs": [
    {
     "name": "stdout",
     "output_type": "stream",
     "text": [
      "........del.......\n",
      "mike\n",
      "删除q2后打印： mike\n",
      "删除q1后打印： mike\n",
      "2\n"
     ]
    }
   ],
   "source": [
    "import sys\n",
    "class Person:\n",
    "    def __init__(self,name):\n",
    "       \n",
    "        self.name=name\n",
    "        \n",
    "    def __del__(self):\n",
    "        print(\"........del.......\")\n",
    "        \n",
    "        \n",
    "    \n",
    "q=Person(\"mike\")\n",
    "q1=q\n",
    "q2=q\n",
    "print(q2.name)\n",
    "\n",
    "del q2\n",
    "print(\"删除q2后打印：\",q.name)\n",
    "del q1\n",
    "print(\"删除q1后打印：\",q.name)\n",
    "\n",
    "print(sys.getrefcount(q))"
   ]
  },
  {
   "cell_type": "code",
   "execution_count": 39,
   "metadata": {},
   "outputs": [
    {
     "name": "stdout",
     "output_type": "stream",
     "text": [
      "姓名是:judy；年龄是:29\n"
     ]
    }
   ],
   "source": [
    "class People:\n",
    "    def __init__(self,name,age):\n",
    "        self.name=name\n",
    "        self.age=age\n",
    "        \n",
    "    def __str__(self):\n",
    "        return (\"姓名是:{}；年龄是:{}\".format(self.name,self.age))\n",
    "    \n",
    "\n",
    "d1=People(\"judy\",29)\n",
    "\n",
    "print(d1)"
   ]
  },
  {
   "cell_type": "markdown",
   "metadata": {},
   "source": [
    "# 私有化"
   ]
  },
  {
   "cell_type": "raw",
   "metadata": {},
   "source": [
    "私有化\n",
    "封装：\n",
    "1.私有化的属性\n",
    "2.定义公有set和get方法\n",
    "\n",
    "__age 就是将属性私有化，访问范围仅仅限于类中了\n",
    "\n",
    "set是为了赋值\n",
    "\n",
    "\n",
    "get是为了取值\n",
    "\n",
    "\n",
    "\n",
    "\n",
    "好处：隐藏属性不被外界随意修改\n",
    "    也可以修改，可通过函数修改\n",
    "    def setXXX(self,cccc):\n",
    "       筛选赋值内容\n",
    "       if XXX 是否符合条件\n",
    "          赋值\n",
    "       else:\n",
    "         不赋值\n",
    "         \n",
    "   如果想获取具体的某一个属性\n",
    "     使用get函数\n",
    "       def getXxx(self):\n",
    "         return self.__Xxxx\n",
    " \n",
    " \n",
    " \n",
    "私有化之property装饰器\n",
    "\n",
    "@property\n",
    "    def age(self):\n",
    "        return self.__age\n",
    "    \n",
    "    @age.setter\n",
    "    def age(self,age):\n",
    "        if age>0 and age<100:\n",
    "            self.__age=age\n",
    "            \n",
    "        else:\n",
    "            print(\"不在规定的范围内！\")\n",
    "            \n",
    "            \n",
    "用以上操作即可将私有化的操作变成跟不私有化的操作一致的调用，调用形式如下\n",
    "\n",
    "q=Teacher(\"xiaowang\",18)\n",
    "q.age=20\n",
    "q.name=\"ababa1\"\n",
    "print(q.age)\n",
    "print(q.name)\n",
    "print(q)\n",
    "\n",
    " \n",
    " \n",
    " "
   ]
  },
  {
   "cell_type": "code",
   "execution_count": 8,
   "metadata": {},
   "outputs": [
    {
     "name": "stdout",
     "output_type": "stream",
     "text": [
      "姓名：yupeni，年龄：119\n"
     ]
    }
   ],
   "source": [
    "class Student:\n",
    "    def __init__(self,name,age):\n",
    "        self.__name=name\n",
    "        self.__age=age\n",
    "        \n",
    "    def setName(self,name):\n",
    "        if len(name)==6:\n",
    "            self.__name=name\n",
    "            \n",
    "        else:\n",
    "            print(\"名字必须是6位！\")\n",
    "            \n",
    "    def getName(self):\n",
    "        return\n",
    "    \n",
    "    def setAge(self,age):\n",
    "        if age>0 and age<120:\n",
    "            self.__age=age\n",
    "            \n",
    "        else:\n",
    "            print(\"年龄不在规定范围内！\")\n",
    "            \n",
    "    def getAge(self):\n",
    "        \n",
    "        return\n",
    "    \n",
    "    \n",
    "    def __str__(self):\n",
    "        return (\"姓名：{}，年龄：{}\".format(self.__name,self.__age))\n",
    "    \n",
    "\n",
    "p=Student(\"yupeni\",119)\n",
    "\n",
    "\n",
    "\n",
    "print(p)      "
   ]
  },
  {
   "cell_type": "code",
   "execution_count": 10,
   "metadata": {},
   "outputs": [
    {
     "name": "stdout",
     "output_type": "stream",
     "text": [
      "年龄不在规定范围内！\n",
      "姓名：yupeni，年龄：119\n"
     ]
    }
   ],
   "source": [
    "p.setAge(120)\n",
    "print(p)"
   ]
  },
  {
   "cell_type": "code",
   "execution_count": 12,
   "metadata": {},
   "outputs": [
    {
     "name": "stdout",
     "output_type": "stream",
     "text": [
      "名字必须是6位！\n",
      "姓名：yupeni，年龄：119\n"
     ]
    }
   ],
   "source": [
    "p.setName(\"1234567890\")\n",
    "print(p)"
   ]
  },
  {
   "cell_type": "code",
   "execution_count": 13,
   "metadata": {},
   "outputs": [
    {
     "data": {
      "text/plain": [
       "['__class__',\n",
       " '__delattr__',\n",
       " '__dict__',\n",
       " '__dir__',\n",
       " '__doc__',\n",
       " '__eq__',\n",
       " '__format__',\n",
       " '__ge__',\n",
       " '__getattribute__',\n",
       " '__gt__',\n",
       " '__hash__',\n",
       " '__init__',\n",
       " '__init_subclass__',\n",
       " '__le__',\n",
       " '__lt__',\n",
       " '__module__',\n",
       " '__ne__',\n",
       " '__new__',\n",
       " '__reduce__',\n",
       " '__reduce_ex__',\n",
       " '__repr__',\n",
       " '__setattr__',\n",
       " '__sizeof__',\n",
       " '__str__',\n",
       " '__subclasshook__',\n",
       " '__weakref__',\n",
       " 'getAge',\n",
       " 'getName',\n",
       " 'setAge',\n",
       " 'setName']"
      ]
     },
     "execution_count": 13,
     "metadata": {},
     "output_type": "execute_result"
    }
   ],
   "source": [
    "dir(Student)"
   ]
  },
  {
   "cell_type": "code",
   "execution_count": 14,
   "metadata": {},
   "outputs": [
    {
     "data": {
      "text/plain": [
       "['_Student__age',\n",
       " '_Student__name',\n",
       " '__class__',\n",
       " '__delattr__',\n",
       " '__dict__',\n",
       " '__dir__',\n",
       " '__doc__',\n",
       " '__eq__',\n",
       " '__format__',\n",
       " '__ge__',\n",
       " '__getattribute__',\n",
       " '__gt__',\n",
       " '__hash__',\n",
       " '__init__',\n",
       " '__init_subclass__',\n",
       " '__le__',\n",
       " '__lt__',\n",
       " '__module__',\n",
       " '__ne__',\n",
       " '__new__',\n",
       " '__reduce__',\n",
       " '__reduce_ex__',\n",
       " '__repr__',\n",
       " '__setattr__',\n",
       " '__sizeof__',\n",
       " '__str__',\n",
       " '__subclasshook__',\n",
       " '__weakref__',\n",
       " 'getAge',\n",
       " 'getName',\n",
       " 'setAge',\n",
       " 'setName']"
      ]
     },
     "execution_count": 14,
     "metadata": {},
     "output_type": "execute_result"
    }
   ],
   "source": [
    "dir(p)"
   ]
  },
  {
   "cell_type": "code",
   "execution_count": 16,
   "metadata": {},
   "outputs": [
    {
     "data": {
      "text/plain": [
       "119"
      ]
     },
     "execution_count": 16,
     "metadata": {},
     "output_type": "execute_result"
    }
   ],
   "source": [
    "p._Student__age"
   ]
  },
  {
   "cell_type": "raw",
   "metadata": {},
   "source": [
    "p._Student__age就是p.__age  其实就是改名了，可以访问，但是不建议访问\n",
    "\n",
    "p.__dir__()等于dir(p)"
   ]
  },
  {
   "cell_type": "code",
   "execution_count": 21,
   "metadata": {},
   "outputs": [
    {
     "name": "stdout",
     "output_type": "stream",
     "text": [
      "20\n",
      "ababa1\n",
      "姓名：ababa1，年龄：20\n"
     ]
    }
   ],
   "source": [
    "class Teacher:\n",
    "    def __init__(self,name,age):\n",
    "        self.__name=name\n",
    "        self.__age=age\n",
    "        \n",
    "    @property\n",
    "    def age(self):\n",
    "        return self.__age\n",
    "    \n",
    "    @age.setter\n",
    "    def age(self,age):\n",
    "        if age>0 and age<100:\n",
    "            self.__age=age\n",
    "            \n",
    "        else:\n",
    "            print(\"不在规定的范围内！\")\n",
    "            \n",
    "    @property\n",
    "    def name(self):\n",
    "        return self.__name\n",
    "    \n",
    "    @name.setter\n",
    "    def name(self,name):\n",
    "        if len(name)==6:\n",
    "            self.__name=name\n",
    "        else:\n",
    "            print(\"名字必须是6位！\")\n",
    "            \n",
    "\n",
    "    def __str__(self):\n",
    "        return (\"姓名：{}，年龄：{}\".format(self.__name,self.__age))        \n",
    "            \n",
    "            \n",
    "q=Teacher(\"xiaowang\",18)\n",
    "q.age=20\n",
    "q.name=\"ababa1\"\n",
    "print(q.age)\n",
    "print(q.name)\n",
    "print(q)"
   ]
  },
  {
   "cell_type": "markdown",
   "metadata": {},
   "source": [
    "# 继承"
   ]
  },
  {
   "cell_type": "raw",
   "metadata": {},
   "source": [
    "继承： is a, has a\n",
    "\n",
    "1.has a \n",
    "  一个类中使用了另外一种自定义的类型，stu 里面使用了computer 和 book 类型\n",
    "  \n",
    "2.类型：\n",
    "  系统类型：\n",
    "  str  int  float\n",
    "  list dict tuple set\n",
    "  \n",
    "  自定义类型：\n",
    "  算是自定义的类，都可以将其当成一种类型\n",
    "  s=student()\n",
    "  s是student类型的对象\n",
    "  \n",
    "  \n",
    "  \n",
    "  \n",
    "  \n",
    "  \n",
    "  \n",
    "  \n",
    "  \n",
    " 继承中的init\n",
    " \n",
    "调用父类__init__\n",
    "super().__init__()"
   ]
  },
  {
   "cell_type": "raw",
   "metadata": {},
   "source": [
    "\"\"\"\n",
    "公路（Road):\n",
    "      属性：公路名称，公路长度\n",
    "      \n",
    "      \n",
    "      \n",
    "    车（car):\n",
    "       属性：车名，时速\n",
    "       方法：1.求车名在那条公路上以多少的时速行驶了多长，\n",
    "               get time(self,road)\n",
    "               \n",
    "             2.初始化车属性信息 init 方法\n",
    "             \n",
    "              3.打印对象显示车的属性信息\n",
    "\n",
    "\n",
    "\"\"\""
   ]
  },
  {
   "cell_type": "code",
   "execution_count": 6,
   "metadata": {},
   "outputs": [
    {
     "name": "stdout",
     "output_type": "stream",
     "text": [
      "奥迪品牌的，速度:120\n",
      "奥迪品牌的车在京哈高速上以120速度行驶1小时\n"
     ]
    }
   ],
   "source": [
    "import random\n",
    "class Road:\n",
    "    def __init__(self,name,len):\n",
    "        self.name=name\n",
    "        self.len=len\n",
    "        \n",
    "    \n",
    "    \n",
    "class Car:\n",
    "    def __init__(self,brand,speed):\n",
    "        self.brand=brand\n",
    "        self.speed=speed\n",
    "        \n",
    "    def get_time(self,road):\n",
    "        ran_time=random.randint(1,10)\n",
    "        msg=\"{}品牌的车在{}上以{}速度行驶{}小时\".format(self.brand,road.name,self.speed,ran_time)\n",
    "        print(msg)\n",
    "        \n",
    "    def __str__(self):\n",
    "        return (\"{}品牌的，速度:{}\".format(self.brand,self.speed))\n",
    "    \n",
    "r=Road(\"京藏高速\",12000)\n",
    "r.name=\"京哈高速\"\n",
    "audi=Car(\"奥迪\",120)\n",
    "\n",
    "print(audi)\n",
    "\n",
    "audi.get_time(r)"
   ]
  },
  {
   "cell_type": "code",
   "execution_count": 6,
   "metadata": {},
   "outputs": [
    {
     "name": "stdout",
     "output_type": "stream",
     "text": [
      "songsong----mac-----mac book pro 2020-----深空灰----[<__main__.Book object at 0x000001E7CB1D8808>]\n"
     ]
    }
   ],
   "source": [
    "class Computer:\n",
    "    def __init__(self,brand,type,color):\n",
    "        self.brand=brand\n",
    "        self.type=type\n",
    "        self.color=color\n",
    "        \n",
    "        \n",
    "    def online(self):\n",
    "        print(\"正在使用电脑上网.....\")\n",
    "        \n",
    "    def __str__(self):\n",
    "        \n",
    "        return(self.brand +\"-----\"+ self.type +\"-----\"+ self.color)\n",
    "    \n",
    "    \n",
    "    \n",
    "class Book:\n",
    "    def __init__(self,bname,author,number):\n",
    "        self.bname=bname\n",
    "        self.author=author\n",
    "        self.number=number\n",
    "        \n",
    "        \n",
    "    def __str__(self):\n",
    "        \n",
    "        return (self.bname +\"-----\"+ self.author +\"-------\"+ str(self.number))\n",
    "    \n",
    "    \n",
    "class Student:\n",
    "    def __init__(self,name,computer,book):\n",
    "        self.name=name\n",
    "        self.computer=computer\n",
    "        self.books=[]\n",
    "        self.books.append(book)\n",
    "        \n",
    "        \n",
    "    def borrow_book(self,book):\n",
    "        for book1 in self.books:\n",
    "            if book1.bname==book.bname:\n",
    "                print(\"已经借过此书！\")\n",
    "                break\n",
    "            else:\n",
    "                self.books.append(book)\n",
    "                print(\"借书成功！\")\n",
    "    \n",
    "    def show_book(self):\n",
    "        for book in self.books:\n",
    "            print(book.bname)\n",
    "            \n",
    "    \n",
    "    def __str__(self):\n",
    "        return (self.name +\"----\"+ str(self.computer) +\"----\"+ str(self.books))\n",
    "    \n",
    "    \n",
    "    \n",
    "    \n",
    "computer=Computer(\"mac\",\"mac book pro 2020\",\"深空灰\")\n",
    "\n",
    "book=Book(\"盗墓笔记\",\"南派三叔\",15)\n",
    "\n",
    "stu=Student(\"songsong\",computer,book)\n",
    "\n",
    "print(stu)\n",
    "        "
   ]
  },
  {
   "cell_type": "code",
   "execution_count": 7,
   "metadata": {},
   "outputs": [
    {
     "name": "stdout",
     "output_type": "stream",
     "text": [
      "盗墓笔记\n",
      "借书成功！\n",
      "已经借过此书！\n"
     ]
    }
   ],
   "source": [
    "stu.show_book()\n",
    "\n",
    "book1=Book(\"鬼吹灯\",\"天下霸唱\",9)\n",
    "\n",
    "stu.borrow_book(book1)"
   ]
  },
  {
   "cell_type": "code",
   "execution_count": 8,
   "metadata": {},
   "outputs": [
    {
     "name": "stdout",
     "output_type": "stream",
     "text": [
      "盗墓笔记\n",
      "鬼吹灯\n"
     ]
    }
   ],
   "source": [
    "stu.show_book()"
   ]
  },
  {
   "cell_type": "markdown",
   "metadata": {},
   "source": [
    "以上再看看"
   ]
  },
  {
   "cell_type": "raw",
   "metadata": {},
   "source": [
    "is a   base class 父类 基类\n",
    "\n",
    "\n",
    "继承：\n",
    "  Student, Employee, Doctor .......>都属于人类\n",
    "  相同代码......>代码冗余，可读性不高\n",
    "  \n",
    "  将相同代码提取......>person 类\n",
    "  \n",
    "  格式：\n",
    "  class Student(Person):\n",
    "      pass\n",
    "  \n",
    "  \n",
    "  \n",
    "  \n",
    "  \n",
    "特点：\n",
    "1.如果类中不定义__init__,调用父类 super class的__init__\n",
    "\n",
    "2.如果类继承父类也需要定义自己的__init__,就需要在当前类的__init__调用一下父类__init__\n",
    "\n",
    "3.如何调用父类__init__:\n",
    "  super().__init(参数)\n",
    "  super(类名，对象）.__init__(参数）\n",
    "  \n",
    "4.如果父类有eat(),子类也定义一个eat方法，默认搜索的原则：先找当前类，再去找父类\n",
    "  s.eat()\n",
    "  override: 重写\n",
    "  父类中的方法不能满足子类的需求时，需要在子类同名重写一下\n",
    "5.子类的方法中可以调用父类的方法\n",
    "  super().方法名(参数)"
   ]
  },
  {
   "cell_type": "code",
   "execution_count": 3,
   "metadata": {},
   "outputs": [],
   "source": [
    "class Person:\n",
    "    def __init__(self):\n",
    "        self.name=\"匿名\"\n",
    "        self.age=18\n",
    "        \n",
    "    def eat(self):\n",
    "        print(self.name+\"正在吃饭.........\")\n",
    "        \n",
    "    def run(self):\n",
    "        print(self.name+\"正在跑步......\")\n",
    "        \n",
    "class Student(Person):\n",
    "    pass\n",
    "\n",
    "\n",
    "class Employee(Person):\n",
    "    pass\n",
    "\n",
    "class Doctor(Person):\n",
    "    pass\n",
    "\n"
   ]
  },
  {
   "cell_type": "code",
   "execution_count": 4,
   "metadata": {},
   "outputs": [
    {
     "name": "stdout",
     "output_type": "stream",
     "text": [
      "匿名正在吃饭.........\n"
     ]
    }
   ],
   "source": [
    "s=Student()\n",
    "s.eat()"
   ]
  },
  {
   "cell_type": "code",
   "execution_count": 6,
   "metadata": {},
   "outputs": [
    {
     "name": "stdout",
     "output_type": "stream",
     "text": [
      "..............>男孩\n",
      "匿名正在跑步......\n"
     ]
    }
   ],
   "source": [
    "class Boy(Person):\n",
    "    def __init__(self):\n",
    "        print(\"..............>男孩\")\n",
    "        super().__init__()\n",
    "\n",
    "b=Boy()\n",
    "b.run()"
   ]
  },
  {
   "cell_type": "code",
   "execution_count": 7,
   "metadata": {},
   "outputs": [],
   "source": [
    "class Person:\n",
    "    def __init__(self,name,age):\n",
    "        self.name=name\n",
    "        self.age=age\n",
    "        \n",
    "    def eat(self):\n",
    "        print(self.name+\"正在吃饭.........\")\n",
    "        \n",
    "    def run(self):\n",
    "        print(self.name+\"正在跑步......\")\n",
    "        \n",
    "class Student(Person):\n",
    "    def __init__(self,name,age,clazz):\n",
    "        super().__init__(name,age)\n",
    "        self.clazz=clazz\n",
    "\n",
    "\n",
    "class Employee(Person):\n",
    "    def __init__(self,name,age,salary,manager):\n",
    "        super().__init__(name,age)\n",
    "        self.salary=salary\n",
    "        self.manager=manager\n",
    "\n",
    "class Doctor(Person):\n",
    "    def __init__(self,name,age,hospital,patients):\n",
    "        super().__init__(name,age)\n",
    "        self.hospital=hospital\n",
    "        self.patients=patients\n",
    "        \n",
    "        "
   ]
  },
  {
   "cell_type": "code",
   "execution_count": 9,
   "metadata": {},
   "outputs": [
    {
     "name": "stdout",
     "output_type": "stream",
     "text": [
      "jack正在跑步......\n"
     ]
    }
   ],
   "source": [
    "s=Student(\"jack\",20,\"16金融2\")\n",
    "\n",
    "s.run()\n",
    "e=Employee(\"wangwu\",39,5000,\"峰老板\")\n",
    "\n",
    "list1=[\"zhangzi\",\"wangchou\",\"lidan\",\"zhaoyin\"]\n",
    "d=Doctor(\"xiaoliu\",45,\"陆军医院\",list1)\n"
   ]
  },
  {
   "cell_type": "markdown",
   "metadata": {},
   "source": [
    "# 继承练习"
   ]
  },
  {
   "cell_type": "raw",
   "metadata": {},
   "source": [
    "工资管理程序\n",
    "四类人：worker saleman manager salemanger\n",
    "都有员工号，姓名，工资等属性，工资=hour*salary/hour\n",
    "1.工人：属性有工作小时数以及时薪\n",
    "2.销售员：属性有销售额和提成比例 工资=销售额*提成比例\n",
    "3.经理：属性：固定月薪\n",
    "4.销售经理：销售额*提成比例+固定月薪\n",
    "\n",
    "添加所有类型的人员\n",
    "计算月薪\n",
    "显示所有人工资情况"
   ]
  },
  {
   "cell_type": "code",
   "execution_count": 26,
   "metadata": {},
   "outputs": [],
   "source": [
    "class Person:\n",
    "    def __init__(self,staffnumber,name,salary):\n",
    "        self.staffnumber=staffnumber\n",
    "        self.name=name\n",
    "        self.salary=salary\n",
    "    \n",
    "    def __str__(self):\n",
    "        msg=\"工号:{},姓名:{},本月工资:{}\".format(self.staffnumber,self.name,self.salary)\n",
    "        return msg\n",
    "    \n",
    "    def get_salary(self):\n",
    "        return self.salary\n",
    "        \n",
    "        \n",
    "\n",
    "class Worker(Person):\n",
    "    def __init__(self,staffnumber,name,salary,hour,tsalary):\n",
    "        super().__init__(staffnumber,name,salary)\n",
    "        self.hour=hour\n",
    "        self.tsalary=tsalary\n",
    "     \n",
    "    def get_salary(self):\n",
    "        \n",
    "        money=self.hour*self.tsalary\n",
    "        \n",
    "        self.salary+=money\n",
    "        \n",
    "        return self.salary\n",
    "        \n",
    "        \n",
    "        \n",
    "class Saleman(Person):\n",
    "    def __init__(self,staffnumber,name,salary,salemount,percent):\n",
    "        super().__init__(staffnumber,name,salary)\n",
    "        self.salemount=salemount\n",
    "        self.percent=percent\n",
    "    \n",
    "    def get_salary(self):\n",
    "        money=self.salemount*self.percent\n",
    "        self.salary+=money\n",
    "        \n",
    "        return self.salary\n",
    "        \n",
    "       \n",
    "        \n",
    "        \n",
    "class Manager(Person):\n",
    "    def __init__(self,staffnumber,name,salary):\n",
    "        super().__init__(staffnumber,name,salary)\n",
    "        \n",
    "        \n",
    "        \n",
    "class Salemanager(Person):\n",
    "    def __init__(self,staffnumber,name,salemount,percent,salary):\n",
    "        super().__init__(staffnumber,name,salary)\n",
    "        self.salemount=salemount\n",
    "        self.percent=percent\n",
    "    \n",
    "    \n",
    "    def get_salary(self):\n",
    "        money=self.salemount*self.percent\n",
    "        self.salary+=money\n",
    "        \n",
    "        return self.salary   \n",
    "\n",
    "        \n"
   ]
  },
  {
   "cell_type": "code",
   "execution_count": 22,
   "metadata": {},
   "outputs": [
    {
     "name": "stdout",
     "output_type": "stream",
     "text": [
      "工号:122,姓名:王五,本月工资:135\n"
     ]
    }
   ],
   "source": [
    "w=Worker(122,\"王五\",0,9,15)\n",
    "w.get_salary()\n",
    "print(w)"
   ]
  },
  {
   "cell_type": "code",
   "execution_count": 31,
   "metadata": {},
   "outputs": [
    {
     "name": "stdout",
     "output_type": "stream",
     "text": [
      "工号:111,姓名:lili,本月工资:7500.0\n"
     ]
    }
   ],
   "source": [
    "s=Saleman(111,\"lili\",0,50000,0.15)\n",
    "s.get_salary()\n",
    "print(s)"
   ]
  },
  {
   "cell_type": "code",
   "execution_count": 34,
   "metadata": {},
   "outputs": [
    {
     "name": "stdout",
     "output_type": "stream",
     "text": [
      "工号:120,姓名:狗子,本月工资:8000\n"
     ]
    }
   ],
   "source": [
    "m=Manager(120,\"狗子\",8000)\n",
    "print(m)"
   ]
  },
  {
   "cell_type": "code",
   "execution_count": 35,
   "metadata": {},
   "outputs": [
    {
     "name": "stdout",
     "output_type": "stream",
     "text": [
      "工号:109,姓名:阿毛,本月工资:22100.0\n"
     ]
    }
   ],
   "source": [
    "sa=Salemanager(109,\"阿毛\",90000,0.19,5000)\n",
    "sa.get_salary()\n",
    "print(sa)"
   ]
  },
  {
   "cell_type": "markdown",
   "metadata": {},
   "source": [
    "# 多继承与搜索顺序"
   ]
  },
  {
   "cell_type": "raw",
   "metadata": {},
   "source": [
    "多继承的搜索顺序：经典类  新式类\n",
    "\n",
    "经典类：从左至右，深度优先\n",
    "\n",
    "新式类：从左至右，广度优先（这是目前的）\n",
    "\n",
    "类名.__mro__查看搜索顺序"
   ]
  },
  {
   "cell_type": "code",
   "execution_count": 38,
   "metadata": {},
   "outputs": [],
   "source": [
    "class A:\n",
    "    def test(self):\n",
    "        print(\".........>AAAAAAAA\")\n",
    "        \n",
    "        \n",
    "class B:\n",
    "    def test1(self):\n",
    "        print(\"............BBBBBBBBB\")\n",
    "        \n",
    "        \n",
    "class C(A,B):\n",
    "    def test(self):\n",
    "        print(\"............CCCCCCCCCCCCCCCCCCC\")"
   ]
  },
  {
   "cell_type": "code",
   "execution_count": 44,
   "metadata": {},
   "outputs": [
    {
     "name": "stdout",
     "output_type": "stream",
     "text": [
      "............CCCCCCCCCCCCCCCCCCC\n",
      "............BBBBBBBBB\n",
      "(<class '__main__.C'>, <class '__main__.A'>, <class '__main__.B'>, <class 'object'>)\n"
     ]
    }
   ],
   "source": [
    "import inspect\n",
    "d=C()\n",
    "d.test()\n",
    "d.test1()\n",
    "print(C.__mro__)"
   ]
  },
  {
   "cell_type": "markdown",
   "metadata": {},
   "source": [
    "# 多态"
   ]
  },
  {
   "cell_type": "code",
   "execution_count": 47,
   "metadata": {},
   "outputs": [
    {
     "name": "stdout",
     "output_type": "stream",
     "text": [
      "佳伟喜欢养宠物:猫,昵称是:花花\n",
      "不是宠物类型......\n"
     ]
    }
   ],
   "source": [
    "class Person:\n",
    "    def __init__(self,name):\n",
    "        self.name=name\n",
    "        \n",
    "    def feed_pet(self,pet):\n",
    "        \n",
    "        if isinstance(pet,Pet):\n",
    "            \n",
    "            print(\"{}喜欢养宠物:{},昵称是:{}\".format(self.name,pet.role,pet.nickname))\n",
    "            \n",
    "        else:\n",
    "            print(\"不是宠物类型......\")\n",
    "        \n",
    "        \n",
    "class Pet:\n",
    "    role=\"pet\"\n",
    "    def __init__(self,nickname,age):\n",
    "        self.nickname=nickname\n",
    "        self.age=age\n",
    "        \n",
    "        \n",
    "    def show(self):\n",
    "        print(\"昵称:{},年龄:{}\".format(self.nickname,self.age))\n",
    "        \n",
    "        \n",
    "class Cat(Pet):\n",
    "    role=\"猫\"\n",
    "    def catch_mouse(self):\n",
    "        print(\"抓老鼠......\")\n",
    "        \n",
    "        \n",
    "        \n",
    "class Dog(Pet):\n",
    "    role=\"狗\"\n",
    "    def watch_house(self):\n",
    "        print(\"看家高手......\")\n",
    "        \n",
    "class Tiger:\n",
    "    def eat(self):\n",
    "        print(\"太可怕了，会吃人！！！\")\n",
    "        \n",
    "cat=Cat(\"花花\",4)\n",
    "dog=Dog(\"嘟嘟\",2)\n",
    "person=Person(\"佳伟\")\n",
    "person.feed_pet(cat)\n",
    "tiger=Tiger()\n",
    "person=Person(\"鹏\")\n",
    "person.feed_pet(tiger)"
   ]
  },
  {
   "cell_type": "markdown",
   "metadata": {},
   "source": [
    "以上内容在回顾一下"
   ]
  },
  {
   "cell_type": "markdown",
   "metadata": {},
   "source": [
    "在父类当中私有的部分在子类当中是无法继承的"
   ]
  },
  {
   "cell_type": "code",
   "execution_count": null,
   "metadata": {},
   "outputs": [],
   "source": []
  }
 ],
 "metadata": {
  "kernelspec": {
   "display_name": "Python 3",
   "language": "python",
   "name": "python3"
  },
  "language_info": {
   "codemirror_mode": {
    "name": "ipython",
    "version": 3
   },
   "file_extension": ".py",
   "mimetype": "text/x-python",
   "name": "python",
   "nbconvert_exporter": "python",
   "pygments_lexer": "ipython3",
   "version": "3.7.6"
  }
 },
 "nbformat": 4,
 "nbformat_minor": 4
}
