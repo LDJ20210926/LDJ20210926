{
 "cells": [
  {
   "cell_type": "raw",
   "metadata": {},
   "source": [
    "模块：\n",
    "把功能相近的函数放到一个文件中，一个文件（.py)就是一个模块\n",
    "模块名就是文件名去掉后缀\n",
    "\n",
    "提高可复用，可维护性\n",
    "解决命名冲突\n",
    "\n",
    "\n",
    "1.自定义模块\n",
    "2.使用系统模块\n",
    "\n",
    "\n",
    "导入模块：\n",
    "1. import 模块名\n",
    "  模块名.变量  模块名.函数  模块名.类\n",
    "  \n",
    "  \n",
    "2.from 模块名 import 变量（函数）（类）\n",
    "\n",
    "  在代码中可以直接使用变量，函数，类\n",
    "  \n",
    "3.from 模块名 import *\n",
    "  该模块中所有的内容\n",
    "  \n",
    "  __all__=[\"add\",\"number\"]限制调用，里面的可以调用，不在里面的无法调用\n",
    "  \n",
    "  \n",
    "4.无论是import还是from的形式，都会将模块中的内容进行加载（函数也会被执行）\n",
    "  如果不希望其执行，就会用到__name__\n",
    "  在自己的模块里面__name__叫：__main__\n",
    "  如果在其他模块中通过导入的方式调用的话：__name__：模块名"
   ]
  },
  {
   "cell_type": "code",
   "execution_count": 39,
   "metadata": {},
   "outputs": [],
   "source": [
    "def add(*args):\n",
    "    if len(args)>1:\n",
    "        total=0\n",
    "        for i in args:\n",
    "            total+=i\n",
    "        return total\n",
    "    else:\n",
    "        print(\"至少传入两个函数！\")\n",
    "        \n",
    "def minus(*args):\n",
    "    if len(args)>1:\n",
    "        m=0\n",
    "        for i in args:\n",
    "            m-=i\n",
    "        return total\n",
    "    else:\n",
    "        print(\"至少传入两个函数！\")\n",
    "        \n",
    "        \n",
    "def multiply(*args):\n",
    "    if len(args)>1:\n",
    "        s=1\n",
    "        for i in args:\n",
    "            s*=i\n",
    "        return s\n",
    "    else:\n",
    "        print(\"至少传入两个参数！\")\n",
    "\n",
    "def divide(*args):\n",
    "    if len(args)>1:\n",
    "        try:\n",
    "            t=args[0]\n",
    "            i=1\n",
    "            while i<len(args):\n",
    "\n",
    "                t/=args[i]\n",
    "                i+=1\n",
    "            return t\n",
    "        \n",
    "        except ZeroDivisionError:\n",
    "            print(\"输入有误！\")\n",
    "        \n",
    "              \n",
    "    else:\n",
    "        print(\"至少传入两个参数！\")\n",
    "            \n"
   ]
  },
  {
   "cell_type": "code",
   "execution_count": 22,
   "metadata": {},
   "outputs": [
    {
     "data": {
      "text/plain": [
       "7200"
      ]
     },
     "execution_count": 22,
     "metadata": {},
     "output_type": "execute_result"
    }
   ],
   "source": [
    "list1=[2,2,3,4,5,5,6]\n",
    "multiply(*list1)"
   ]
  },
  {
   "cell_type": "code",
   "execution_count": 23,
   "metadata": {},
   "outputs": [
    {
     "name": "stdout",
     "output_type": "stream",
     "text": [
      "至少传入两个参数！\n"
     ]
    }
   ],
   "source": [
    "list2=[1]\n",
    "multiply(*list2)"
   ]
  },
  {
   "cell_type": "code",
   "execution_count": 41,
   "metadata": {},
   "outputs": [
    {
     "data": {
      "text/plain": [
       "0.0005555555555555556"
      ]
     },
     "execution_count": 41,
     "metadata": {},
     "output_type": "execute_result"
    }
   ],
   "source": [
    "list3=[2,2,3,4,5,5,6]\n",
    "\n",
    "divide(*list3)"
   ]
  },
  {
   "cell_type": "code",
   "execution_count": 40,
   "metadata": {},
   "outputs": [
    {
     "name": "stdout",
     "output_type": "stream",
     "text": [
      "输入有误！\n"
     ]
    }
   ],
   "source": [
    "list4=[2,0,1]\n",
    "divide(*list4)"
   ]
  },
  {
   "cell_type": "code",
   "execution_count": 32,
   "metadata": {},
   "outputs": [
    {
     "name": "stdout",
     "output_type": "stream",
     "text": [
      "2\n",
      "0\n",
      "1\n"
     ]
    }
   ],
   "source": [
    "list5=[2,0,1]\n",
    "for i in list5:\n",
    "    print(i)"
   ]
  },
  {
   "cell_type": "code",
   "execution_count": 42,
   "metadata": {},
   "outputs": [
    {
     "data": {
      "text/plain": [
       "27"
      ]
     },
     "execution_count": 42,
     "metadata": {},
     "output_type": "execute_result"
    }
   ],
   "source": [
    "list6=[2,2,3,4,5,5,6]\n",
    "add(*list6)"
   ]
  },
  {
   "cell_type": "code",
   "execution_count": null,
   "metadata": {},
   "outputs": [],
   "source": []
  }
 ],
 "metadata": {
  "kernelspec": {
   "display_name": "Python 3",
   "language": "python",
   "name": "python3"
  },
  "language_info": {
   "codemirror_mode": {
    "name": "ipython",
    "version": 3
   },
   "file_extension": ".py",
   "mimetype": "text/x-python",
   "name": "python",
   "nbconvert_exporter": "python",
   "pygments_lexer": "ipython3",
   "version": "3.7.6"
  }
 },
 "nbformat": 4,
 "nbformat_minor": 4
}
